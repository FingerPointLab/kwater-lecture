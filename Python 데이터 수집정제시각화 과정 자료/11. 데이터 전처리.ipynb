{
 "cells": [
  {
   "cell_type": "markdown",
   "metadata": {
    "id": "mTt7qGUTCcFs"
   },
   "source": [
    "# 데이터 전처리"
   ]
  },
  {
   "cell_type": "markdown",
   "metadata": {
    "id": "SvYHGMwKUGWA"
   },
   "source": [
    "## 0.환경준비"
   ]
  },
  {
   "cell_type": "markdown",
   "metadata": {
    "id": "BHx_ZdUyUGWA"
   },
   "source": [
    "### (1) Import"
   ]
  },
  {
   "cell_type": "code",
   "execution_count": 1,
   "metadata": {
    "id": "0CKXfg8cUGWB"
   },
   "outputs": [],
   "source": [
    "# 기본 라이브러리 가져오기\n",
    "import pandas as pd\n",
    "import numpy as np\n",
    "\n",
    "import matplotlib.pyplot as plt\n",
    "import seaborn as sns"
   ]
  },
  {
   "cell_type": "markdown",
   "metadata": {
    "id": "Z7bR5d9HUGWB"
   },
   "source": [
    "### (2) Data Loading"
   ]
  },
  {
   "cell_type": "code",
   "execution_count": 2,
   "metadata": {
    "id": "rCzJVmxuUGWC"
   },
   "outputs": [
    {
     "data": {
      "text/html": [
       "<div>\n",
       "<style scoped>\n",
       "    .dataframe tbody tr th:only-of-type {\n",
       "        vertical-align: middle;\n",
       "    }\n",
       "\n",
       "    .dataframe tbody tr th {\n",
       "        vertical-align: top;\n",
       "    }\n",
       "\n",
       "    .dataframe thead th {\n",
       "        text-align: right;\n",
       "    }\n",
       "</style>\n",
       "<table border=\"1\" class=\"dataframe\">\n",
       "  <thead>\n",
       "    <tr style=\"text-align: right;\">\n",
       "      <th></th>\n",
       "      <th>Survived</th>\n",
       "      <th>Pclass</th>\n",
       "      <th>Sex</th>\n",
       "      <th>Age</th>\n",
       "      <th>SibSp</th>\n",
       "      <th>Parch</th>\n",
       "      <th>Fare</th>\n",
       "      <th>Cabin</th>\n",
       "      <th>Embarked</th>\n",
       "    </tr>\n",
       "  </thead>\n",
       "  <tbody>\n",
       "    <tr>\n",
       "      <th>0</th>\n",
       "      <td>0</td>\n",
       "      <td>3</td>\n",
       "      <td>male</td>\n",
       "      <td>22.0</td>\n",
       "      <td>1</td>\n",
       "      <td>0</td>\n",
       "      <td>7.2500</td>\n",
       "      <td>NaN</td>\n",
       "      <td>S</td>\n",
       "    </tr>\n",
       "    <tr>\n",
       "      <th>1</th>\n",
       "      <td>1</td>\n",
       "      <td>1</td>\n",
       "      <td>female</td>\n",
       "      <td>38.0</td>\n",
       "      <td>1</td>\n",
       "      <td>0</td>\n",
       "      <td>71.2833</td>\n",
       "      <td>C85</td>\n",
       "      <td>C</td>\n",
       "    </tr>\n",
       "    <tr>\n",
       "      <th>2</th>\n",
       "      <td>1</td>\n",
       "      <td>3</td>\n",
       "      <td>female</td>\n",
       "      <td>26.0</td>\n",
       "      <td>0</td>\n",
       "      <td>0</td>\n",
       "      <td>7.9250</td>\n",
       "      <td>NaN</td>\n",
       "      <td>S</td>\n",
       "    </tr>\n",
       "    <tr>\n",
       "      <th>3</th>\n",
       "      <td>1</td>\n",
       "      <td>1</td>\n",
       "      <td>female</td>\n",
       "      <td>35.0</td>\n",
       "      <td>1</td>\n",
       "      <td>0</td>\n",
       "      <td>53.1000</td>\n",
       "      <td>C123</td>\n",
       "      <td>S</td>\n",
       "    </tr>\n",
       "    <tr>\n",
       "      <th>4</th>\n",
       "      <td>0</td>\n",
       "      <td>3</td>\n",
       "      <td>male</td>\n",
       "      <td>35.0</td>\n",
       "      <td>0</td>\n",
       "      <td>0</td>\n",
       "      <td>8.0500</td>\n",
       "      <td>NaN</td>\n",
       "      <td>S</td>\n",
       "    </tr>\n",
       "  </tbody>\n",
       "</table>\n",
       "</div>"
      ],
      "text/plain": [
       "   Survived  Pclass     Sex   Age  SibSp  Parch     Fare Cabin Embarked\n",
       "0         0       3    male  22.0      1      0   7.2500   NaN        S\n",
       "1         1       1  female  38.0      1      0  71.2833   C85        C\n",
       "2         1       3  female  26.0      0      0   7.9250   NaN        S\n",
       "3         1       1  female  35.0      1      0  53.1000  C123        S\n",
       "4         0       3    male  35.0      0      0   8.0500   NaN        S"
      ]
     },
     "execution_count": 2,
     "metadata": {},
     "output_type": "execute_result"
    }
   ],
   "source": [
    "# titanic\n",
    "path = 'https://raw.githubusercontent.com/DA4BAM/dataset/master/titanic.0.csv'\n",
    "titanic = pd.read_csv(path, usecols = ['Survived','Pclass','Sex','Age','SibSp','Parch','Fare','Cabin','Embarked'])\n",
    "titanic.head()"
   ]
  },
  {
   "cell_type": "code",
   "execution_count": 3,
   "metadata": {
    "id": "YCjsqENyfwtp"
   },
   "outputs": [
    {
     "data": {
      "text/html": [
       "<div>\n",
       "<style scoped>\n",
       "    .dataframe tbody tr th:only-of-type {\n",
       "        vertical-align: middle;\n",
       "    }\n",
       "\n",
       "    .dataframe tbody tr th {\n",
       "        vertical-align: top;\n",
       "    }\n",
       "\n",
       "    .dataframe thead th {\n",
       "        text-align: right;\n",
       "    }\n",
       "</style>\n",
       "<table border=\"1\" class=\"dataframe\">\n",
       "  <thead>\n",
       "    <tr style=\"text-align: right;\">\n",
       "      <th></th>\n",
       "      <th>Ozone</th>\n",
       "      <th>Solar.R</th>\n",
       "      <th>Wind</th>\n",
       "      <th>Temp</th>\n",
       "      <th>Date</th>\n",
       "      <th>Month</th>\n",
       "      <th>WeekDay</th>\n",
       "    </tr>\n",
       "  </thead>\n",
       "  <tbody>\n",
       "    <tr>\n",
       "      <th>0</th>\n",
       "      <td>41</td>\n",
       "      <td>190.0</td>\n",
       "      <td>7.4</td>\n",
       "      <td>67</td>\n",
       "      <td>1973-05-01</td>\n",
       "      <td>5</td>\n",
       "      <td>Tuesday</td>\n",
       "    </tr>\n",
       "    <tr>\n",
       "      <th>1</th>\n",
       "      <td>36</td>\n",
       "      <td>118.0</td>\n",
       "      <td>8.0</td>\n",
       "      <td>72</td>\n",
       "      <td>1973-05-02</td>\n",
       "      <td>5</td>\n",
       "      <td>Wednesday</td>\n",
       "    </tr>\n",
       "    <tr>\n",
       "      <th>2</th>\n",
       "      <td>12</td>\n",
       "      <td>149.0</td>\n",
       "      <td>12.6</td>\n",
       "      <td>74</td>\n",
       "      <td>1973-05-03</td>\n",
       "      <td>5</td>\n",
       "      <td>Thursday</td>\n",
       "    </tr>\n",
       "    <tr>\n",
       "      <th>3</th>\n",
       "      <td>18</td>\n",
       "      <td>313.0</td>\n",
       "      <td>11.5</td>\n",
       "      <td>62</td>\n",
       "      <td>1973-05-04</td>\n",
       "      <td>5</td>\n",
       "      <td>Friday</td>\n",
       "    </tr>\n",
       "    <tr>\n",
       "      <th>4</th>\n",
       "      <td>19</td>\n",
       "      <td>NaN</td>\n",
       "      <td>14.3</td>\n",
       "      <td>56</td>\n",
       "      <td>1973-05-05</td>\n",
       "      <td>5</td>\n",
       "      <td>Saturday</td>\n",
       "    </tr>\n",
       "  </tbody>\n",
       "</table>\n",
       "</div>"
      ],
      "text/plain": [
       "   Ozone  Solar.R  Wind  Temp       Date  Month    WeekDay\n",
       "0     41    190.0   7.4    67 1973-05-01      5    Tuesday\n",
       "1     36    118.0   8.0    72 1973-05-02      5  Wednesday\n",
       "2     12    149.0  12.6    74 1973-05-03      5   Thursday\n",
       "3     18    313.0  11.5    62 1973-05-04      5     Friday\n",
       "4     19      NaN  14.3    56 1973-05-05      5   Saturday"
      ]
     },
     "execution_count": 3,
     "metadata": {},
     "output_type": "execute_result"
    }
   ],
   "source": [
    "# airquality\n",
    "path = 'https://raw.githubusercontent.com/DA4BAM/dataset/master/air2.csv'\n",
    "air = pd.read_csv(path)\n",
    "air['Date'] = pd.to_datetime(air['Date'])\n",
    "air['Month'] = air['Date'].dt.month\n",
    "air['WeekDay'] = air['Date'].dt.day_name()\n",
    "air.head()"
   ]
  },
  {
   "cell_type": "markdown",
   "metadata": {
    "id": "YIRiMPMmXI4R"
   },
   "source": [
    "## 1.전처리"
   ]
  },
  {
   "cell_type": "markdown",
   "metadata": {
    "id": "Xwsf4-xVgCam"
   },
   "source": [
    "### (1) 데이터 분할\n",
    "\n",
    "* x, y 분할하기"
   ]
  },
  {
   "cell_type": "markdown",
   "metadata": {
    "id": "oqbARUlraJ7M"
   },
   "source": [
    "데이터를 X와 y로 나누기\n",
    "> * X : features, input, 조작변수, 요인, (독립변수)\n",
    "* y : target, output, 결과변수, label, (종속변수) "
   ]
  },
  {
   "cell_type": "markdown",
   "metadata": {
    "id": "aKrq4N0oaITC"
   },
   "source": [
    "![image.png](data:image/png;base64,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)"
   ]
  },
  {
   "cell_type": "code",
   "execution_count": 4,
   "metadata": {
    "id": "IsRwV82-UPhx"
   },
   "outputs": [],
   "source": [
    "target = 'Survived'\n",
    "x = titanic.drop(target, axis = 1)\n",
    "y = titanic.loc[:, target]"
   ]
  },
  {
   "cell_type": "markdown",
   "metadata": {
    "id": "XEa4uvZphL_y"
   },
   "source": [
    "* train, validation, test 분할은 머신러닝 과정에서 다룹니다."
   ]
  },
  {
   "cell_type": "markdown",
   "metadata": {
    "id": "xSWBmU_Yeu5A"
   },
   "source": [
    "<p color='red'>연습문제</p>"
   ]
  },
  {
   "cell_type": "markdown",
   "metadata": {
    "id": "e0wN1iAZfdCX"
   },
   "source": [
    "* (1) air 데이터프레임에서 y 는 Ozone 입니다. x, y로 분할해 봅시다.\n",
    "    * 단, x, y의 이름은 x_air, y_air 로 지정합니다."
   ]
  },
  {
   "cell_type": "code",
   "execution_count": 5,
   "metadata": {
    "id": "xcbm-nl7f3eB"
   },
   "outputs": [],
   "source": [
    "target = 'Ozone'\n",
    "x_air = air.drop(target, axis = 1)\n",
    "y_air = air.loc[:, target] # air[target]"
   ]
  },
  {
   "cell_type": "code",
   "execution_count": 6,
   "metadata": {},
   "outputs": [
    {
     "data": {
      "text/html": [
       "<div>\n",
       "<style scoped>\n",
       "    .dataframe tbody tr th:only-of-type {\n",
       "        vertical-align: middle;\n",
       "    }\n",
       "\n",
       "    .dataframe tbody tr th {\n",
       "        vertical-align: top;\n",
       "    }\n",
       "\n",
       "    .dataframe thead th {\n",
       "        text-align: right;\n",
       "    }\n",
       "</style>\n",
       "<table border=\"1\" class=\"dataframe\">\n",
       "  <thead>\n",
       "    <tr style=\"text-align: right;\">\n",
       "      <th></th>\n",
       "      <th>Solar.R</th>\n",
       "      <th>Wind</th>\n",
       "      <th>Temp</th>\n",
       "      <th>Date</th>\n",
       "      <th>Month</th>\n",
       "      <th>WeekDay</th>\n",
       "    </tr>\n",
       "  </thead>\n",
       "  <tbody>\n",
       "    <tr>\n",
       "      <th>0</th>\n",
       "      <td>190.0</td>\n",
       "      <td>7.4</td>\n",
       "      <td>67</td>\n",
       "      <td>1973-05-01</td>\n",
       "      <td>5</td>\n",
       "      <td>Tuesday</td>\n",
       "    </tr>\n",
       "    <tr>\n",
       "      <th>1</th>\n",
       "      <td>118.0</td>\n",
       "      <td>8.0</td>\n",
       "      <td>72</td>\n",
       "      <td>1973-05-02</td>\n",
       "      <td>5</td>\n",
       "      <td>Wednesday</td>\n",
       "    </tr>\n",
       "    <tr>\n",
       "      <th>2</th>\n",
       "      <td>149.0</td>\n",
       "      <td>12.6</td>\n",
       "      <td>74</td>\n",
       "      <td>1973-05-03</td>\n",
       "      <td>5</td>\n",
       "      <td>Thursday</td>\n",
       "    </tr>\n",
       "    <tr>\n",
       "      <th>3</th>\n",
       "      <td>313.0</td>\n",
       "      <td>11.5</td>\n",
       "      <td>62</td>\n",
       "      <td>1973-05-04</td>\n",
       "      <td>5</td>\n",
       "      <td>Friday</td>\n",
       "    </tr>\n",
       "    <tr>\n",
       "      <th>4</th>\n",
       "      <td>NaN</td>\n",
       "      <td>14.3</td>\n",
       "      <td>56</td>\n",
       "      <td>1973-05-05</td>\n",
       "      <td>5</td>\n",
       "      <td>Saturday</td>\n",
       "    </tr>\n",
       "  </tbody>\n",
       "</table>\n",
       "</div>"
      ],
      "text/plain": [
       "   Solar.R  Wind  Temp       Date  Month    WeekDay\n",
       "0    190.0   7.4    67 1973-05-01      5    Tuesday\n",
       "1    118.0   8.0    72 1973-05-02      5  Wednesday\n",
       "2    149.0  12.6    74 1973-05-03      5   Thursday\n",
       "3    313.0  11.5    62 1973-05-04      5     Friday\n",
       "4      NaN  14.3    56 1973-05-05      5   Saturday"
      ]
     },
     "execution_count": 6,
     "metadata": {},
     "output_type": "execute_result"
    }
   ],
   "source": [
    "x_air.head()"
   ]
  },
  {
   "cell_type": "markdown",
   "metadata": {
    "id": "P9KfDgtzhR-E"
   },
   "source": [
    "### (2) NaN 조치"
   ]
  },
  {
   "cell_type": "markdown",
   "metadata": {
    "id": "AAlpr5i6CkE6"
   },
   "source": [
    "**What & Why**\n",
    "> NaN : 빈값, 사용할 수 없는 값. Not a Number  \n",
    "모델링을 위해서 모든 데이터는 숫자여야 한다.  \n",
    "그러므로 NaN에 대해서 어떤 식으로든 조치를 해야 한다."
   ]
  },
  {
   "cell_type": "markdown",
   "metadata": {
    "id": "amapXQs7uZ2c"
   },
   "source": [
    "**How**  \n",
    "(1) 삭제\n",
    "> 1) 행 : NaN가 적고, 운영에서 다시 발생되지 않거나, 운영에서 발생된 NaN을 대상에서 제외해도 괜찮을 때.    \n",
    "2) 열 : 중요하지 않은(불필요한)변수, NaN이 너무 많을때.  \n",
    "\n",
    "(2) 채우기\n",
    "> 1) 공통 : 특정 값(평균, 최빈값, 상수 등)으로 채우기(SimpleImputer), 추정해서 채우기(KNNImputer), 비즈니스 관점에서 채우기    \n",
    "2) 시계열 : 이전값(ffill), 이후값(bfill), 사이값으로 채우기(interpolate)  "
   ]
  },
  {
   "cell_type": "markdown",
   "metadata": {
    "id": "WNlXZdOHhmFP"
   },
   "source": [
    "#### ① 결측치 확인"
   ]
  },
  {
   "cell_type": "markdown",
   "metadata": {
    "id": "TXI_oGm3gMXa"
   },
   "source": [
    "* df.isna() : 각 셀에 데이터가 있으면 False, NA이면 True\n",
    "* df.isnull()과 동일\n",
    "* df.isna().sum() : True는 숫자로 변환되면 1이 됩니다. 이를 칼럼별로 합치라는 의미."
   ]
  },
  {
   "cell_type": "code",
   "execution_count": 7,
   "metadata": {
    "id": "SzaaYjgEhRvZ"
   },
   "outputs": [
    {
     "data": {
      "text/plain": [
       "Pclass        0\n",
       "Sex           0\n",
       "Age         177\n",
       "SibSp         0\n",
       "Parch         0\n",
       "Fare          0\n",
       "Cabin       687\n",
       "Embarked      2\n",
       "dtype: int64"
      ]
     },
     "execution_count": 7,
     "metadata": {},
     "output_type": "execute_result"
    }
   ],
   "source": [
    "x.isna().sum()"
   ]
  },
  {
   "cell_type": "markdown",
   "metadata": {
    "id": "pUkem4IZgo87"
   },
   "source": [
    "* sns.heatmap을 이용해서 시각화 할 수 있습니다."
   ]
  },
  {
   "cell_type": "code",
   "execution_count": 8,
   "metadata": {
    "id": "DSMKHrCjhuX-"
   },
   "outputs": [
    {
     "data": {
      "image/png": "[encoded data removed]",
      "text/plain": [
       "<Figure size 1200x600 with 2 Axes>"
      ]
     },
     "metadata": {},
     "output_type": "display_data"
    }
   ],
   "source": [
    "plt.figure(figsize = (12,6))    # 그림의 크기 조정\n",
    "sns.heatmap(x.isna())           # 시각화\n",
    "plt.show()"
   ]
  },
  {
   "cell_type": "markdown",
   "metadata": {
    "id": "pyYZ_ZM9ioDq"
   },
   "source": [
    "#### ② 결측치 제거"
   ]
  },
  {
   "cell_type": "code",
   "execution_count": 9,
   "metadata": {
    "id": "JYmkou7mip0O"
   },
   "outputs": [],
   "source": [
    "# 데이터프레임을 복사\n",
    "temp = x.copy()"
   ]
  },
  {
   "cell_type": "code",
   "execution_count": 10,
   "metadata": {
    "id": "uUGk4sbljFGr"
   },
   "outputs": [
    {
     "data": {
      "text/plain": [
       "(891, 8)"
      ]
     },
     "execution_count": 10,
     "metadata": {},
     "output_type": "execute_result"
    }
   ],
   "source": [
    "# df의 행과 열 구조 살피기\n",
    "temp.shape"
   ]
  },
  {
   "cell_type": "markdown",
   "metadata": {
    "id": "ChHaY-fAi7T7"
   },
   "source": [
    "* 행 제거"
   ]
  },
  {
   "cell_type": "code",
   "execution_count": 11,
   "metadata": {
    "id": "uUyZqVT8iy3J"
   },
   "outputs": [
    {
     "data": {
      "text/plain": [
       "Pclass      0\n",
       "Sex         0\n",
       "Age         0\n",
       "SibSp       0\n",
       "Parch       0\n",
       "Fare        0\n",
       "Cabin       0\n",
       "Embarked    0\n",
       "dtype: int64"
      ]
     },
     "execution_count": 11,
     "metadata": {},
     "output_type": "execute_result"
    }
   ],
   "source": [
    "# axis = 0 행 제거. \n",
    "# inplace = True : 제거를 진짜 수행.(만약 False라면, 제거한 것처럼 조회)\n",
    "temp.dropna(axis = 0, inplace = True)\n",
    "temp.isna().sum()"
   ]
  },
  {
   "cell_type": "code",
   "execution_count": 12,
   "metadata": {
    "id": "YwiFKKzDiyzx"
   },
   "outputs": [
    {
     "data": {
      "text/plain": [
       "(183, 8)"
      ]
     },
     "execution_count": 12,
     "metadata": {},
     "output_type": "execute_result"
    }
   ],
   "source": [
    "temp.shape"
   ]
  },
  {
   "cell_type": "markdown",
   "metadata": {
    "id": "DFmBsX4QjMF3"
   },
   "source": [
    "* 열 제거"
   ]
  },
  {
   "cell_type": "code",
   "execution_count": 13,
   "metadata": {
    "id": "MVJJGVNuiywH"
   },
   "outputs": [],
   "source": [
    "# 다시 temp로 데이터를 복사합니다.\n",
    "temp = x.copy()"
   ]
  },
  {
   "cell_type": "code",
   "execution_count": 14,
   "metadata": {
    "id": "I3bFVn75hraa"
   },
   "outputs": [
    {
     "data": {
      "text/plain": [
       "Pclass    0\n",
       "Sex       0\n",
       "SibSp     0\n",
       "Parch     0\n",
       "Fare      0\n",
       "dtype: int64"
      ]
     },
     "execution_count": 14,
     "metadata": {},
     "output_type": "execute_result"
    }
   ],
   "source": [
    "# 이번에는 NA 열을 삭제해 보겠습니다.\n",
    "temp.dropna(axis = 1, inplace = True)\n",
    "temp.isna().sum()"
   ]
  },
  {
   "cell_type": "code",
   "execution_count": 15,
   "metadata": {
    "id": "FiZcc27TiASD"
   },
   "outputs": [
    {
     "data": {
      "text/plain": [
       "Pclass        0\n",
       "Sex           0\n",
       "Age         177\n",
       "SibSp         0\n",
       "Parch         0\n",
       "Fare          0\n",
       "Embarked      2\n",
       "dtype: int64"
      ]
     },
     "execution_count": 15,
     "metadata": {},
     "output_type": "execute_result"
    }
   ],
   "source": [
    "# 특정 열 만을 삭제하려면, .drop\n",
    "temp = x.copy()\n",
    "\n",
    "temp.drop('Cabin', axis = 1, inplace = True)\n",
    "temp.isna().sum()"
   ]
  },
  {
   "cell_type": "markdown",
   "metadata": {
    "id": "mrm__usU0EJK"
   },
   "source": [
    "<img width=\"25\" alt=\"star1\" src=\"https://user-images.githubusercontent.com/78655692/151471925-e5f35751-d4b9-416b-b41d-a059267a09e3.png\"> <span style=\"color:green; font-size:150%\"><b>연습문제</b></span>\n"
   ]
  },
  {
   "cell_type": "markdown",
   "metadata": {
    "id": "uaZDkPJR0EJL"
   },
   "source": [
    "* (1) x_air에 대해 NaN을 조사하고 시각화 해 봅시다."
   ]
  },
  {
   "cell_type": "code",
   "execution_count": null,
   "metadata": {
    "id": "Xe4olVIK0EJL",
    "tags": []
   },
   "outputs": [],
   "source": []
  },
  {
   "cell_type": "markdown",
   "metadata": {
    "id": "rpK81W5Y0MNS"
   },
   "source": [
    "* (2) x_air을 temp로 복사하고, NaN 행을 제거하시오."
   ]
  },
  {
   "cell_type": "code",
   "execution_count": null,
   "metadata": {
    "id": "gD6WhxCZ0LCr",
    "tags": []
   },
   "outputs": [],
   "source": []
  },
  {
   "cell_type": "markdown",
   "metadata": {
    "id": "Y6QxOEa60dnX"
   },
   "source": [
    "* (3) x_air을 temp로 복사하고, NaN이 있는 열을 제거하시오."
   ]
  },
  {
   "cell_type": "code",
   "execution_count": null,
   "metadata": {
    "id": "ZaAzICWR0dnX",
    "tags": []
   },
   "outputs": [],
   "source": []
  },
  {
   "cell_type": "markdown",
   "metadata": {
    "id": "VHO4SZPu3ZTg"
   },
   "source": [
    "* (4) x의 Solar.R은 NaN이 너무 많습니다. x에서 Solar.R을 직접 제거하세요."
   ]
  },
  {
   "cell_type": "code",
   "execution_count": null,
   "metadata": {
    "id": "jKNPYR7Y3ZTg",
    "tags": []
   },
   "outputs": [],
   "source": []
  },
  {
   "cell_type": "markdown",
   "metadata": {
    "id": "aULru8J_jvOC"
   },
   "source": [
    "#### ③ 결측치 채우기"
   ]
  },
  {
   "cell_type": "markdown",
   "metadata": {
    "id": "2zkTt54rkwAx"
   },
   "source": [
    "* .fillna 를 이용하여 NA에 대해서 값을 채워 보겠습니다.\n",
    "    * 단일값 : .fillna(0)\n",
    "    * 이전 값, 이후 값 : .fillna(method = 'ffill'),  method = 'bfill'"
   ]
  },
  {
   "cell_type": "markdown",
   "metadata": {
    "id": "Q2rCN7HNlZp7"
   },
   "source": [
    "* 단일값으로 채우기1 : 평균값으로 채우기"
   ]
  },
  {
   "cell_type": "code",
   "execution_count": 24,
   "metadata": {
    "id": "D20KhfjhmA0a"
   },
   "outputs": [],
   "source": [
    "temp = x.copy()"
   ]
  },
  {
   "cell_type": "code",
   "execution_count": 25,
   "metadata": {
    "id": "yaHiQ1OelO6R"
   },
   "outputs": [
    {
     "data": {
      "text/plain": [
       "29.69911764705882"
      ]
     },
     "execution_count": 25,
     "metadata": {},
     "output_type": "execute_result"
    }
   ],
   "source": [
    "# Age 평균값으로 채우기\n",
    "mAge = temp['Age'].mean()\n",
    "mAge"
   ]
  },
  {
   "cell_type": "code",
   "execution_count": 26,
   "metadata": {
    "id": "p4syAvZqwanD"
   },
   "outputs": [],
   "source": [
    "temp['Age'].fillna(mAge, inplace = True)"
   ]
  },
  {
   "cell_type": "code",
   "execution_count": 27,
   "metadata": {
    "id": "rXpzmAFIwf7C"
   },
   "outputs": [
    {
     "data": {
      "text/plain": [
       "Pclass        0\n",
       "Sex           0\n",
       "Age           0\n",
       "SibSp         0\n",
       "Parch         0\n",
       "Fare          0\n",
       "Cabin       687\n",
       "Embarked      2\n",
       "dtype: int64"
      ]
     },
     "execution_count": 27,
     "metadata": {},
     "output_type": "execute_result"
    }
   ],
   "source": [
    "temp.isna().sum()"
   ]
  },
  {
   "cell_type": "markdown",
   "metadata": {
    "id": "htl7qYB0w8tc"
   },
   "source": [
    "* 단일값으로 채우기2 : 최빈값으로 채우기"
   ]
  },
  {
   "cell_type": "code",
   "execution_count": 28,
   "metadata": {
    "id": "wcny9dVUxjah"
   },
   "outputs": [
    {
     "data": {
      "text/plain": [
       "0    S\n",
       "Name: Embarked, dtype: object"
      ]
     },
     "execution_count": 28,
     "metadata": {},
     "output_type": "execute_result"
    }
   ],
   "source": [
    "# Age 평균값으로 채우기\n",
    "modeEmb = temp['Embarked'].mode()\n",
    "modeEmb"
   ]
  },
  {
   "cell_type": "markdown",
   "metadata": {
    "id": "fUAv0zCrzKpS"
   },
   "source": [
    "mode는 최빈값을 구해 줍니다. 그러나 값의 형태가 시리즈 입니다.  \n",
    "그래서 바로 적용하면 안되고 값을 조회하도록 인덱스 0을 지정해야 합니다."
   ]
  },
  {
   "cell_type": "code",
   "execution_count": 29,
   "metadata": {
    "id": "A_IiVV2pzkJw"
   },
   "outputs": [
    {
     "data": {
      "text/plain": [
       "pandas.core.series.Series"
      ]
     },
     "execution_count": 29,
     "metadata": {},
     "output_type": "execute_result"
    }
   ],
   "source": [
    "# type 함수로 modeEmb의 타입을 확인합니다.\n",
    "type(modeEmb)"
   ]
  },
  {
   "cell_type": "code",
   "execution_count": 30,
   "metadata": {
    "id": "iQlzgJMYzre-"
   },
   "outputs": [
    {
     "data": {
      "text/plain": [
       "'S'"
      ]
     },
     "execution_count": 30,
     "metadata": {},
     "output_type": "execute_result"
    }
   ],
   "source": [
    "# 시리즈에서 값을 뽑기 위해 인덱스를 사용합시다. \n",
    "modeEmb[0]"
   ]
  },
  {
   "cell_type": "code",
   "execution_count": 31,
   "metadata": {
    "id": "HtMmI66bxjai"
   },
   "outputs": [],
   "source": [
    "# 이제 최빈값으로 NaN을 채웁니다.\n",
    "temp['Embarked'].fillna(modeEmb[0], inplace = True)"
   ]
  },
  {
   "cell_type": "code",
   "execution_count": 32,
   "metadata": {
    "id": "HzpgoPFJxjai"
   },
   "outputs": [
    {
     "data": {
      "text/plain": [
       "Pclass        0\n",
       "Sex           0\n",
       "Age           0\n",
       "SibSp         0\n",
       "Parch         0\n",
       "Fare          0\n",
       "Cabin       687\n",
       "Embarked      0\n",
       "dtype: int64"
      ]
     },
     "execution_count": 32,
     "metadata": {},
     "output_type": "execute_result"
    }
   ],
   "source": [
    "temp.isna().sum()"
   ]
  },
  {
   "cell_type": "markdown",
   "metadata": {
    "id": "oRE0HO9GluBd"
   },
   "source": [
    "* 이전값, 이후값으로 채우기"
   ]
  },
  {
   "cell_type": "code",
   "execution_count": 33,
   "metadata": {
    "id": "vYVHp-YKl2pS"
   },
   "outputs": [],
   "source": [
    "temp = x_air.copy()"
   ]
  },
  {
   "cell_type": "code",
   "execution_count": 34,
   "metadata": {
    "id": "y_SjByDClyHj"
   },
   "outputs": [
    {
     "data": {
      "text/html": [
       "<div>\n",
       "<style scoped>\n",
       "    .dataframe tbody tr th:only-of-type {\n",
       "        vertical-align: middle;\n",
       "    }\n",
       "\n",
       "    .dataframe tbody tr th {\n",
       "        vertical-align: top;\n",
       "    }\n",
       "\n",
       "    .dataframe thead th {\n",
       "        text-align: right;\n",
       "    }\n",
       "</style>\n",
       "<table border=\"1\" class=\"dataframe\">\n",
       "  <thead>\n",
       "    <tr style=\"text-align: right;\">\n",
       "      <th></th>\n",
       "      <th>Solar.R</th>\n",
       "      <th>Wind</th>\n",
       "      <th>Temp</th>\n",
       "      <th>Date</th>\n",
       "      <th>Month</th>\n",
       "      <th>WeekDay</th>\n",
       "    </tr>\n",
       "  </thead>\n",
       "  <tbody>\n",
       "    <tr>\n",
       "      <th>0</th>\n",
       "      <td>190.0</td>\n",
       "      <td>7.4</td>\n",
       "      <td>67</td>\n",
       "      <td>1973-05-01</td>\n",
       "      <td>5</td>\n",
       "      <td>Tuesday</td>\n",
       "    </tr>\n",
       "    <tr>\n",
       "      <th>1</th>\n",
       "      <td>118.0</td>\n",
       "      <td>8.0</td>\n",
       "      <td>72</td>\n",
       "      <td>1973-05-02</td>\n",
       "      <td>5</td>\n",
       "      <td>Wednesday</td>\n",
       "    </tr>\n",
       "    <tr>\n",
       "      <th>2</th>\n",
       "      <td>149.0</td>\n",
       "      <td>12.6</td>\n",
       "      <td>74</td>\n",
       "      <td>1973-05-03</td>\n",
       "      <td>5</td>\n",
       "      <td>Thursday</td>\n",
       "    </tr>\n",
       "    <tr>\n",
       "      <th>3</th>\n",
       "      <td>313.0</td>\n",
       "      <td>11.5</td>\n",
       "      <td>62</td>\n",
       "      <td>1973-05-04</td>\n",
       "      <td>5</td>\n",
       "      <td>Friday</td>\n",
       "    </tr>\n",
       "    <tr>\n",
       "      <th>4</th>\n",
       "      <td>313.0</td>\n",
       "      <td>14.3</td>\n",
       "      <td>56</td>\n",
       "      <td>1973-05-05</td>\n",
       "      <td>5</td>\n",
       "      <td>Saturday</td>\n",
       "    </tr>\n",
       "    <tr>\n",
       "      <th>5</th>\n",
       "      <td>313.0</td>\n",
       "      <td>14.9</td>\n",
       "      <td>66</td>\n",
       "      <td>1973-05-06</td>\n",
       "      <td>5</td>\n",
       "      <td>Sunday</td>\n",
       "    </tr>\n",
       "    <tr>\n",
       "      <th>6</th>\n",
       "      <td>299.0</td>\n",
       "      <td>8.6</td>\n",
       "      <td>65</td>\n",
       "      <td>1973-05-07</td>\n",
       "      <td>5</td>\n",
       "      <td>Monday</td>\n",
       "    </tr>\n",
       "  </tbody>\n",
       "</table>\n",
       "</div>"
      ],
      "text/plain": [
       "   Solar.R  Wind  Temp       Date  Month    WeekDay\n",
       "0    190.0   7.4    67 1973-05-01      5    Tuesday\n",
       "1    118.0   8.0    72 1973-05-02      5  Wednesday\n",
       "2    149.0  12.6    74 1973-05-03      5   Thursday\n",
       "3    313.0  11.5    62 1973-05-04      5     Friday\n",
       "4    313.0  14.3    56 1973-05-05      5   Saturday\n",
       "5    313.0  14.9    66 1973-05-06      5     Sunday\n",
       "6    299.0   8.6    65 1973-05-07      5     Monday"
      ]
     },
     "execution_count": 34,
     "metadata": {},
     "output_type": "execute_result"
    }
   ],
   "source": [
    "# 이전 값으로 채우기\n",
    "temp.fillna(method = 'ffill').head(7)"
   ]
  },
  {
   "cell_type": "markdown",
   "metadata": {
    "id": "2MNw8vSj2Dyx"
   },
   "source": [
    "<img width=\"25\" alt=\"star1\" src=\"https://user-images.githubusercontent.com/78655692/151471925-e5f35751-d4b9-416b-b41d-a059267a09e3.png\"> <span style=\"color:green; font-size:150%\"><b>연습문제</b></span>\n"
   ]
  },
  {
   "cell_type": "markdown",
   "metadata": {
    "id": "fhSztcfL2Dyy"
   },
   "source": [
    "* (1) x의 Age에 대해 최대값으로 직접 채워 봅시다."
   ]
  },
  {
   "cell_type": "code",
   "execution_count": null,
   "metadata": {
    "id": "qmGt2mjz2Dyy"
   },
   "outputs": [],
   "source": []
  },
  {
   "cell_type": "markdown",
   "metadata": {
    "id": "3vk0vhL63rQc"
   },
   "source": [
    "* (2) x의 Embarked에 대해 'S'로 채워 봅시다."
   ]
  },
  {
   "cell_type": "code",
   "execution_count": null,
   "metadata": {
    "id": "BpS9tacH3rQe"
   },
   "outputs": [],
   "source": []
  },
  {
   "cell_type": "markdown",
   "metadata": {
    "id": "7CEb4lyI2Dyz"
   },
   "source": [
    "* (3) x_air을 temp로 복사하고, Solar.R에 대해서 이후 값으로 채워 봅시다."
   ]
  },
  {
   "cell_type": "code",
   "execution_count": null,
   "metadata": {
    "id": "JNzktcHj2Dyz"
   },
   "outputs": [],
   "source": []
  },
  {
   "cell_type": "markdown",
   "metadata": {
    "id": "7k6CHvulmd2W"
   },
   "source": [
    "* (4)  x_air의 Solar.R에 대해서 직접 전,후 사이값으로 채우기 \n",
    "    * .interpolate(method = 'linear')"
   ]
  },
  {
   "cell_type": "code",
   "execution_count": null,
   "metadata": {
    "id": "0Q3g0eqhtLBA"
   },
   "outputs": [],
   "source": []
  },
  {
   "cell_type": "markdown",
   "metadata": {
    "id": "FNWJ2nffmsyv"
   },
   "source": [
    "### (3) 가변수화"
   ]
  },
  {
   "cell_type": "markdown",
   "metadata": {
    "id": "NHdnMC1ED3Od"
   },
   "source": [
    "**What & Why**\n",
    "\n",
    "> * 모델링을 위한 데이터는 모두 숫자여야 한다.   \n",
    "==> 모델이란 X와 y데이터로 부터 패턴(관계)을 찾아 수학적으로 정리해 놓은 것\n",
    "* 그러므로 범주를 숫자로 변환해야 한다.\n",
    "* 가변수화는 범주를 숫자로 변환하는 방법이다.\n",
    "* 다만, 범주 중 이미 숫자로 변환된 경우 제외(예, 흡연여부 1:흡연, 0:비흡연)"
   ]
  },
  {
   "cell_type": "markdown",
   "metadata": {
    "id": "rnb7CnhRZmcP"
   },
   "source": [
    "**How**\n",
    "> "
   ]
  },
  {
   "cell_type": "markdown",
   "metadata": {
    "id": "yywC_tnEacK3"
   },
   "source": [
    "![image.png](data:image/png;base64,iVBORw0KGgoAAAANSUhEUgAAAlgAAAF3CAYAAAB5dDWiAAAgAElEQVR4Ae29/ctl13XnqR8cAnmxYzIJwwRZ5ZFsEkJgIHnMYDIzCiGySmWN3ojLZATjiG6cIdUKUeCxGyLmB1t0TYc4pEueFg0lPFGHRsTgkiN1UAIjCKNAVCJdJFawcNp2YUdVpSqVrPoHzvC591n3WXffvc/Z52Xfe8653x8O+9x99uta37X2d6997r23vfXWW5UuyUAYEAaEAWFAGBAGhIHhMHCbhDmcMCVLyVIYEAaEAWFAGBAGwIAIliJ4imAKA8KAMCAMCAPCwMAYEMEaWKDauWjnIgwIA8KAMCAMCAMiWCJY2rUIA8KAMCAMCAPCwMAYEMEaWKDatWjXIgwIA8KAMCAMCAMiWCJY2rUIA8KAMCAMCAPCwMAYEMEaWKDatWjXIgwIA8KAMCAMCAMiWCJY2rUIA8KAMCAMCAPCwMAYEMEaWKDatWjXIgwIA8KAMCAMCAMiWCJY2rUIA8KAMCAMCAPCwMAYEMEaWKDatWjXIgwIA8KAMCAMCAMiWCJY2rUIA8KAMCAMCAPCwMAYEMEaWKDatWjXIgwIA8KAMCAMCAMiWCJY2rUIA8KAMCAMCAPCwMAYEMEaWKDatWjXIgwIA8KAMCAMCAMiWCJY2rUIA8KAMCAMCAPCwMAYEMEaWKDatWjXIgwIA8KAMCAMCAMiWCJY2rUIA8KAMCAMCAPCwMAYEMEaWKDatWjXIgwIA8KAMCAMCAMiWCJY2rUIA8KAMCAMCAPCwMAYEMEaWKDatWjXIgwIA8KAMCAMCAOTIlhvvPFG9dhjjy2ubYL33Llziz6fe+45MXwRUmFgghh48cUXFzaMLef4DmwdX5NbPqdNldGCKwzsFwYmRbAuXbpUHRwcLK4coL766qvVl770pSqHGD3zzDOLsvQRtv35z39+0Sdthc/afh6yrbZ9q/x+Gbf0faxvfAC+A/vLkQu23qZ8Tpsqc6wPyUKy2AcMbI1gvfzyywsCg+PKvUKy05ZgmVNlJ9qkzFOnTi0cKuMMyw5Jip544olFP2fPnt3oJ+xXn+WEhIFhMGC+QARrGHkKl5KjMNCMga0RLNsRWgQqJyUC5ZU4B4L10EMPLQjWZz/72bW5+Xnqvhm4kpFkFGLgtddeq9ggxS42NPgc7C72nDzvb8xf5RKycCz6LHwKA8LA1ggWDiwncmWOEGd4+fLlNRIydYL1ta99beHkjVx6hy5jlDEKA/0wYJFms6+2qY90i2D104WwLPkJA29VWyNYucKGiOEYifSEdbZBsOqcMk43HFPuZ8Z+zz33LOZmKXP81re+1bnN3L5VTs4uBwMck2N/OWV9ma71fBtD3NuXUeyLMG3TL3zhC6u5lyRY2DxyDjeQQ8hgW22MRefbmu+U+uE4HP1MacxzHevoCJY5tjNnzmwApCvBAmy0W3fdfffdC/LzqU99avHtIe+cjRBRvwsQiFQxBsgb88Kx0g+fSZlXl3apY8ZkRC22i6dv5kN0kEWIo5Su/aneOll7/vnnF3rkG65tZAO5Huo9PPqmPb6o0WYMYVlwsguCxbgZ/5gIh/mh3CPC0A5D2fIcGzRfYhs55s17ma+88kov3YX9lf7cFSulxxVrP+YTTf6W9vHBsT53mWdYtDEM5R+svTbpGG27zfj7lh0dwcIJAfrY4tOVYJkR5aSxBcYMtC3BgvRQ5+Mf//gauUJpzOXRRx9d5EPuKNd2gaEN6nrnzFjD90w4mqT9J598ctUnu3UjZX1BtM/10Rk6aPN1fjAGFody6rQDxtriM9Rb10Wzaz3fPxsPH0Hyz/rcs9jQrt8wYSM4/jr8I0t0RNmm/mN2aHVY3LBH9INP4+cijIyz8YKg2xdf2mDI2t9VOoTO24wdubUp78vGfCI26K+2vte3P7b7kGAN5R+6zrOUbXcdzzbrjYpgAXIjIzGDAihGknKEBNAojzPAYdZdFsEagmAxDxy4tcmcGEtszDhVmzO7W+rFysXyIGjhooozaVoUmCORM8YXm2+sL+WtR668PJA38vR5dfeUZ8GvK7OLZ10Xza71/BwhHeB/KDzSDuMyfxFLjfT4cdh9G4IVs0PaIVLMnMBGU9SYTRD2OJUvvwyhc5N1UxoShqby4fMcnxjWmfLnvvIaeu5D2/bQ4yvZ3qgIlh23pBarrgQrZzEzZxxz8BgoDjokM6YYCBVjZ6dsUSlz6NRl3FY2luJ8rQ+rhwzIe/bZZ6N1IaAsEOEunDpcsX7CPMox7znt3sI5buMzmEFvTYsoY7FNBHjZxtja9NF10exaLxwb9jUEwSCia5sWds+QF49xnmOrViYWLc8lWCk7ZG74HfyB7zucs/9MRIsxMV6fP8b7oXSeM7e+hKGNT8wZz9jL9JVXifkNZdslxlayzdEQLIiCvZ+QcjBjJVgoCEdu5Ih5YNRNxCpULOWN9FhbKVKXCru2cSYm8xJHM+Hc5v6ZBSe2UIfzxvkRqchddMP6JT93XTS71gvnwk4XgtH327VsTrCflO1Yv5Ajs7Owz1yClbJDfBhth+1a36kUW0SeY8SHH/NQOvdtpu77EoY2PjE1hinl95VXibkOZdslxlayzdEQLN4PwiGlolcIwRMsHKC/YkdrAI0220SwzOHG0jqHDVlhDG0dakq5zDUV5TA5kIb12zoTWwgwAJNx3TytP8r4/pm7fWbhQp/InYgEn60eqUXseM5FW2EkjnJDtoksU/L0YyO60eVdGMgVxNq3FbsnooFs7BkYNVkhC/QXi4R5WTAPFnbKW8TVP7e2Lc3twy+a4AE5mI7oj8+xhd/Xsz4txR7Qr7XD/FIbKOq0xa/1Yyk4MtuNYcrKWWpkDBlZHiljph3G4/P9fZ0dIpMuGxdbiMLItddvKFP6Mdvz47P7sHyTDqxeXep1HrbPeGIYtvaYI/Ll3TPDBZ/9u6SURSfkgz02JdzbRZ/WXlPaBVN95I2NYCv0Wzc/xp0ri3COoczxIebfkBv68XX8fCzf54XttcWU75+2aNv6sbSLHqzuVNNRECwMy5xinfM1h2ZlfRoCCoUANMoA8iYFUZ+yOFwzCkstsoZxN7WzjecxA7J+24IYZ8C8baG24y5rL5X6OpQxh4uMkBsLBLrEUClrskPXOEvyeU45yiNjnI3vb8g2MXj6iBEE3yfO3BMg/6zungUllElY3srggJAz8+NCNsjCiBNRHNOHtWGywHHzzTNS5mRO1Z5bedKufWBn6AgsoR8IMmNEfthHSk++b+4ZG3NB19wzR4io5YXl+Qy2mV/sWU4eskUPjD+nPPqmfEhomC/5zNn8AClzsXZTdmh+irFY2TYpm5IQg6Zf+mRMjA+9mP0w3xip6aKDnLHaeNCpjQe8MR7Gz3hCDNMu5XlGGeZgdZAruADX1j9zpcwuCJbNr6288W/gFzsxHdEG+iTP5tZWFrF6yAUfgAzpi/bph/4Yv69j84nltZ2jYapN//RLP31s2499Kvc7J1jsMhE6zgyF1QnOHBdlAZW/wt2PKZSyAM+Xjd3jJKzdcAwsNDwDxOGzXXyuI1F1z1JjZe62wCAb5poqa/mhrDBg+g4XBspjkJRHR0RwYrrC4frFi3pDtgkpwIHj4G0OYUoZxtl1YWRuyCBs1z5DLszJspD4xcTKkMacMbJAjthIjCTGHGjXPlI6Qj6MP7TTWN+MlYU0pmvkm9KF2XhO9MnLzN/TNnqs0zXljUjGdI6tkx9ekCzrK2VrEB/qxfRkdetS9I8OfBlkDH7oPyS4lMN+Qr101YHvN3XvxxPTVQzDRq5YaGPtghXaDe0iRhhi9VN5KT2lypPv55crb8N1ap3weOgqC7CFXcWwTfvMFRtl/H5+fMa3h3ltMUW/2BfY8m1xX9c/z4ew7bDPsX/eKcHCMAEDzgjH4QEYE5wpiPKx52Eehhk6yKbPIQhpE9BSL2Y4zCFG2IbO87KBkBohCufcxZn4nTnjzpEvZbysMGCImh+nHxt6xjBjoWPK4Vx57usP3SZHElx+XP4e/YYLm3/edM/ccH5+Dr4O8knN35eLET2TRSxKQd2YA/VthvepPhi/12tYj0UE3XsSGvbN/JlraiGlTcg0mAjb5zN1YwtIrGwsz8gReMJOYvoAb+Z7QmJCm9YGxMXbsp93yg7RMXOIjS0nz3DkyyJj5hNb7ClnejF89NWB7zt2b+PBJ8eeM07GawTbxtOEf1vA/TyHIFihHr1OTWZ+HjY/Pw7/PJQ3z/Ad4SbR17H7rrKgHpirk6G1zfitP1I+h3bddo60TZ0u/dtY+tq2tTOVdGcEy5MrQBPbBYVCbEuwMAIcZZsr5jDqCBagZcEpfflxAXJ2MqF8+NyFYEE6qEd9m0+sbZ8XI1ix6JXVwfFQJ6Vn8nkeznPINpEZTj81hiZSYHNJpThj5hDb3cUWjlQ75DMWr2N07qMnYV2ehw40LBN+jvXBQhSWCz9Txi8kYd+QGmw6rOc/s6iF+rbnLFR15MzK1aVms/TBPJGdXYyNfC7yYngwgmV2EesrZYdgtk5XsbZ8nm0MfR591Y2FspQx7PXVge87dp87HtMjUSn0wCIda8/nQXyRv+UNQbBM37E0Jtfc+Zm8sVXmlyJkNhfSrrJApzkyJCrF+H2ffA79Q9s59unfxjKEbVtbU0h3QrBYRFEuYAcwflGtExrlzEDqyg39zJy1N3rrAxJnjjsnZb7MgfnnlLcy3nCpHxqLjYexxhyGPY+lODQLy/chWHU7G2TH3GP9W144L2Q0dJuMAUdhfVoKAeJZzgJgdWIp5CNGUoiS1EXPrC0wjg4Yiy1OPEMWMfxZPZ6nMGFlLK3rw3BgZWMp5MpHfcK+IRg5GITsxsYM5nPGERubz2PRoy2icuY3SPmMjmxx9HXsHllTtm4eIV6tbmyBs2c5KXNHpr4sn+tsgbLejrvoAKLJvFNX2/GwmBpmGU8O/ukjLDsEwarTo5+X3beVNzrvOj/rM5Z6Wfj7WFnLi8krtFHKtp0jdp8zx1j/NrahbNvaG3u6dYJlLBjnxE4SgpIrpD4EC+eBM7eQdW6flMM4Ga85izZ1w7JDtMVYkEXYto21rTNhobMjGWRE+7G2fR5l/OKIsfqIiy/LPbLDuMJ8/3kbbTIOHL/vl3sIg4/KhM9zP7NoI09PiLknL5QPZI7y6IsxMX8uFkrKhwQrRgxtXDEHyrO2fRgOrN1Yyjh8hCrsm7mQh77rLuYYIznIYwhb82OnPWSbaxs55WkvZofMiWddyToLaUjSm+yLuSJrk1sXHYDTOn15eTKeJqz48fh7307sHoLpbbRuwY7VD/PQea7erW5beeM/IFlWvy7tKgswYfqtaz8mL+bj/TX1286xT/823hK2bW2PMd0awUK5LBw4HnN0bR1QH4JlxAFQtVUEoGDMOeBuanuIthhLipjSPlfTOOw5TtW3Z3Ky56mUOt5gYwbs6yI7HIvPC++30aZhyL93YQTI54Vjy/0MpiEOngwReQhxh+yIUrGQsKDwmXFYP5QPCVbdghaTf5c+vE5tLGEaLoBh39g5ZJW2mi4/Z+uHxWoIW7P2SGkPfOXaRk55bze+L2yTZ13xxEIWkv1Qxr4/u/cLd18dWJuptO14IOTeJlLtkh8S+BhhqKsfPmvrE6lfcn5dZcGYvE8I52mfY/KKzSeWZ21Y6jFF+Rwdxvq39krYtrU9xnQrBIuFAYfDRXg+3MnnCsYWR9rJrWPlcPTUAySWl5tioNQdwukP0Vbdi8htnQm7LgzeyG7duzEmL8oiD78YNxkrshsDwWIOjMPvNiEMYcTA5tolRQd+B85i57GDjFPRG+sPeXpn2iTf8HnXPmIRJRuTpURYmKN9Dvtus5u3NnyKfpqOw3z5nPscwuTbySmfskMj2eDKt5lzb2Q/XMhCGcfa8othXx3E2vd5XcYTkkbfnr/HNhm/5dUt2FamLm3rE2mr7fxipDg1JubWRRZev6m2yY/JKzafWF7Yru+Te+83w7L2Oda/PaONoW3b2h5juhWCxcRxWIAwtmPNFcyuCBaLFWSC/nPHmiqHsfclaxhGaiFs40zYabPQ+2NTI08+L5yLkbCpEqzQASDPuuhQOP+mz0bmkRNyRN8eO9gCjibVjumAcVqZJmcYPu/aR44DZeyePIR900bOuxo2tzCF8Pu5h8+7fK4jTNgBOrOL9uvKW//MO2WHLCLYVlt/x8ILIbc+LA1lbPk+RS+Mm7y+OvDtxu67jKcO874PsONxGNqrL5tz38YnWntt54fecufH3HLLelnkzoP2Gb/NhTQ2n1ier8O9xxT959h1rH9rt4RtW9tjTLdGsIaY/K4I1hBjtzYAaV+C5UFv7Vqaa4S8k0aUhWiE1bWUnXlq4aAMi8eUI1gQGIs+EE0d4uV2k52ltMliF3ufpslRIXvk60lGkzMMn3ftg8Ud+dg8wtRIuScOYd+Q1S7kgr7om7r0E/Zd9xk5I7MhLvrJIVh1dsg8kEvMvlLzMNnGIvyhjGNt+PH00UGs7TCv7Xhso9GkV4vg+XLYA/2FY8j9nOsTfXtt52enNH7cvj1/31UWRDVz7AobDuUVm08sz4+Te4+pPv3TVlfbDsc0pc8iWG+91dlwuygaY2cRsJ1mlzaoC/BjdXOcCQQJgkGoOraYsiik2jdixhymGsFCbszRSIjfLcdk2iXPdqk4sZCsEv1hJxdr1+SLfvoQrK59MF4fnfJjZGzgIjzeiDlqotXI19cP72OLEZhi7mHZps9GiFIEi0WHsacu8EAbZpfWXt0cKJOyE8YLUWJBpI2Ynfk5gRHmneovJmNfn3vGYuPnc1cdhO3GPncZD9EPxlQnC8r440H6NkJSVy82RstDpim5Wpkw7TI/5tY0P+uniyyYP36jjrRju+CI8VtfpLH5xPJ8He49pnL6t7Ul7J+2utp2OKYpfRbBmiDBAqg47pjDwZFg5JSxC0eP4+UZBkp0JbZLNuCy8NE+huz74MiLhYrnUydYOG0cUc6O0OTSJrVj1Fh0jF06feNkPclgTMiXujioPgSrax/ggshmSKIYJ2PjGUTLyyLmqJkDc8RB++NR6kImaCu2UIDTcIH1fW3rnnGA8bqFuc4ObZzIDZvjYt5e38gFeYMDcMjiZPXCNCbjsIxfDHnWVQdhu7HPXcYDJsEPF1j37TJWxo+cPF4oA2aQDzrhnou2fP26+5hPNN9oKf37NrrMjzaox/y8nmmXz96musrCMMecvAzw07SP7yfSxDia5tNljtY/mG3TP2MZi217uZS+3zuCxYJnRtUl9aDqohwMA8cN2LrUpw7GxDzCF2F5Zu37nTyGZM6XRRsH1dQ3DpB6tEOKg2NRNGJGPvKzdpqMlfkyBisfS7fRpu8XZ15yMUde3qn6vpEd/Zt8LTWZIs8+BIu+uvYBPnDU6JxxQJQYH3PxhNvmk9I9CyUyoK61ZfP0c7N26nBtZbaVglfGij2l+swdL+WQHQsvbfoL2YHBcIEP+0zJ2JczG/d5bXXg69bddx0PsiC6a5gyGwAfKXwxDjueMtm1eWcy5hOtHUtDPXedH7aDPq1dwz/+OvT5XWUBVkxutIssGa9tiLEtPnv9xeYTy/N1uI9hKuyfMXAhQ+ZE/8zbt0U+ZWJrli83t/u9I1gG/K5pbGFoAwoz9tDY2rRBWXa7IYjbtpFTHgfNQt2XWOb0tc0yZvBtHHWJ8bGzRb7hjn7Ivvr0wbjC3XjbsSFr5sjFfao+usAJ15VJ1R06P4dg0WcXO0SmTbIYej65Ohi637r2zLeQ1pXzz7YtN99323vTc479dJEFZA55tJFf2znUlU/1zzFluHEdk23XzWnoZ3tDsAA5bLzvZRGcrooYimDhMFmMdk0Qusph1/Viu7xdj2nf+2fDUHdMtk355BIs2eF232HdJgbUVzfdcnwYHv+Pyba3qddJESwYM46vb/RnmwIO+4IQMX52HuGztp95pwOShVza1t338hh86mXufZfNLuaPLtDJGKJXzB/7xE5zNjCyw24L8S5wpj7L6oqTDo57vd2Mzba3iYFJEaxtCmYqfRER45rKeMcwTqJXOIG5HXuOQbZdxsA7HbxH0vQeUpe2t1VHdlh24d6WHtVPPz0SuWKjZHKcg23bXLqkIlhb/hZhFyXV1bFz8LoyenbsNDjiZTFX9OpYJrvGB++Q5Lynsutx1vUvOxwPnur0pGf99MQrNkRsQzliw3wxBt/qT2fmYNvhXNt8FsGaOMFqo+x9LmvvvvHlhvD9gH2Wi+beb8GR/CS/fcIAG1O+fYgf5ZuM/pux+FidCqzbgwiWCNbGbmSODoNQNTurqUdK5qgbzWndKUseksfYMUBkCn/KJVKVxqsIlgjWXhCssTssjS/tpCQbyUYYEAamiAERLBEsESxhQBgQBoQBYUAYGBgDIlgDC3SKLFtj1u5QGBAGhAFhQBgYFgMiWCJY2rUIA8KAMCAMCAPCwMAYEMEaWKDaAQy7A5A8JU9hQBgQBoSBKWJABEsES7sWYUAYEAaEAWFAGBgYAyJYAwt0iixbY9buUBgQBoQBYUAYGBYDIlgiWNq1CAPCgDAgDAgDwsDAGBDBGlig2gEMuwOQPCVPYUAYEAaEgSliQARLBEu7FmFAGBAGhAFhQBgYGAMiWAMLdIosW2PW7lAYEAaEAWFAGBgWAyJYIljatQgDwoAwIAwIA8LAwBgQwRpYoNoBDLsDkDwlT2FAGBAGhIEpYkAESwRLuxZhQBgQBoQBYUAYGBgDIlgDC3SKLFtj1u5QGBAGhAFhQBgYFgMiWCJY2rUIA8KAMCAMCAPCwMAYEMEaWKDaAQy7A5A8JU9hQBgQBoSBKWJgUgTrlVdeqV577bUoyyaf514Jn//856tTp06t5fnnlH/55ZdbXa+++mqyPd/2Y489VnH5vPC+aXxh+fAz4//Sl760ulKy6dtP2O9Y2qvDQzjm8DOyytVlWHfIz5cuXaoODg4W13PPPVeLl9x+fZvgO7ce8jA8fetb38qu59unP5tPqm/sgjJN9uHbjd032djQOGUM9Em7sfEMkdd2zOj6mWeeWejtzJkz1RNPPLG4f/bZZ6s33nij1Ti/9rWvLdqKzQNs8pxnhq8h8Nqkw9hYYnnM+9y5c8n5guu6tSDWZl1eWz3VtaVn8yWPkyJYGEjKucUAH8vzYKY9Wwxy09xFIcdxNI3Pj9XfX758ucKZ2iJFX5/61KcWn2mT5758Uz91c4/Nt6m9ofXk5+Lv6Qc5+Lzce+YQm1tu/bpyEJUm4s4iRRu2WKGD1IJlOGWR8P2myIxvM0VyfDt2z6JsWOhKPlNjsj5Ikbth1+e3vaedOh024dT3B1lngUbGL7744oYNWVn6o1373DZtIgK5Y8bGaQs5PvTQQws5MPazZ88u7g0zX/jCF7LHWte3n7fhK4VXZAJBf/755xfyRK4pPDXpMFe+dT6HNpoIFnNqsllPWOtklTvmMZUDT03z98+xlzGNf6xj2WuCFVMKRvTxj398QVhiz2N5AA8D9hcGz+XzuKestdHVSKnHGEOQszCQHzrVpn684fj7z372s9EFrKm9OmcXqxvLMxmlUnPyd999d3IxTNUlnz7rFue6uk3PaNeISiqFzNCOzYNyqQULefIc/Pi+0ZW1TxTDdMfCZvnk+Tp198jE6tVFA3wbYM0WSVIj+rTDvX8GIaCuyYfUt9X23tpO1cvBFQvLk08+uZi3ERXGjsz9gmp90Cft2ue2aZ1t0FbOmK0c2A99gB8PESf8AaTL56fu6/r28zbMpvAKmWKe9E095IpMQ7/EOJp0GBsr/YZ+FVmAtzDf8E8+Y4q1Rx7PDfup1M+3TlapPsaQn4pMm05Tcw/z62Q5hnmOZQyjIlg4i9QxFwKrc04xwMfymgSPEzAwsVA1lec5hmeOointa6QYCONjQY2NzRyFj2J1kQNtU4/5xIyvzsCa9GSO12R1zz331Dq/2DwZG+0gC+YcK1OXZ3OrK9P1WUg6bJ6efNiO3svWY8P3jTyZJ2M2EkUKBgyrqdQWGN9e7N7IubXDglVni9YGc7M6TalhxuqQWjtNKXNvat+eU5b2SK3PVPvoChwxfyuDTqj36KOPbpB3xmztW/k2Ke3W1c8ZM/2hnxhhCcdChBeCE+bzGbxhO3aBT9q1z5ZS1s/bMBvDK34He6Ytv5hTFv2Efot22+DAxmK6bkqZA3VI67DAc9qibM6Vq6ectpAZmw8vL/LQLxg04m8+I6fNWBnsOYWFWPlUXkqWbBq9HaXq71P+aAgWSgNknhiEisBA6gwKw/YLEBGYOqMK22enR/s4Abu3SENYNvUZI2EMzIcoAPd+ThiJjbHt+OiTuowxZWwAPHze5AxsPGFqESzG7581jRuZx3aTyIT8vgSL+TBHnLbpibZTOonl00Zbxx5rp00eeGDczN8wYYuVzSfWXhPuqYtcbbHCKZPHhd5ibfo8MG5klXasP9Km+h7PHiOxe4u2ME7G1kb+RGPQcc5l7wo14R4d4DNiRIV5mQzDlHa9/NrcI9O6+k1jtr5oBzu0z6mUBTVVjnkbZupS2ua5jdswGyNYRvopE44J/468DfvWLqTO9x/WG+IzuEFmqbZ4jp5Tz8P8XD2F9WKf0UO4zqAzH3nEnpBdzqYn1gd6gWzTRux5m7yULIn4gjev3zbtzrHszgkWygBMhOmbBGxOJea8aSN0hHyuMyrrj/YwcBYZv8OyBRFg2uJgdWIpDgdnYf3SJp8BtUXDyPPjzBmf78scf2qnYMdD/nijyRn48YT3jNf3z31Te8yJOVM3vMgP59zUnvXPwokBI1Pv3NETuoMc2OJqdVIpfVI+hqVY3hBOg/6QLwTIxmWLFfl+TvacFHmFegk/M2ar49v0+faclDJgBXlaW4yLDQLPPElDh+DN77B9W9yDNxYKa8tSFtVwM0B7PCcN2xnycxOuwArjSC1ayCbECJ9pt+s4wa7Xf9hO05itPAsyY6d8KE7DWsYAACAASURBVF/KoHf8FnaRaxPWdixFVzZvw1cMr8gnRegYE2P2mKRd8O2Jc6z/WJ5hztsHOqOtEKspUmDt8pyx2eemNFdPTe2APWTmyyGfmAxt4+/LNt2DDfBm61roe62+BQbou+mqmzv9WF/W9j6nOyVYKBVw4QhylAA4zMjD8jGlx/KsHk6HHQL9Y1iMIeZoIVZG3ijLIhJzWAAZZ0abOCDrh4WZcfAsdIR147P6YUp7OOmYAVIWhxXuUpr6Yf44mLAv+4yeeG4XckgZKnWG1BNOHPKN40SGyN+TRxsjMmeezIX+0We4K7SypFaW8jmX16lvJ/ce3Vs/Hj+2WPEstmDRPvPheagjHKG1iVMzx2gkm2fkhWP05Iky4AmSGpYjDyxZH6SxjRD6sDH6snYfYh+M8ow07LPpM/hnXL4/7skLSXAT7i1yl+oTcgjW/XPGTLs+L/ceO2LeoX36+k1j9mW9nk3WYZqzMTSZMjebX+gLLZ/+DbMxvDI3H3nx4wUnjI9xW771aZ9zU8aMT6A/MIlN0S735KE3jwdsB5yk2uc5Y0s9D/Pb6Cms6z/H1hPmEJOt2Zmv33QP5nyZlAy8LwkxFPucageZI/uYj/bj2Jf7nREsI1ehIdQJHqWmnFsM8LE8ax9g0zdpSHysjE8pgxHiELyDsDI4eIDojdqekcczylgead34fLnwHmdCeywAGAZgJoV0sZiFTrWpH9oKF2/fJ+2bIyTFgaUMjHpNemJBpz+70EOqPcowLwhEjtHi/Fk4kY0nMn4+u7g3UsNcff+2WKEDSKHJhHwrh2xiOspxipSxdiwFH+CEsYDJ0AlbOUuJXiFP6vhx2XNsiPFxmZ7APPWoQ77fEIAh8kitjdyUOrTJuJkbFzIjL2yvCffUS+GO8UAUwuf0Qbu54/XlzG6Ze0wvlKVt7MvmRhrzKZQ17LAY+/Lc0w79+P5j9+ieOdKnYQ9dUdfbj5+37zdsk3p1Gxueez9Iu6HewjZjn8FZCo+QQ/qhjNX1GKE/MGvPSHlOHZ9Xd498Qz/WZEex9iCJYT55qbaw2ZgNhm2kPod4tnJghvmTWl7XFLl72XdtZw71dkKwcBgYMQDNWTRN0OYIzCh9Glv0MYIUoKzNoVKcHAANd360bwZPGQzbxh0bc+54MAQMkT7tYhGPkcUmOVAfBxPrG/2EbTa1h8wpE2uPfFsMh5BDrI+x5bHgmI78osU4bbGy55Z6R4c8yUdetgiSIksrj+M1eRqZ45lvp5RcrD/6D/uwMXo7pJyN29IU/nx7JsfYnMijLb+403dIVnx7LPQ893n+nkiCHzfPGDvt+nK59+gIEm1prJ7Jy+RCmlpQDTuxaAfypG6sD59nEZ/QD1u+kTvmjc9GzhY5i/Vr5Nf3Yfe0FeqIdrmsTG6KnJBjqjx68yQKeXi/45/RRq68rD/69+0xh1CGVjaVIg/wED5nXQzz7DP9hP7YnuWkIZ6tjtlPzLasTG7K+MBPbvk5lytOsAARTs9HVRA+hhaLBNUJG1aMIaSukDVjBClA1fXT5Rk7Dgweh43xspBycU8ezyiDU7LxkzfE+LxsY2NnISECEXtGHrqou0JH1iRX5kQdm6dPY3Nuai817rb5yAkH0ueKEei6caSiOFbHFknk3xTBqtORd4y+TZ9PnyVkALYYGwuOX2SwfbDPM7+Ich/OBYyYTFIp/YRY9GV55nEOrsJ+fHlskec+z99DKPy4ecZn2vXlcu7RA32R1hHFOltgbvRvlxFbNlqWZyk2SH/22VIfPWLc1A3JBvnokfrmW6jPZ3/FCBb9phZX22hiEyYzG5d9zk3x9eAtZo+MmXH68YGvOl/Lc+rk9l+np9w2ICIh7rGZunGCgdCmc/ujXKptj8827aXKYjupZ/uUX5xgYQgA16JVGBefuziptoqB4ISkizYAGWPoc8XGj1PCYHxkiXvyYiHfvkaKgebsZnBC5ihjMsS4Ules/aZxhwuBOVFL/SLIeFLtDa2noduLydLneXLF4h/DgCdDfkHw7YBhMFR30Y7V8W2GzriEDGxBM3tirrb4W164qJJPOcOdH7/NI0whoLQb5ttn2vMRgRSurLwt+GFUkefYMgs4fstwS8pn2rU2clLagmj6sdEWeTzzbdSNOQcHdRjhWThX5hPzkWAVHVl5xmvzNnzF8IptMy+Igp8X95A72vSkiHY9DkK8hm3YZ9oHC/TFuBgnG3buTWd+DMwd7Fv9MOU5YwvzU5/r9JSqE+YzXh9x5TmyZc0Iy9pn+s2VkdXxaUoGtGk2iU5yrpj+ra86O7Uy+5AWJ1gI0SJWZnwxx9JG2Cz65pib0hixIK+uHuOzcHiqnHcSbcbuy+IUYs7Nl6m7NyOoK8OzIZyB76OJsPmyOfep8TUtKDhSnHPdomILRM44hizDYsICjdMCTykCYYsV5eocVpux+TbBr69bgmDRPjaJHpmHv1gsPLmiLLilDKkfW9M9eECmKZvmmY/QpHDl+4H0gCG/GPOc969oj9TjC/nRrm+j7p52mSf1PJlCR+TRtyfeOWOu66/tMxbCWLQBu0FHhlvmYPM2fMXwCg6oFyMO2IEnmYzVsOAxkzsH5IZurA30xT04CfVJOeSdapvnjCH1PMwfQk9gK5Qh464bJ/OL4T8cX+pzqm106nFu94ZR++zT0Lf4Phmnx7V/tk/3WyFYths0I+pDKlCOGZS1V5emAFWnZOqYM6krV/cMEgIYGSsXxk+73EM02b2ETqCuvdgzazv2zOflOAMWQWsvJw2jUL4/u2exix0/2HNLc8ZnZX3aR084ttC5+ba73qN3Fi3DJAQjFgW09m2xonzOeJgzZevw6dusc4I2Bkvp38ZNG5bfJrWFmXZS5BZ88Zy0TdvYC/JkoTb7IY978njmbSoHV+jLIh6MF3lRj/HF/BRjrpO9nw8LDOVTBBsZo08uw0jOmK0Pxs7mlfZNb5bSJgt4kx6xe+rgq6xdFnDa9Dbu5234SuHVNtT0jzzRD+OhTcZs/ZDSLpfPK3HP/BhDqm2eIwcbTyxl/MyJNtroKdUn/jGGMfCYqgPGm3Saqkt+nQxi9ZBDLt59/dimxT/fl/utECyEyUILgFl8vBPsImgDf1PdrkYACLuAysaD0TBXjIF58xlHgzPDkGkbI6KfPsaCHGiDNusuwN5kWDj4ujb8s5z2kAXzZIwml1SKo/HOPFUuzO+jp1wMhX02fbb3a9A/c2raxdliRfnUguX7ZM6UrcOn7ezRWRt8DUGwwDnj4+Lej93ukT3Pc7BhdSxls2a+xPohZVH3ESLKI6Mm3FMuRoqRnfXpU8ZcJ3tflnFi50ae/DO7Rz/4CYvy5Y6Z8mza8KdgDln7izzabeqfcaB3ynl5EtXy2PXzNszW4RWb9sSP+jEsks9l8mibMoYc34E+67CA7LyPi93jx40g5uqpbj4QenAblsG/Wj/+GfpApn3WzzoZ+L7s3uvd8nLSWFQ0p97cymyNYOFkYmDqItBco+xqBIAw14mG48cwcFRN9VkM6KePc6EujtHkkUoxyraGFc7Lf86VK+X6zM/3GbvvoyeTVazdvnk4/djONNauLVZgpm7BsrrMOQdfVr5NSv+2yMYWw7AtypscLWVxsDZiKQsXZXlGGrbZ5jM+pY685OLU+mThCkmaPbOUMTfZtpUlzZGjL587ZuTctFllPpCsHDlT1ghaTKZ+3obZHLw2zZ92c8bnZeTvm4iTLzvkfa6e6vo0Yh+WgZwyrzAfefddQ8N1oOl1GXDW9nUZsJRDesP5zfHz1gjWkMLLNcquRtBn4SYczuKRc06OsbAL7Sqb0nJIjStXrpTr4zxT/Vt+Hz3lys76KpXaYgVmchasMREsH62LkalYnmGCZyWxgb5ycdpGt4yZdtvUaVM2Z8wsYPiN2CIc9sVCxwYrzG/72c/bMJuD16Z++trhWAlWE1E3ucR0g3zJ90SX6BVk2ecRxWxLZEKCZf4kZqu5eaE9QNTtKNXmua+pCFbkzz37LNwYFs6PlzlxhClgYSgYUfjSZ6p8LD/XOeU47Vj7qbzc9ijHGFPt9M3voyfGxe7Mdu1NaZ0u+8zDFiucWc6CZQ4R7Jj+61J2w7njo39zqoyrqR5Yb5KbP2ay9hgv/ZBaXok0F6dt+mbMtNumTpuyuWNmHGChTk/mY9ouwrHx+nkbZnPwGmvL59Eul89rcz9GgsWYIEM58yAKGTsOhDxh42zCISu0Z8fI1i5YSb3naGXCFMz4vKYIVpN98zwcP0fj4Vh9n/t0P1mCZQtBUxoCKke51OnjRAEXJIvjO5wbBucvHArjxrhiC1DOGClj7TTJgOdd5JAaR+4iQLmcsVmZtg67j57ayI7x1S1kKTnl5NtiRR8582fOJq+ctA2O2xKsnPnFypjsSWPPh8rLxWmb/hhzG5m2aZuyuWMGN4YFNmnev3BvMmYT0cfH2Pj9vA2zOXi1+qmUdrlSz5vymSu+1tppSocYM2Oq0xMbDx9pqpsDUeDUJhu9QaC4Qh2y4UP/bTd+OScrdeNtesa8Wdeayu3L80kSLIwkdCipz7nvwniF91m4rR2Az3EhbN4bPefZjDXXAK29WFpaDrE+yatzLr4OO5ucHZCVyQ2rWx999IT8rd+ctK0jszE2pbZY5RKstjvOcHdZNx7wZKSNcdWV7fMMe6Af0j7tNNXNxWlTO/45Y6Zdnzfkfdsxs/jiT2I+BlwPNTbsxbBkmB2CrNi4u46TOaZ8fyx/KJm01VNqfvgVIlVtx0X5vu9jpcbUJ9/e1+rTxpzqTpJgzUkBmstbgy0CkqVkKQwIA1PDAGSJSGObcVPHCG+beiXLQvZT0biS/Y65bRGsyDtYY1aYxqYFRBgQBoSBeWGACGGpKPm2sALha3sKsa2x7aofESwRrFY7p10BVf3Oa0GRPqVPYUAYmDsGRLBEsESwhAFhQBgQBoQBYWBgDIhgDSzQuTNyzU+7TmFAGBAGhAFhoBkDIlgiWNq1CAPCgDAgDAgDwsDAGJg1weKFu9Q3LfiKcexHGGMv6vEbJP73Q1J1xeibGb1kJBkJA8KAMCAM7AMGZk2wIEKp36zhN1Jiz8gLf9+Fr8Tym0sGiFRde65UzkMYEAaEAWFAGNhvDMyaYPErual/9U6RpBTB8r8W3OcHLmVw+21w0r/0LwwIA8LAfmBg1gSLX1HnV3INzP5X1VMkCYJlv2btU/u1XaJZlOGydpXuh7FIz9KzMCAMCAPCQC4GZkuw7C8I+IVc+7sc//coKZJEvo4IZUC5BqRywoowIAwIA8JADAOzJVgQJf6FnBfdiVaFpElHhDKImEEoT7gQBoQBYUAYGAIDkyBYECR/XFf3R7R84w9yxbtX9tcDRK444iPf8uoI1kMPPbT256lEwRiDCTxV154rlXEKA8KAMCAMCAP7jYHZESxIFO9ahcCGeBHRaiJYYb3YZ6JhsZ94iJVV3n4bmPQv/QsDwoAwsJ8YmB3BSgGZo0JeULfn3PPv3/Y5THled6V+XytsR5/307Ckd+ldGBAGhIH9xsCsCRZHg0888UR19913r478OO7juJBjvjrw8zx1PfbYY/oW4cC/eFunCz3bbycl/Uv/woAwMEUMTIJgdREsR4EQK47y7FjQ2uEdLogWR4aW1ybVO1gy9jZ4UVnhRRgQBoSB/cPAbAkWx3sQrBSon3/++bUX18NyvFRPpCp16R2s/TOWECP6LAwIA8KAMCAMpDAwW4LFS+0QLH7NPZw8Ea2mYz4IVlhPn2VIwoAwIAwIA8KAMJCDgdkSLCbPO1iPPvroIlLlI1EQL75pGB4deoE1RbBoz5fXvQxOGBAGhAFhQBgQBgwDsyZYNkn/C+4cHRLdsmeptO4bhPYsVVf5MjBhQBgQBoQBYWC/MbAXBEsg32+QS//SvzAgDAgDwsC2MSCCpZ8baIzmbRuU6k+OUBgQBoQBYWDqGBDBEsESwRIGhAFhQBgQBoSBgTEggjWwQKfOuDV+7RqFAWFAGBAGhIH+GBDBEsHSrkUYEAaEAWFAGBAGBsaACNbAAhXr78/6JUPJUBgQBoQBYWDqGBDBEsHSrkUYEAaEAWFAGBAGBsaACNbAAp0649b4tWsUBoQBYUAYEAb6Y0AESwRLu5YuGLh4oTp3eLo6ODisLnSprzrCnTAgDAgDs8aACJYAPmuAF9mFXTxXnT44qE4fXqguCj/CjzAgDAgDwkAEAyJYEaEUWZTVz0wM8GJ17vRBdXB4YSbz6R8Gl71IhsKAMCAMbGJABEvER0ShBQYuntOxoBzppiOVTCQTYUAYCDEggtVicQ2Fp8/7ZlBzjl41zO3iueqQyN0B1+nq3MV90v2RbJi7IpfakGnNEAYyMSCClSkokal9WlBTc71QHfLu1bmLDQ7mYnXh8PTiHa3p4GY5t8MLkblfOFyQqsMLzJty+/hif67uI/KTj2mwF8lsOn5CumqjKxEsOT85v1wMHL3cHiUhR21cvHAc6WkmYlNwVg2RrVzZTb4cBGvfIndTwKfG2GbBV9nt4kUEa/KOf7uA2WsDPYrkpI7HLp47rA7P8c3CJSmZBcGyb0w2Ru1mjsOF7vcxcjdzvcr/a4NdEAMiWAWFu9dkZI5ybSBYx/qeFsG6cHj0btXpc2s/O7HKX7x3tSxTF71bzv/C0btap6tVWXt/q9j7S8sjWd4PW5Lai0e/UXZQHZw+t/ydsguHi5/WOC7jicNx/cXzw3PVhXNu/G+9VS2+3BDIh/lCqvnJjv18N83LUPfH9i9ZSBZLDIhgzZEIaE5ldmUzJVhvHUXcoi9wt4rcQFSWUZ4FOVsQqgvV4eE6cVt3vu4F8hVRMcKynqYigvRJVHFBgg7PVecYAy/h25HuIZHF5Xtzi3GtEaWj/k8f1XnrrWpJLP1xYJwwL8tZvaN2ipFILdrruJE8JI/xY0AES2SkDBmZo1wXZOPgODKTnGN8QR6vQ0y/4L5JSPKc2jLic1gdHhGubcx9gxgdESxPHBdlHAla/uyGJ1OxaFVEPhtke2o6z9PjNvSmPqSLuWJABCu5SAr0cwV953nNlWAtiMg6yVjKqEdUxqJHsW8lFrG5CMFpJEHx+YUkbBkJ8/IJ6l20I0ZfRv6js50VwYf0IX1sHwMiWDJmRbByMXBEGlJHVccOLLLY5/axg3Kp94uWP8mQE7GLOK5sgnVEVhqOB+PvTrl+I/1tzGtRxpOg2E8vbEarNtpZ/FSFO748vfxJjot79dtgTvY7wOyxrWkcksV4MSCCJecggpWNgeXi64+c4s5tWgRrI2Jj8tiIAOU6suV7V+d4ed4dx8VlldtmQ7nFWP23/IIoE3MKy0RIGb9fFv6Q6oZ8IvWKzs30oVS+ShiYFAZEsATYkQLWRTa2tUg3YiGyaEfrpIhYLGLSQByi7Q9Zx5FBiIOT9fL9JE9acvrlG3zLOseRH/LqXnTPabe+zIIErb28vhmJOi5j41nXB98IPHeOH1Vl/Ecv7F9cl8/hQj7r9SBXF/mW4lr/9eMVIZN8hIH5Y0AEq/gCNn8QlXMUmwtZub5y9HREsFIL6eLnCIiAuOOjA46PjFyMbT7LOS+jNgcLcnXR2cMxIcmRTeTbd0eRnjAiNLwOI8Q3Fn2zn2pw3xg8/pkF+1mGpY4OTi+/mchYo/JZzQ1dL3W8+Oaik9/w88zTg/qVnISBcWBABEsOcaQRLAyExc6/M7N7o2lLOtYc3WJRbhsR2tWcx0kG1+Qp2x2x7e4Kt+pXNjIeDIhgyUmP10mH78yMQFfdCdby6Cz1K/Cjc4pHEZrVj4WOQPajk5FkMl7fId1INyPAgAjWCJQwyYVjQX44Hlm+r3Ju8XIwv5x9dLRiv97Nr2uvjsj8zsK+2r48TqPM+H89272PM2vcoJvlr6D7I8NJ4nTWevL2pHvhUxgYGwZEsOSAu+90jt5zWRGoi/b+yumj/+Szb26FX/W3d5nsV7Aj7+8k/s9vsfBD6hZfiY+8e7Ohz6Mya+9F+Xekju8bf35hEdUZ15Hl8A7FdDiVo0wtKsNjQDKVTIWBITAggrWxIAtY2cCKvEi8GfnYfJdn+e20daJy/I0zk/+y3toR1UZ/24wobbMvk4HSbCzKjrtvlCQ7yU4YKIIBESwBqzuwFoRnPdLRTLDiUadFPfcTAaP69Wz7xtjhhbU/Q9biLwIoDAgDwoAwkMKACJYI1pYJ1mZEK/aL4amI1uonELJ/PXuoI8I4MUwZlvLldIUBYUAY2G8MiGCJYG2XYEW+nTaZX8/ei3ew9tshakGU/oUBYWAoDIhgiWD1JFjr71I1HxGuR7Cm9evZimLFHY+LEvpj3lHYlnQW15kWUclFGCiNARGsUSwCEwS6vZe0+Hbe8j2s5cvrR9/KWyy0buHl5xrOXVyQuSn/evYmgQx0536egl/4PrywnHNpQ959+xeqw9PHOt79eEwvkS9LyOa7b6okO8lOGMjGgAiWwJINlvEsmrZ4bj+tJVh2/Lkiksu/zVn7JuSk8VZHVni2Hs0UXraPT8lcMhcGxoMBEaxJL3jjAdJ+GPVRRC7xX4SbL+bP63hqGaFc/9boSu+Rb5SunsnGtIkRBoSBPcSACNYeKl0LX1diWkeY4s8WEa/Fr9137XNb9Za/rH/afpDVfpF/YR/LyNXqG5xHZXxkbkG+OBbmx2ZP26/zX9hYVI6PhyljEa/jX/VfHiPzt0JHf5rNT2OcO7pfI7ZBNM0dWdu4lrLf/EX6i/anz9G5LuUdH+e2dKF+5KOEgTlgQARLBGtjEZwDsMvM4YhoRF/kjj+rjfqMBnvHkbnlL+S/tfjbouXfIJmjjxNIkzNk5vThYXV49FthsXmvyGbwK/x8i5T/aFyStHPVucPlL/Xz2d7bW9T1BOuIUNlzxrGo78sc/RvAgdfXop57N27x7wPrUbnUOG2uSg0TSoUFYaAOAyJYo1nkBNQ6oI7iWWRRPx7XdAnWkgxZNOkIhxu/mh9EjNbs5mjujtxskJ2N9paEzROkFbFZa3s5nrC95ZjXX6onz6JXS71Exnykw+SXDzLGeaxz2axkIQwIA2kMiGBFnLkAkwbMXstmtTjH5DNVgpWITIVE4yjyQ6RpAwORZwuytIocBX1ctCNBT+o2CZfvZ0moLNKErA+rc/wh9aoPjibPrf/SfmRctLkiZ/zB+Np8csYZmb98yCYmJBPJRBioRLAEAjmCXAwsSEf4x9W24AaL81GbG0dbuX1trdySGPpIEiQkHPc6wbE5L9PNZ2Hk6Ih8rt55Ol2d5ijRk5ta8mp/Gr4kWBwpMt5Fv0ekyo4ZN0hZSLpMrqt3xYy0MZeMcVp9pfIbwoAw0IABEawGAXmHrfv1hXXv5BFGdQLsbB5xxUnXqOQWJTabpGs9IrWOg41nYeQo2sd6G28tZOvJTvDc2rxwrjptpIk63PPS+iqSdVxvY1yUO/oJjYUOrE0jejnjDHQ+Kl1qbFrwhYFRYUAES4AcFSBHvWA1EKwlSTh+L4iF//ibciz8m8Rl9/M9JoEXF7Zw9NlIzJF9LMjKUd6C0Jyzbwguy68RlxVZ4igQ0rQ570Ubrg/fflQmR+Tn4LQ7VjyS7+nTMWLmxkXd1bcRly/Q00eOfsJxRscmHyIfIgwIAxEMiGBFhCInehwFkCycLDYIk3t2hKPFgrw6CjtcfDvuWIabROP42WZbW3u29uvzfBvwwvq7TMzN/bTB6UP3rlMs6rMiQ27+lreQDUeE/v2nY5KXnnNEdos2HeEKbHn5H5duPhfOVYenj37ygXFA1i4Ecq8dZ1A26C89dtWTbISBfcSACJacpHYeuRhYEKzUO1gZDnSxeMeiLRl1c8eocsKzMCAMCAOjwIAIloA4CiBOYndzFN1YOw7Lxg8/nukiOtn1RL4mgQ3pU35EGBAGAgyIYAUCkTPXgp7GQM5RluSXlp9kI9kIA8LA/mBABEsES7uOFhjY/EmC/XEWWhika2FAGBAG8jEggtVicRWw8oE1X1ktX7Y+/oFLyWS+upZupVthQBjojgERLBEsRbDaYsDexYp9265tWyov/AkDwoAwMEsMiGAJ2LMEdvFd18UL1blDvvKvbwUWl7VsVDYqDAgDE8SACNYElaYFrXvIVrKT7IQBYUAYEAa2gQERLBEs7YyEAWFAGBAGhAFhYGAMiGANLNBtsGL1od2XMCAMCAPCgDAwbgyIYIlgadciDAgDwoAwIAwIAwNjQARrYIFqRzHuHYX0I/0IA8KAMCAMbAMDIlgiWNq1CAPCgDAgDAgDwsDAGBDBGlig22DF6kO7L2FAGBAGhAFhYNwYEMESwdKuRRgQBoQBYUAYEAYGxoAI1sAC1Y5i3DsK6Uf6EQaEAWFAGNgGBkSwRLC0axEGhAFhQBgQBoSBgTEggjWwQLfBitWHdl/CgDAgDAgDwsC4MSCCJYKlXYswIAwIA8KAMCAMDIwBEayBBaodxbh3FNKP9CMMCAPCgDCwDQzsHcF65plnqkuXLlWvvvpq9cQTT6wxdvJffvnl6EV5U8i5c+eqF198cfXZ8n362muvrbVD2/657mXgwoAwIAwIA8LAfDEwO4IFkfnSl760cX3rW99aEJxTp06tiA/3HtzPPfdc9dhjjy2uhx56qLr77rtXn7/whS+syn7+85+vKOvr2j39PProo9XBwcGi7tmzZ6vPfvazi7YgdJcvX47Ws/pK52ts0q10KwwIA8LA/mBg9gQLggPZMWJTR7A88J999tnqU5/6VJQM1REsSFQYGaNd+oe8PfnkkxttvvHGGxX9QQxfeeWVjed+XLrfH+OUrqVrYUAYEAami4HZEawQjBztEYmyo7977rlndR9GsHxdiNDHP/7xxXEi+ZAmi27RRiqCRZup40PqhKQNckW7HF3ynMjZ888/L5Kld+OEAWFAGBAGhIEJY2D2BAviAiEycgRpMrKVIlgcM/KMY0HqcexHZMnqceSX1l2LbwAAIABJREFUIlgQM55DnDxh4zPkiiiVz7fImuXRD/Xts9Lp7l6kO+lOGBAGhIH9xcDsCRak5mtf+9qKsECcjCjFCBZliXhZHUgWBM1HleqOCCFMFv2ifSN2tMlxZZOxQbBiR4xN9fR8f41YupfuhQFhQBgYHwYmQbAgKrxHZVfuN/IgSeGRXB3BggBBpsIjPj7z4rpFpeoIlgc5x5OQOb5R6PNT9/aCvN7DGp+hpHSmfOlKGBAGhAFhIIaB2RIsyApkCpJlRAeyA4FKRbAoZyQqJizLszbtM1Era7NNavVJ7SX4kNz5MrqXEQsDwoAwIAwIA9PAwGwJFu8xEWkCiPYuFcd1Oe9gQbTsaC+VeiIEKUuVq8v3RsK7Ylw+T/fTMCLpSXoSBoQBYUAYCDEwO4JF5ApyFfs5BCZfd0RowqGNukgU7adecrc22qaM15O2tvVVXsYtDAgDwoAwIAyMBwOTIFhtAHPmzJmNb+r5+qUJFu+J5b4j5sdFnZzjSV9H9+MxJOlCuhAGhAFhQBjwGJgdwfKTi93nECyiV3zrL/aL8JbHMWKs/a4EK9aW8mSswoAwIAwIA8LANDEgghX5ETMIFkSsC6i7EizeF0sda3YZh+pM0yClN+lNGBAGhIF5YEAEK0GweBm+7gX11G9V2U9J1KWxI0TyYvkytHkYmvQoPQoDwoAwsF8Y2DuCZQCHzKS+tdf0kjsRLv1W1X4ZiuFGqfQuDAgDwoAwkIOBvSVYOcJRGRmRMCAMCAPCgDAgDHTBgAhW5IiwiyBVRwYoDAgDwoAwIAwIA4YBESwRrE4v8xuAlMqZCAPCgDAgDAgDmxgQwRLBEsESBoQBYUAYEAaEgYExIII1sEDF4jdZvGQimQgDwoAwIAzsGwZEsESwtGsRBoQBYUAYEAaEgYExIII1sED3jaFrvtqVCgPCgDAgDAgDmxgQwRLB0q5FGBAGhAFhQBgQBgbGgAjWwAIVi99k8ZKJZCIMCAPCgDCwbxgQwRLB0q5FGBAGhAFhQBgQBgbGgAjWwALdN4au+WpXKgwIA8KAMCAMbGJABEsES7sWYUAYEAaEAWFAGBgYAyJYAwtULH6TxUsmkokwIAwIA8LAvmFABEsES7sWYUAYEAaEAWFAGBgYAyJYAwt03xi65qtdqTAgDAgDwoAwsIkBESwRLO1ahAFhQBgQBoQBYWBgDIhgDSxQsfhNFi+ZSCbCgDAgDAgD+4YBESwRLO1ahAFhQBgQBoQBYWBgDIhgDSzQfWPomq92pcKAMCAMCAPCwCYGRLBEsLRrEQaEAWFAGBAGhIGBMSCCNbBAxeI3WbxkIpkIA8KAMCAM7BsGRLBEsLRrEQaEAWFAGBAGhIGBMSCCNbBA942ha77alQoDwoAwIAwIA5sYEMESwdKuRRgQBoQBYUAYEAYGxoAI1sACFYvfZPGSiWQiDAgDwoAwsG8YEMESwdKuRRgQBoQBYUAYEAYGxoAI1sAC3TeGrvlqVyoMCAPCgDAgDGxiQARLBEu7FmFAGBAGhAFhQBgYGAMiWAMLdFss/vr169XNmzerGzduzP569913ZfgTxWlpe8AO3n777eratWuzuLBnzWe8upyjfq5evSr/Wsi/imAVEmzpheWdd96p/r/X/qH61//X/zPr6+z//WfVe++9V125ckVOYKJYLWkLYOPVi9+o/vP/+9osru+/dU3zGbEu56af6zduVmxSStroPrctgjXRRYtd7r9/7qXqthMPzvr60Mf/xYJg7bORau6b7zaYTH7wgx9U/9Ov/+vZ2ABEUfMZr0+bm36+8c1va/NakAOIYBUUri0CJVIRrPSiW0LeanOc8hbBGi8ZYfM3N0Iyt/mIYJX1ayJYIlij3v0rglXWAUydOIpgiWBtM4ovgiV/1MZnimCJYIlgTRQDbQx9rmVFsESwRLC6Y0ARrLKEUQRrootr6SPC3/z6rerWrVeq3zz5p9V/uXWr+i9//K+OiNi/qs7+A88i1z/8afUx3gn7nVcWz7/6O90N35ymIlhlHcDUiVcpgvWxP36zunXrzersyQDDG/YQPO/5TmTRCEnKLo/yozZ961bVx47LzefID33930Y3iEv9bfqoYz/WTW/l5lPvN0vNRwSrrH8VwdpzgrUkUuuOCIeaJljOMTU47D6OWQSrrOFPnVjZ+MsSrHW78ASk70Jt+A7T3gv4Gll6pfpNT/hS9urL+PsjMtnHjvvMp55UpAmW1dsY99H8++iu3HzSBKvkfESwyvpZEaw9J1jewS8NeblrzyFYZvjmsEKytuHgvPPOvFcEq6wDMKIy1bQswZpYBCuIri3s06LK2FuKYK2Rsk1S2ceO+xAS75sW92vjnx7Bqp9PWj/mZzf0MABhFMEq619FsESwao7+YkeERxEs293+MUeIPXfKNWRLBKusA5gqsbJxlyVYm2TDoli2qdhYNGuwnFO2DyFZbYpWY/i31VcjR/nxhTpCJlftuKh1y7w+81mXl72aYL4mTbCoZ6TE9GVpX70NN5/jU4KvLl7HOMbahn4KzkcEq6x/FcESwVoSrGD3u3LWQf7C6dmO195/4HPOTrmlc6YvEayyDsCIylTTUgRrbXFfi5x0JxtrbSZsoc8CvrBZb4cnAhKSmofZc4SMLYiJ2XlizHXz6jOftXaPxnhMkIK5dRjbWvuZ9QebT41fjRGsLmPNqSOCVda/imCJYFW3mSN2kagkwYo5BpzTwgEe7YJTjjzTiXnHIIJV1gFMlVjZuAcnWEf4tohHfTp81KfPAt6ZYHWwS2+jdfd95nPcrkXiLHoFybWI1lHkBxK4Bd0NMx8bu5+P+VD3pYItzEcEq6x/FcESwVqF07/6O+bILFxdc0RY0CkfO1ZFsIxIKI07wsEJ1pZw7THu7/ss4KtN0WoOoT0v7XoVIdnCAt5nPgu5rMYYktmpRrCMXNl8NnW00s9Kjy5qOuDmFfmKYMX9ylD+VgRrzwnW6l2F4Bhg5ayPHNxxaP7Y2JdljIxtprWOIuY8InmKYJV1AEM5kl21U4pgrewicWwWswdPlLre9yIkga1uRLQGXpxz5thnPsc6MDJy7HtWEazAbzGm43qbPomIZB/d9ZnPbSeMTMXmE4lgHfnDkvMRwSrrX0Ww9plg2e4w4qRyCFbSwQ7oyEWwyjqAXRGjofotS7CCI5zFgrdcJPss0km7GeKvZY5sb3m0GYw/YZclF/DuhOSIjKy9U5ZHsNLy7a+7zvOp8bWr8Sb0s3q+sQHtPx8RrLL+VQRrnwnWhsEeO7AcgqUIVlnjHIqEzLkdEaxjm00vxEdlEgv4kmAFZGwgMtmZkNT4puU800eE4ySMGXqq1U88Gtc3IieCVdaHi2CJYEV/CTmfYMUcc4YzaXSgyzYUwSrrAKZOvkSwWtha7QIes+P+EZLdEazYfFrIKuGfys2n6YiwzHxEsMr6VxEsEayeBCu9s7oVOXps3GUHjk0Eq6wDEMGKL7oloyB1NrC7BTxtx32OQ8vNp3sEa+0nZQJ/U6cbnpWbTxPBSuunz3xEsMr6VxEsEawowWpyNNt6LoJV1gGIYMUJ1rbwHfZTdAFvSSbCsXX5rPmMC1+hDkWwyvpXESwRLBGsiWJg6uRoiPGXOiIMF6JtfRYhGTchmZt+RLBEsKohHPHc2nj77berf//cS6MmR0MsSopglXUAU7cLESwRkiH8TG4bIljyR218piJYE41eiGDJ0NsY+lzLimCJYOWSoyHKiWDJ77bxpSJYIlijjoIpgiWHVufQRLBEsIYgTrltiGDJH9X5o/CZCJYIlgjWRDEQGvM+fhbBEsHKJUdDlBPBEsFq42dFsCa6uL7zzjtV/R/R1nytN/H3H2Nurw2oVXZ/nOB7771XvXrxG4uvz7P4Tf36/lvXNJ8R63Fu+rl+453q6tWres+5EA8QwSok2NKLvAjW/pCI0liacvtj3hRobPPa5M1VnyJY5dYSEayJEqwbN25U16/fqL79ncuzvr57+XsVUYopkwCNvZwDAxvYwrVrb8/i+sEP3quuaz6j1eXc9IP9iGCV808iWBMlWHyL8Hvf/+fq4uuXZn1duvQNEayJYnQbxJJ3sN74xzdnYwMQRc1nvD5tbvp55+bN6sqVK9rAFvKxIliFBFt6cRHBKrfrKK07tT+c7kSwxktG2PzNjZDMbT4iWMP5ophfF8ESwRr17l8RrHYO4KH//bD65pv/tDc7UhEsEaxtRvFFsNr5oxjp2Kc8ESwRrDTBOv94dXDmK9Hn588cVGfOl3fuIljtHNpt/83/WJ389O+KYE306HxuC7jmU95H9iGYimC1869tyaEIlghWlEAtjBaCdXCQvESwyhpnW2OmPATr/XfeW/3pn720FyRLEaxxL+AiWOPWjwhWWR8ugiWCVU+wFMGaFFGBYN12x/3VT9x1T/Wd716e1Ni7EMrtEKyXq6cePqgefurltK0MFDErT0i+Up1ZbZoeqZ56qSwB0Hzayne7+hHBEsGa/SLRZWHZykvuimBNDnsLgnXiwep9d5ysHv7M5yY3/ra2UJpgvfjUI9XBwSPVU+fPVmcmT7CWRHEVeX7pbPXww2erFwcih7GjqrIES/OJybxNngiWCNbsF4m2iwrlt0Kw1hwvO6vHq/NreW13Z+3L6x2sdg7ACBZ/C/KBu+6tvvrCX87afkoTrNVi9dIMCBaEKohInz9TNopVlGBpPr0jqiJY7fxr27VaR4Q6Itw0UhzX6hgh/Q7W8v2ssg5aBKudA/AE67YPfbL6mV94YNZHhSJYLTYt5x/fOOYkQreKaBXYPBUlWJrPpu9uqUMRrHb+VQRrooSpreK2H8Fq4chbGvkqShCpJ4LVzgGsEawTD1Y/fOJk9djjX5xtFEsEK98uY2Qqlldnj22flSRYsbHH8tqOua783OYjgtXOv7ZdpxXBmigh2wrB0jtYkyMmIcHiqPD9d36i+vO/eGVyc8lxZiJY+QTroiI+vSM+JQnWLvQjgiWCNcuFIWfxqCuzNYIVvLNhuzv9DlZZw6zTfd2zGMHiqPDDv/TILI8KRbBaECy9szRugrUD/YhglfXjimApgpV2Ovqh0cmR+yjBOvFg9aN3nqp+6/fOTm4+dWSSZyJYLQjW63zrzr0ziX1P/luEmo9terukIlgiWLNbFJoWjZznimCVNYwcHYyxTIpg3XbigeqDHz1Z/dUrfzMrexLBakOwLlUX177AUv5bwUWP1HhnU/NJb5Aj77SGJEwEq+w6ogiWIlhpA9U7WJMjI2mC9WB12+33VXd97NcnN6c6Irs1gpWxWIWLV5fPxQnJluZhc9d8WhLgLetHBEsEa1YLQt1i0ebZViJYWzZ2c8o+1bcI2zmAWoJ14sHqR+48VT3x+380G5sSwRr3Ai6CNW79iGC1869t1mjKKoKlCFY6giWCNTki0kSwOCr8wJ2/Vv3t65cmN7eYcxPBGvcCLoI1bv2IYIlgzWIhiC0OffIUwSprGH10s8u6zQRreVT487/8G7OwKxGscS/gIljj1o8IVtl1RBEsRbAUwZooBmJELotgnXiw+rE7T1Zf/MPzkydZIljjXsBFsMatHxEsEazJLwKxhbBvniJYZQ2jr352VT+XYHFU+OMf/tXq0t+/MWn7EsEa9wIugjVu/YhglV1HFMGaaPRCBKusYeyKIPXtN59gcVR4svrFX/2MCNYI3jW0L3aIkIybkMxNPyJYZdcRESwRLB0RThQDMTLWimDxNzofua/6g6f/ZLIkSxEsERIjp9tIRbDKEpKYT5tyngjWRBfXmzdvVu+++26Fwc/5evvt69WtW7eqK1euTJYEbNNBtCVYt91xf/XTP3dqkkeFYOK9996rvvf9t6pvf+fyLK533rlZfe/7/zyLuaATzWfcuGSDcu3aNfnWQjxABKuQYEsvqtevX6/effcH1dtv35j1df36jcUiWlqec2m/NcE68WD1QydOVb/y4G9P0slCsG7efLe6ceOdWVyaz7j1ODf9sHm9evXqJG1/Cj5bBGuiBIt3sFhYrly5Nuvr6tW3J0uwPv0vn6z4OYRtXl0I1m0nHqx+/K6T1bP/8cLkHC07cDYZc7EDzWfc/mxu+oEw6nSg3LGnCJYI1qgXpykTrAXZuf2+xV/U8Dc1W7k+9MkKwtT6uuP+6ic/em/1zTf/aVIka24LnuYjgrXNzYIIVjlyRYRNBEsESwSrEAa6RpNak6MuhCpS530n7qtOfvp3RbB2GBUWwRLBEsEqS3q2ebQoglVocS2tRB0Rjt8Ip0awIHbvv/Pe6k//7KXJkCwREhGSbRKSueFNEayy64gIlghWQwTr69Xh6S9Xr4e7+hc+Vx0cHCSvwxeGcfyTPyKMRIp2FaHK6veO+6uf+tn7qu989/IkSNbcFjzNZxi/UYp0zU0/IlgiWJNw9KUjVmH7w0awvl4dOrK0To4SBCskXO7zC4cH1Xob3Z2mCFaH96l6krr33XGyevgzn5uE3c1twdN8uvuKUqTKtzs3/YhgiWBNwtGHBKj05+EI1t9VT58+qE4//XdHkSzI1qerp183R5cgWIpgNeJyikeEFuV6/52fqP78L15pnGNpnDe1X37B85sPbxdmH8Om5efDeEObH3YO2yUkc9PPducjgiWCNXon37QIlHg+GMF6/cvV6fAIMCRP4XOiVZQ5/HrD8WJ/x60I1vYjWAuS9aFPVj/zCw+M/qiwLCFZEpFVNDZmKy5y64lF1/uy87lWvf70p6sDNlAvfLk6XG2q+ttpar5l5zM3/Wx/PiJYIlgiWJH3xAYjWDGixEKyIk/dIljHEbF+zlsEa0cE68SD1Q+fOFk99vgXR21/RRfwNTtY4viFw7JRrKLz8WTw9RkQrLnpZwfzEcESwRq1gy8Rncppc+cEyzvrgvciWLsjWESy3v/f31P91St/M1obLEpIXvicOzpfEiwiQKuIVgHcF52PH+8cCNbc9LOD+YhgiWCN1rnnEKFSZQYjWOyawiPAuiNCyrsX4uu+Sbg4ili9y9UtkiWCtVuCdduHPll9+JceGe1RYUlCEiNTsbzU8ViX/JLzWRvPDAhWTBexvLV5e5LZ4b6kfmJjj+UNOR8RLBEsEaySR4QbL7xmvuTewTl1cQwiWDsmWCcerH70zlPVb/3e2VHaYckFj/cMw6Pu0gte0fl4m50BwZqdfnaANxEsEaxROvZSkancdgeLYC2crv/mSvgTC93ewRrqGEUEa/cE67YTD1Q/cde91V+/enF0tliUkOzgnZii85kbwZqbfnYwHxEsEazROfVcElSy3LAEq+74roZgrV6EX6+v38FaGu2Uf6bBfq5hld5+X3XXx359dLZYlpDwrS73UjtH5+FxuictA9yXnY+z0zlEsBbR9znpZ/t4E8ESwRqdUy9JnHLbFsEqaxi5eqgrNyuCdeLB6kc+fF/15L95ZlT2WJyQrL1z+LnqhQFIVN1RefH52PhnQbCuVVfmpp8tz0cEq+w6or/KibzfVLdojuXZKAhWzcvuOiJ8q5obweKo8AN3/lr1t69fGg3J2hohMWJSONV8XJStsKzriG7q2dz0I4IlgjUaZz4WcsU4tkewduvw9A7WGN7BcmO4/b7q53/5N0Zjk3Nb8DSf3fqbFLGy/LnpRwRLBGs0zlwEa/vOTwTLkZue/zG4ep+qZzs/dufJ6ot/eH4Udjm3BU/z2b6PMfKUk85NPyJYIlijcORjIleKYJU1iqF0Pb8jwiOyd8cD1Qc/8onq0t+/sXPbnNuCp/mIYOUQvaHKiGCVXUv0DpbewSr+f4J9nIEiWOOLYC0iYbefrH7xVz8jgjXwe0IiWCJYffxl27oiWCJYO3fiQ0U0hmxH72CVNYwhdDXbCNbREeMHPnJf9e/+w3/aqX2KkIiQtCUVfcrPDW8iWGXXEUWwFMFSBKsQBuZOsG674/7qp3/u1E6PCue24Gk+Iox9CGDbuiJYIlg73SEPEcko0caNGzcqnPGNG+/M/sIJlJBh6TZnT7BOPFj90IlT1a88+Ns708/SBm5Wb799YxYXWL9xQ/MZqz7np59b1dWrV3dmv6V98K7bVwSrUPSitGLfeeed6vr1G9W3v3N51td3L3+vmuouax8IFn8G/aH/4cGdOehbt25VbDauXXt7FtcPfvBedV3zGa0u56YffOv169d3Zr+l18ldty+CNVGCxTtY3/v+P1cXX7806+vSpW8sCNauDaVL//MnWA9UH/zoyeqvXvmbnTloIlhv/OObs7EBiKLmM16fNjf9vHPzZnXlypWd2W8XvzqlOiJYIlijXpxEsEb6LcITD1Y/euep6rd+7+xOnbMI1njJCJu/uRGSuc1HBEvvYO3UgY+VLSuCVdYwhtD7rCNYH/pk9TO/8ED1ne9e3ql9imCJYG0zii+CNX6/O4TvHqoNRbAUwVIEqxAG5kyw3n/nJ6o//4tXdkqucIIiWCJYIljdMaAIVlnCKIJVaHEdigGn2tlKBOv849XBma9ECdj5MwfVmfPdDTvXKeqIcHxHhO/70Mnqf/ut/3Pn5EoEq7z95dppqtzcIj5zm48IlgjWKBx5iujsKn9rBOvgoDpIXCJY9cY5ywjWHfdXP/Wz9+38aNDsThGscZOsuRGSuc1HBKveh5uf6ZoqgqUIVjRCtdiRKoLVi9zPkWB94K57q6++8Je95NLVWcXqbYdgvVw99fBB9fBTL6dtZaBv85ZfwL9SnVltmB6pnnqpLEHTfNrKd7v6EcESwRqNM485+F3lKYJV1jCG0OvcCNb77jhZPfyZz43KHksTrBefeqQ6OHikeur82erM5AnWkiiuIs8vna0efvhs9eJA5DB2TFiWYGk+MZm3yRPBKruOKIKlCFbmrpyd1ePV+YLOOOYY9A7WSN7BuuP+6ic/em/1zTf/aa8I1gqTL82AYEGogncqz58pG8UqSrA0n0zfnY6iiWCJYI3KoQ8R2RiijaIRLBzX6hgh/Q7W8t2ssg5aBGscBOv9d95b/emfvTQ6WywdwZoVwTr/+MYxJxG6VUSrwOapKMHSfESwRh4gUQRr5ApKkbGiBKuAo10tVC3bFsHaPcHa9f8NpmyAfBGsdHQitLkYmYrlhfX6fC5JsGJjj+X1GX9Yd27zUQRLEazR7ZrrHP62nm2FYPGSe00kq+TO1xybCNaOCdYd91c//XOnqkt//8Yo7VAEK59gXVTEp3fEpyTB2oV+RLBEsEbp2LdFpFL9bI1gBe9sGPHR72A1G+YcXnL/wEfuq/7df/hPo7VBEawWBEvvLI2bYO1APyJYzX48tQbn5OuIUEeEaaejn2noRSwmT7BuP1n94q9+ppcMcpxQnzIiWC0I1ut86869M4l9T/5bhJqPbXq7pCJYIlijdvB9Foc+dRXBKmsYfXRjdSdNsO54oPrgRz4x2qNBk7EIVhuCdam6uPYFlvLfCi56pMb7nJpPeoOc8b6rCFbZdUQRLEWw0gaqd7B6kfspE6z3f+S+6g+e/pNe8zcSVDLdGsHKWKy6RBDCOsUJyZbmYfPSfFoS4C3rRwRLBGv0Tr7kApJqeysRrC0buzlln+ol9x285H77fdXP//JvTMLuRLDGvYCLYI1bPyJYIliTcPQpIlQqXwSrrGEMobdpRrAeqD5w569Vf/v6pUnYnQjWuBdwEaxx60cEq+w6oiNCHRGmjwgVwepFMqZIsH7kw/dVT/6bZ3rNewhymtuGCNa4F3ARrHHrRwRLBGsyzj53URiinCJYZQ1jCB1NjmDdfl9118d+fVL2JoI17gVcBGvc+hHBKruOKIKlCJYiWIUwsCBYt99X3bbN6477q9tOdHlv64HqJ+66t/rrVy+KYO0wcitCMm5CMjf9iGCJYE3K4Q8R+chpQxGssoaRo4OmMv/L//p/LF4W54XxbV0/9N/9z50I1o/ceap64vf/aHK2pgiWCIn/UkzpexGs8fvdJr+8zeeKYBWKXpRW4vXr16srV69Vb/zjm7O+vvnmP1Xvvffe5Bb+0vpPtd/pWPJDn6w+/EuPVN/57uXJyVkESwSrNKny7YtgiWClfG8sXwRrogTr3XffXRAPFpi5X7du3aquXLkyucU/ZnCl89oTrAeqD370ZPVXr/zN5OQLJsCGLslAGOiOATbrpf3SvrYvgjVRgsUR4c2b71ZXrlyb9XX16tuKYLXAaFuC9cMnTlaPPf7FyTpYNhdvv31jNjag+Yzbn81NP5wOaPNaLiongtVi8RoTCxfBKmcUY9Jz27G0Ilgf+mT1M7/wwCSPBk0uc1vwNB8RrG1umkWwyq4jIlgiWKPe/SuC1c4BtCFY77/zE9Wf/8Urk41eQbJESERItklI5oY3Eax2/tU2drmpCJYIlgjWRDEQM/JcgvW+O05WD3/mc5MmVyJY4yZXEJ+5EZK5zUcESwRr8otAbCHsm7etI8LXn/50dfhCwpG/8Lnq4OBg40qW7/C+mCJY7RxAFsG64/7qp372vkkfDZr9zG3B03wSvqaD7ygR2ZqbfkSw2vlX8zu5qSJYE41eDEawGkhSkmBR7/SXq9c3HN/fVU+fPkiTso3y9Q5VBKudA8ghWB+4697qqy/85Sw2LnNb8DSfen9QgjS1aXNu+hHBaudfc4mVlRPB2neCFSE8Lxx+unr69aWjE8Eqa4BmiEOlTQTrfSfuq05++ndnQa6QWfkF7+vV4SpKe2wXbRblNmU1ny4Ea7mpO/303xV/3WFu+hHBKuvfRbBEsAKn9PXq0EWmkgQLYtYQ/WqzsKTKKoLVzgHUEqw77q9+8qP3Vvx461CEbtftlF3wgmjs61+uTjvbSGG2T77m045g4Z8ODj5dPf3Cl6vDyROs7eNNBKudf23r70SwRLDWCBYOy+8EawlWJPrVZ3GJ1RXBaucA6gjWj991snr2P16YDbkqHsGCUB1+fc0+fHQ3hte+eUUJ1tzm4/3P6zMgWDvQjwhWO/8qgjVRwtRWcYOqAF9DAAAJZUlEQVS9gxU4qXCHvtwhLl9kXxAvnMDqyGTzBff1l977H6mIYLVzACmC9UMnTlW/8uBvz4pcFSdYL3xubbMBeSq94ShKsOY2n8B3TT6CtQP9iGC1869t12lFsCZKyIYnWLxrskmISi8oTTt+Eax2DiBKsO64v/rpnztVXfr7N0Sw/KLccB/DfiyvCcNtnpckWLGxx/LajLepbMn5rPU9gwhWTBexvLV5N2C4qawIVjv/KoI1UcLUVnGDEqzFu1Sfq16IGGvSwBPvX1kEa6ifahDBaucAYgTr/R+5r/qDp/9kduRKEax27yvxzqQ//mfxTdp3xBc0Ldax5yJYLXS0A/2IYLXzr23XaUWwJkrIhiJYLxweVAfBeybeUXZxwF3q+D79vQhWOwewQbBuP1n94q9+ZpbkqjjB2sE7MUUJydzm40ngDCJYV3agHxGsdv5VBGuihKmt4oYiWJ7MxO6TZEkRrFGSljWCdccD1Qc/8olZHg2avRQlJFf4Vpc7Ngfzk/8W4Zzm46JDcyBYO8CbCJYI1igXMnPwu0pHQbBqIl8xstYlTxGsdg7AE6wfu/Nk9cU/PD9r+ylLsK5Vi6jC6ksd8WP0LrhO1dF8HGnyEaqm+1kQrO3jTQSrnX9tu97riHCiEa9REKzVwhP5NuFA5EsEq50DWBGs2++rfv6Xf2PW5ApnV5yQNC3sAz/XfDoSrIH1sDMCvKV52PxEsNr5VxGsiRKmtorbFsEyQ9xVKoLVzgEsCdYD1Qfu/LXqb1+/JIK15QWrr52IYIlg9cVQm/oiWO38a9t1WhGsiRIyEayyhtHWkMZSHoL1I3eeqp74/T+aPblC5iIkIiRtCEXfsnPDmwhW2XVEBEsEa+2Xqvs6oKHrK4LVzgFAsO762K/vBbkSwRo3ucIXzI2QzG0+Iljt/GvbjbQIlgiWCNZEMRAz9v/2509Vf/3qRRGsiR0N2sZkbgu45jNuEiyCJYK1N4tFbMFM5emIsKxhpOSu/HHJXQv4uBdw6Wfc+hHBKuvPFMGaaPRCBKusYYhITUO+WsDHvYBLP+PWjwhWWT8ngiWCpSPCiWJAJFAvudvR4lhTESwRrH32UyJYE11cb968WbH7wIHN/bp161Z15coVHRVPFKulHCyYwAZu3ny3unHjnVlcms+49Tg3/eBbr127Jt9ayLeKYBUSbKlFxdq9fv16deXqteqNf3xz1tc33/ynxSJq81ZaNqQ9Nfmy4H3v+29V3/7O5Vlc77xzs/re9/95FnNBJ5rPuHHJ5vzq1asiWIV4gAhWIcGWXqh4BwtHfPH1S7O+Ll36hgjWRDFa2gZonwWCTcZc7ODatbc1nxH7tLnp552bN3U6UNC/imAVFG7JBUYES5GckviaStsiWOPeYM2NkMxtPiJYZdcRESwRrFHv/hXBKusApkKkUuMUwRLB2mb0UgRL/ijli2L5IlgiWCJYE8VAzKD3LU8ESwRLBKs7BhTBKksYRbAmurhu74jwK9WZh89WL8beizj/eHVwcLBxnTnf3eBDZ6kIVlkHMHVCJoI1nK2FtjfE57lFfOY2HxGssv5VBGvPCdaLTz2yQZAODh6pnnrJHHeCYEGuosTr5eqphw+qoUiWCFZZByCCZTgfRzq3BVzzGQeuUmRZBKusfxXB2nOCtWl4EKTHq/OriJUI1tRJyJzHXz6C9ZXqzCpK6zceZRbO8oRE89n0efm6LK8fxrLcpD781MvFX98QwRLB0m90REhgsSPCl85WD5/5SnX+jDv6i0aqLlUXdUQobEawuU1CV5ZgBdFYbCNlC6sNSf5iHVvoyy7gmk9M5m3yyurnUrU8UXikeur82eqMCNbk/asiWDteILouRqUIFsRq/XgvEcEaaEFpcm46Iiy7w+qKv7HUK0qwjjYbHqPnz5SNYhVdwDWf3hGhovrxPvUlEayx+Jg+4xDBEsE6djpEpM585fjzwuADgoWTXh2ZuChXNK//YiSCJYJV5+CKEqzzj1fhMQ0RhvUNSL+IlSdv3BddwDWfwLe1111R/YhgTT5iFfoqESwRrKXTWRAne/dqeZSw+oZg47EI73VY3fZOK1xk/GcRLBGs0Gn5zyUJVoxMxfI8Xvvel1zAY2OP5fWdg6+v+XT0h4pgzYJsiWCJYC3P/ZMkKohg2S4r8f6VkbKhdvkiWCJYnlCF9yUJFu8YKoLVkSAc+YmSBGt2+jHfSiqCJYIVOjt93t5iOMw7WDnfVkkQLO8Mgvshd8UiWNvD1BTttyjB0jtL4z5Sm5t+vB8VwRLBmqJDnsuYhyFYObvTBMFSBGsWDmDq9lCUYC2+Lu/eIwTzyUhvji01lyka8dF8xk0YRbBm51N1RKgjwganU0OwNl6Ib15A/PsZOfeKYCmCVUcCyxKs5VHN8Zc6yrxn6O2gLMHSfLysu9wX14+RLEWwZkG2RLBEsLoTrOg3B4++WTgQ+RLBEsHaKcGyBW9L6dYWcM2nwe/FN4tz049+aLSsfxXBEsHq5Gi67P661BHBKusA6sjLFJ4Vj2BtiYiYbcxtAdd84kTN9L3rVASrrH8VwRLBEsGaKAamQIBKj1EEa9wLuAjWuPUjgiWCNYuz2KEXmu295L5bB6EIVlkHMDQut92eCNZu7bMpAiOCNW79iGCV9a+KYE00eiGCVdYwtk0U1F83fYpgjXsBF8Eat35EsLr5nVx/LYIlgqUjwoliINfI51xOBGvcC7gI1rj1I4IlgqUjwggBUASrrGHMmZTMaW4iWONewEWwxq0fEayy64giWBHyMoUF6MaNG9Xb169X3/7O5Vlfly9/r3rvvfdEsieK09K2BMH6r//1u9Ub//jmLC7sWvMZry7npp933323unr1qvxrIf8qglVIsKUXFgwd4yCd+8U8r1y5IicwUayWtAXINyRrLtetW7dmMxd0ovmMG5vo5/r16/KthXyrCFYhwZZcVNR22bCu5Dsd+c6NeGs+48ae9DNu/YzNd4tgiWBp9yIMCAPCgDAgDAgDA2NABGtggY6NQWs82nEJA8KAMCAMCAPbx4AIlgiWdi3CgDAgDAgDwoAwMDAGRLAGFqh2CdvfJUjmkrkwIAwIA8LA2DAggiWCpV2LMCAMCAPCgDAgDAyMARGsgQU6Ngat8WhXJwwIA8KAMCAMbB8DIlgiWNq1CAPCgDAgDAgDwsDAGBDBGlig2iVsf5cgmUvmwoAwIAwIA2PDwP8PQzUCLE6FpbMAAAAASUVORK5CYII=)"
   ]
  },
  {
   "cell_type": "markdown",
   "metadata": {
    "id": "MYUDcLmMpKjC"
   },
   "source": [
    "* 모델링을 위해서 모든 데이터 값은 숫자 여야 합니다.\n",
    "* 숫자 형식이 아니라 의미상 숫자\n",
    "    * 타이타닉 데이터의 pclass(객실등급)가 1,2,3 입니다. 이는 숫자 형식이지만 숫자의 의미는 아닙니다. (3등급 객실의 3이 1등급 객실의 1에 3배의 의미는 아니라는 말입니다.)\n",
    "* 그러므로 모든 범주형 변수는 모두 (이미 0,1로 되어 있는 변수를 빼고) 가변수화를 수행해야 합니다."
   ]
  },
  {
   "cell_type": "code",
   "execution_count": 46,
   "metadata": {
    "id": "X19zdyZqp0Bd"
   },
   "outputs": [
    {
     "data": {
      "text/html": [
       "<div>\n",
       "<style scoped>\n",
       "    .dataframe tbody tr th:only-of-type {\n",
       "        vertical-align: middle;\n",
       "    }\n",
       "\n",
       "    .dataframe tbody tr th {\n",
       "        vertical-align: top;\n",
       "    }\n",
       "\n",
       "    .dataframe thead th {\n",
       "        text-align: right;\n",
       "    }\n",
       "</style>\n",
       "<table border=\"1\" class=\"dataframe\">\n",
       "  <thead>\n",
       "    <tr style=\"text-align: right;\">\n",
       "      <th></th>\n",
       "      <th>Pclass</th>\n",
       "      <th>Sex</th>\n",
       "      <th>Age</th>\n",
       "      <th>SibSp</th>\n",
       "      <th>Parch</th>\n",
       "      <th>Fare</th>\n",
       "      <th>Embarked</th>\n",
       "    </tr>\n",
       "  </thead>\n",
       "  <tbody>\n",
       "    <tr>\n",
       "      <th>0</th>\n",
       "      <td>3</td>\n",
       "      <td>male</td>\n",
       "      <td>22.0</td>\n",
       "      <td>1</td>\n",
       "      <td>0</td>\n",
       "      <td>7.2500</td>\n",
       "      <td>S</td>\n",
       "    </tr>\n",
       "    <tr>\n",
       "      <th>1</th>\n",
       "      <td>1</td>\n",
       "      <td>female</td>\n",
       "      <td>38.0</td>\n",
       "      <td>1</td>\n",
       "      <td>0</td>\n",
       "      <td>71.2833</td>\n",
       "      <td>C</td>\n",
       "    </tr>\n",
       "    <tr>\n",
       "      <th>2</th>\n",
       "      <td>3</td>\n",
       "      <td>female</td>\n",
       "      <td>26.0</td>\n",
       "      <td>0</td>\n",
       "      <td>0</td>\n",
       "      <td>7.9250</td>\n",
       "      <td>S</td>\n",
       "    </tr>\n",
       "    <tr>\n",
       "      <th>3</th>\n",
       "      <td>1</td>\n",
       "      <td>female</td>\n",
       "      <td>35.0</td>\n",
       "      <td>1</td>\n",
       "      <td>0</td>\n",
       "      <td>53.1000</td>\n",
       "      <td>S</td>\n",
       "    </tr>\n",
       "    <tr>\n",
       "      <th>4</th>\n",
       "      <td>3</td>\n",
       "      <td>male</td>\n",
       "      <td>35.0</td>\n",
       "      <td>0</td>\n",
       "      <td>0</td>\n",
       "      <td>8.0500</td>\n",
       "      <td>S</td>\n",
       "    </tr>\n",
       "  </tbody>\n",
       "</table>\n",
       "</div>"
      ],
      "text/plain": [
       "   Pclass     Sex   Age  SibSp  Parch     Fare Embarked\n",
       "0       3    male  22.0      1      0   7.2500        S\n",
       "1       1  female  38.0      1      0  71.2833        C\n",
       "2       3  female  26.0      0      0   7.9250        S\n",
       "3       1  female  35.0      1      0  53.1000        S\n",
       "4       3    male  35.0      0      0   8.0500        S"
      ]
     },
     "execution_count": 46,
     "metadata": {},
     "output_type": "execute_result"
    }
   ],
   "source": [
    "x.head()"
   ]
  },
  {
   "cell_type": "code",
   "execution_count": 47,
   "metadata": {
    "id": "adCg5Of0mubD"
   },
   "outputs": [
    {
     "data": {
      "text/html": [
       "<div>\n",
       "<style scoped>\n",
       "    .dataframe tbody tr th:only-of-type {\n",
       "        vertical-align: middle;\n",
       "    }\n",
       "\n",
       "    .dataframe tbody tr th {\n",
       "        vertical-align: top;\n",
       "    }\n",
       "\n",
       "    .dataframe thead th {\n",
       "        text-align: right;\n",
       "    }\n",
       "</style>\n",
       "<table border=\"1\" class=\"dataframe\">\n",
       "  <thead>\n",
       "    <tr style=\"text-align: right;\">\n",
       "      <th></th>\n",
       "      <th>Age</th>\n",
       "      <th>SibSp</th>\n",
       "      <th>Parch</th>\n",
       "      <th>Fare</th>\n",
       "      <th>Pclass_2</th>\n",
       "      <th>Pclass_3</th>\n",
       "      <th>Sex_male</th>\n",
       "      <th>Embarked_Q</th>\n",
       "      <th>Embarked_S</th>\n",
       "    </tr>\n",
       "  </thead>\n",
       "  <tbody>\n",
       "    <tr>\n",
       "      <th>0</th>\n",
       "      <td>22.0</td>\n",
       "      <td>1</td>\n",
       "      <td>0</td>\n",
       "      <td>7.2500</td>\n",
       "      <td>0</td>\n",
       "      <td>1</td>\n",
       "      <td>1</td>\n",
       "      <td>0</td>\n",
       "      <td>1</td>\n",
       "    </tr>\n",
       "    <tr>\n",
       "      <th>1</th>\n",
       "      <td>38.0</td>\n",
       "      <td>1</td>\n",
       "      <td>0</td>\n",
       "      <td>71.2833</td>\n",
       "      <td>0</td>\n",
       "      <td>0</td>\n",
       "      <td>0</td>\n",
       "      <td>0</td>\n",
       "      <td>0</td>\n",
       "    </tr>\n",
       "    <tr>\n",
       "      <th>2</th>\n",
       "      <td>26.0</td>\n",
       "      <td>0</td>\n",
       "      <td>0</td>\n",
       "      <td>7.9250</td>\n",
       "      <td>0</td>\n",
       "      <td>1</td>\n",
       "      <td>0</td>\n",
       "      <td>0</td>\n",
       "      <td>1</td>\n",
       "    </tr>\n",
       "    <tr>\n",
       "      <th>3</th>\n",
       "      <td>35.0</td>\n",
       "      <td>1</td>\n",
       "      <td>0</td>\n",
       "      <td>53.1000</td>\n",
       "      <td>0</td>\n",
       "      <td>0</td>\n",
       "      <td>0</td>\n",
       "      <td>0</td>\n",
       "      <td>1</td>\n",
       "    </tr>\n",
       "    <tr>\n",
       "      <th>4</th>\n",
       "      <td>35.0</td>\n",
       "      <td>0</td>\n",
       "      <td>0</td>\n",
       "      <td>8.0500</td>\n",
       "      <td>0</td>\n",
       "      <td>1</td>\n",
       "      <td>1</td>\n",
       "      <td>0</td>\n",
       "      <td>1</td>\n",
       "    </tr>\n",
       "  </tbody>\n",
       "</table>\n",
       "</div>"
      ],
      "text/plain": [
       "    Age  SibSp  Parch     Fare  Pclass_2  Pclass_3  Sex_male  Embarked_Q  \\\n",
       "0  22.0      1      0   7.2500         0         1         1           0   \n",
       "1  38.0      1      0  71.2833         0         0         0           0   \n",
       "2  26.0      0      0   7.9250         0         1         0           0   \n",
       "3  35.0      1      0  53.1000         0         0         0           0   \n",
       "4  35.0      0      0   8.0500         0         1         1           0   \n",
       "\n",
       "   Embarked_S  \n",
       "0           1  \n",
       "1           0  \n",
       "2           1  \n",
       "3           1  \n",
       "4           1  "
      ]
     },
     "execution_count": 47,
     "metadata": {},
     "output_type": "execute_result"
    }
   ],
   "source": [
    "col_dumm = ['Pclass', 'Sex', 'Embarked']\n",
    "x = pd.get_dummies(x, columns = col_dumm, drop_first = True)\n",
    "x.head()"
   ]
  },
  {
   "cell_type": "markdown",
   "metadata": {
    "id": "a0eLIQl4qgdo"
   },
   "source": [
    "* drop_first = True : 가변수화 시, 첫번째 범주 열은 삭제. ==> 하나를 빼도 모든 범주 표현 가능."
   ]
  },
  {
   "cell_type": "markdown",
   "metadata": {
    "id": "7129xhfD29Jv"
   },
   "source": [
    "<img width=\"25\" alt=\"star1\" src=\"https://user-images.githubusercontent.com/78655692/151471925-e5f35751-d4b9-416b-b41d-a059267a09e3.png\"> <span style=\"color:green; font-size:150%\"><b>연습문제</b></span>\n"
   ]
  },
  {
   "cell_type": "markdown",
   "metadata": {
    "id": "FJY0c72L29Jv"
   },
   "source": [
    "* (1) x_air에 대해 범주형 변수를 찾아 직접 가변수화를 수행해 봅시다."
   ]
  },
  {
   "cell_type": "code",
   "execution_count": null,
   "metadata": {
    "id": "FOIRyzP129Jv"
   },
   "outputs": [],
   "source": []
  },
  {
   "cell_type": "markdown",
   "metadata": {
    "id": "Rvc_oO8jqtwP"
   },
   "source": [
    "### (4) 스케일링"
   ]
  },
  {
   "cell_type": "markdown",
   "metadata": {
    "id": "Ft8MopHga7P5"
   },
   "source": [
    "**What & Why**\n",
    "> * 변수 값의 범위가 다르기 때문에 더 중요하게 여겨지는 것을 방지하기 위해 \n",
    "* 모든 값의 범위를 맞춰 주기\n",
    "* knn 알고리즘으로 모델링 하기 전에 반드시 필요.\n",
    "(k-means, DL)\n"
   ]
  },
  {
   "cell_type": "markdown",
   "metadata": {
    "id": "i-qgXHKfa9Xs"
   },
   "source": [
    "**How**\n",
    "> 방법 1 : Normalization (MinMax방식)\n",
    "* 모든 변수의 범위를 0 ~ 1로 변환 \n",
    "* 입력변수 X가 [a, b] 범위라면(a=min, b=max)\n",
    "\n",
    "![image.png](data:image/png;base64,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)\n",
    "\n",
    "> 방법2 : Standardization \n",
    "* 모든 변수의 평균 = 0, 표준편차=1로 변환\n",
    "\n",
    "![image.png](data:image/png;base64,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)"
   ]
  },
  {
   "cell_type": "code",
   "execution_count": 50,
   "metadata": {
    "id": "0nXYyqWSqyBV"
   },
   "outputs": [],
   "source": [
    "from sklearn.preprocessing import MinMaxScaler, StandardScaler"
   ]
  },
  {
   "cell_type": "markdown",
   "metadata": {
    "id": "Pi9qH_4Dr0OI"
   },
   "source": [
    "* 정규화(Normalization, MinMax 방식)\n",
    "    * 모든 값을 0 ~ 1 로."
   ]
  },
  {
   "cell_type": "code",
   "execution_count": 51,
   "metadata": {
    "id": "u9XT2AsLq609"
   },
   "outputs": [
    {
     "data": {
      "text/html": [
       "<div>\n",
       "<style scoped>\n",
       "    .dataframe tbody tr th:only-of-type {\n",
       "        vertical-align: middle;\n",
       "    }\n",
       "\n",
       "    .dataframe tbody tr th {\n",
       "        vertical-align: top;\n",
       "    }\n",
       "\n",
       "    .dataframe thead th {\n",
       "        text-align: right;\n",
       "    }\n",
       "</style>\n",
       "<table border=\"1\" class=\"dataframe\">\n",
       "  <thead>\n",
       "    <tr style=\"text-align: right;\">\n",
       "      <th></th>\n",
       "      <th>Age</th>\n",
       "      <th>SibSp</th>\n",
       "      <th>Parch</th>\n",
       "      <th>Fare</th>\n",
       "      <th>Pclass_2</th>\n",
       "      <th>Pclass_3</th>\n",
       "      <th>Sex_male</th>\n",
       "      <th>Embarked_Q</th>\n",
       "      <th>Embarked_S</th>\n",
       "    </tr>\n",
       "  </thead>\n",
       "  <tbody>\n",
       "    <tr>\n",
       "      <th>0</th>\n",
       "      <td>0.271174</td>\n",
       "      <td>0.125</td>\n",
       "      <td>0.0</td>\n",
       "      <td>0.014151</td>\n",
       "      <td>0.0</td>\n",
       "      <td>1.0</td>\n",
       "      <td>1.0</td>\n",
       "      <td>0.0</td>\n",
       "      <td>1.0</td>\n",
       "    </tr>\n",
       "    <tr>\n",
       "      <th>1</th>\n",
       "      <td>0.472229</td>\n",
       "      <td>0.125</td>\n",
       "      <td>0.0</td>\n",
       "      <td>0.139136</td>\n",
       "      <td>0.0</td>\n",
       "      <td>0.0</td>\n",
       "      <td>0.0</td>\n",
       "      <td>0.0</td>\n",
       "      <td>0.0</td>\n",
       "    </tr>\n",
       "    <tr>\n",
       "      <th>2</th>\n",
       "      <td>0.321438</td>\n",
       "      <td>0.000</td>\n",
       "      <td>0.0</td>\n",
       "      <td>0.015469</td>\n",
       "      <td>0.0</td>\n",
       "      <td>1.0</td>\n",
       "      <td>0.0</td>\n",
       "      <td>0.0</td>\n",
       "      <td>1.0</td>\n",
       "    </tr>\n",
       "    <tr>\n",
       "      <th>3</th>\n",
       "      <td>0.434531</td>\n",
       "      <td>0.125</td>\n",
       "      <td>0.0</td>\n",
       "      <td>0.103644</td>\n",
       "      <td>0.0</td>\n",
       "      <td>0.0</td>\n",
       "      <td>0.0</td>\n",
       "      <td>0.0</td>\n",
       "      <td>1.0</td>\n",
       "    </tr>\n",
       "    <tr>\n",
       "      <th>4</th>\n",
       "      <td>0.434531</td>\n",
       "      <td>0.000</td>\n",
       "      <td>0.0</td>\n",
       "      <td>0.015713</td>\n",
       "      <td>0.0</td>\n",
       "      <td>1.0</td>\n",
       "      <td>1.0</td>\n",
       "      <td>0.0</td>\n",
       "      <td>1.0</td>\n",
       "    </tr>\n",
       "  </tbody>\n",
       "</table>\n",
       "</div>"
      ],
      "text/plain": [
       "        Age  SibSp  Parch      Fare  Pclass_2  Pclass_3  Sex_male  Embarked_Q  \\\n",
       "0  0.271174  0.125    0.0  0.014151       0.0       1.0       1.0         0.0   \n",
       "1  0.472229  0.125    0.0  0.139136       0.0       0.0       0.0         0.0   \n",
       "2  0.321438  0.000    0.0  0.015469       0.0       1.0       0.0         0.0   \n",
       "3  0.434531  0.125    0.0  0.103644       0.0       0.0       0.0         0.0   \n",
       "4  0.434531  0.000    0.0  0.015713       0.0       1.0       1.0         0.0   \n",
       "\n",
       "   Embarked_S  \n",
       "0         1.0  \n",
       "1         0.0  \n",
       "2         1.0  \n",
       "3         1.0  \n",
       "4         1.0  "
      ]
     },
     "execution_count": 51,
     "metadata": {},
     "output_type": "execute_result"
    }
   ],
   "source": [
    "# 선언하기\n",
    "scaler = MinMaxScaler()\n",
    "\n",
    "# 만들고 적용 .fit_transform()   : .fit() + .transform()\n",
    "x1 = scaler.fit_transform(x)\n",
    "# 적용하고 나면 넘파이 어레이가 된다.\n",
    "\n",
    "# 모델링할 때에는 넘파이 어레이여도 상관 없지만, 우리가 편하게 살펴보기 위해 데이터프레임으로 변환합니다.\n",
    "x1 = pd.DataFrame(x1, columns = list(x))\n",
    "x1.head()"
   ]
  },
  {
   "cell_type": "markdown",
   "metadata": {
    "id": "W6Dx9cPwr4zF"
   },
   "source": [
    "* 표준화(Standardization)\n",
    "    * 평균은 0, 표준편차 1 로"
   ]
  },
  {
   "cell_type": "code",
   "execution_count": 52,
   "metadata": {
    "id": "8-Rusuzkr4jJ"
   },
   "outputs": [
    {
     "data": {
      "text/html": [
       "<div>\n",
       "<style scoped>\n",
       "    .dataframe tbody tr th:only-of-type {\n",
       "        vertical-align: middle;\n",
       "    }\n",
       "\n",
       "    .dataframe tbody tr th {\n",
       "        vertical-align: top;\n",
       "    }\n",
       "\n",
       "    .dataframe thead th {\n",
       "        text-align: right;\n",
       "    }\n",
       "</style>\n",
       "<table border=\"1\" class=\"dataframe\">\n",
       "  <thead>\n",
       "    <tr style=\"text-align: right;\">\n",
       "      <th></th>\n",
       "      <th>Age</th>\n",
       "      <th>SibSp</th>\n",
       "      <th>Parch</th>\n",
       "      <th>Fare</th>\n",
       "      <th>Pclass_2</th>\n",
       "      <th>Pclass_3</th>\n",
       "      <th>Sex_male</th>\n",
       "      <th>Embarked_Q</th>\n",
       "      <th>Embarked_S</th>\n",
       "    </tr>\n",
       "  </thead>\n",
       "  <tbody>\n",
       "    <tr>\n",
       "      <th>0</th>\n",
       "      <td>-0.530377</td>\n",
       "      <td>0.432793</td>\n",
       "      <td>-0.473674</td>\n",
       "      <td>-0.502445</td>\n",
       "      <td>-0.510152</td>\n",
       "      <td>0.902587</td>\n",
       "      <td>0.737695</td>\n",
       "      <td>-0.307562</td>\n",
       "      <td>0.619306</td>\n",
       "    </tr>\n",
       "    <tr>\n",
       "      <th>1</th>\n",
       "      <td>0.571831</td>\n",
       "      <td>0.432793</td>\n",
       "      <td>-0.473674</td>\n",
       "      <td>0.786845</td>\n",
       "      <td>-0.510152</td>\n",
       "      <td>-1.107926</td>\n",
       "      <td>-1.355574</td>\n",
       "      <td>-0.307562</td>\n",
       "      <td>-1.614710</td>\n",
       "    </tr>\n",
       "    <tr>\n",
       "      <th>2</th>\n",
       "      <td>-0.254825</td>\n",
       "      <td>-0.474545</td>\n",
       "      <td>-0.473674</td>\n",
       "      <td>-0.488854</td>\n",
       "      <td>-0.510152</td>\n",
       "      <td>0.902587</td>\n",
       "      <td>-1.355574</td>\n",
       "      <td>-0.307562</td>\n",
       "      <td>0.619306</td>\n",
       "    </tr>\n",
       "    <tr>\n",
       "      <th>3</th>\n",
       "      <td>0.365167</td>\n",
       "      <td>0.432793</td>\n",
       "      <td>-0.473674</td>\n",
       "      <td>0.420730</td>\n",
       "      <td>-0.510152</td>\n",
       "      <td>-1.107926</td>\n",
       "      <td>-1.355574</td>\n",
       "      <td>-0.307562</td>\n",
       "      <td>0.619306</td>\n",
       "    </tr>\n",
       "    <tr>\n",
       "      <th>4</th>\n",
       "      <td>0.365167</td>\n",
       "      <td>-0.474545</td>\n",
       "      <td>-0.473674</td>\n",
       "      <td>-0.486337</td>\n",
       "      <td>-0.510152</td>\n",
       "      <td>0.902587</td>\n",
       "      <td>0.737695</td>\n",
       "      <td>-0.307562</td>\n",
       "      <td>0.619306</td>\n",
       "    </tr>\n",
       "  </tbody>\n",
       "</table>\n",
       "</div>"
      ],
      "text/plain": [
       "        Age     SibSp     Parch      Fare  Pclass_2  Pclass_3  Sex_male  \\\n",
       "0 -0.530377  0.432793 -0.473674 -0.502445 -0.510152  0.902587  0.737695   \n",
       "1  0.571831  0.432793 -0.473674  0.786845 -0.510152 -1.107926 -1.355574   \n",
       "2 -0.254825 -0.474545 -0.473674 -0.488854 -0.510152  0.902587 -1.355574   \n",
       "3  0.365167  0.432793 -0.473674  0.420730 -0.510152 -1.107926 -1.355574   \n",
       "4  0.365167 -0.474545 -0.473674 -0.486337 -0.510152  0.902587  0.737695   \n",
       "\n",
       "   Embarked_Q  Embarked_S  \n",
       "0   -0.307562    0.619306  \n",
       "1   -0.307562   -1.614710  \n",
       "2   -0.307562    0.619306  \n",
       "3   -0.307562    0.619306  \n",
       "4   -0.307562    0.619306  "
      ]
     },
     "execution_count": 52,
     "metadata": {},
     "output_type": "execute_result"
    }
   ],
   "source": [
    "# 선언하기\n",
    "scaler = StandardScaler()\n",
    "\n",
    "# 만들고 적용 .fit_transform()   : .fit() + .transform()\n",
    "x2 = scaler.fit_transform(x)\n",
    "# 적용하고 나면 넘파이 어레이가 된다.\n",
    "\n",
    "# 모델링할 때에는 넘파이 어레이여도 상관 없지만, 우리가 편하게 살펴보기 위해 데이터프레임으로 변환합니다.\n",
    "x2 = pd.DataFrame(x2, columns = list(x))\n",
    "x2.head()"
   ]
  },
  {
   "cell_type": "markdown",
   "metadata": {
    "id": "2l3SraAUsML6"
   },
   "source": [
    "* 값들을 살펴봅시다."
   ]
  },
  {
   "cell_type": "code",
   "execution_count": 53,
   "metadata": {
    "id": "a6iMvy_qsOgv"
   },
   "outputs": [
    {
     "data": {
      "text/html": [
       "<div>\n",
       "<style scoped>\n",
       "    .dataframe tbody tr th:only-of-type {\n",
       "        vertical-align: middle;\n",
       "    }\n",
       "\n",
       "    .dataframe tbody tr th {\n",
       "        vertical-align: top;\n",
       "    }\n",
       "\n",
       "    .dataframe thead th {\n",
       "        text-align: right;\n",
       "    }\n",
       "</style>\n",
       "<table border=\"1\" class=\"dataframe\">\n",
       "  <thead>\n",
       "    <tr style=\"text-align: right;\">\n",
       "      <th></th>\n",
       "      <th>Age</th>\n",
       "      <th>SibSp</th>\n",
       "      <th>Parch</th>\n",
       "      <th>Fare</th>\n",
       "      <th>Pclass_2</th>\n",
       "      <th>Pclass_3</th>\n",
       "      <th>Sex_male</th>\n",
       "      <th>Embarked_Q</th>\n",
       "      <th>Embarked_S</th>\n",
       "    </tr>\n",
       "  </thead>\n",
       "  <tbody>\n",
       "    <tr>\n",
       "      <th>count</th>\n",
       "      <td>714.000000</td>\n",
       "      <td>891.000000</td>\n",
       "      <td>891.000000</td>\n",
       "      <td>891.000000</td>\n",
       "      <td>891.000000</td>\n",
       "      <td>891.000000</td>\n",
       "      <td>891.000000</td>\n",
       "      <td>891.000000</td>\n",
       "      <td>891.000000</td>\n",
       "    </tr>\n",
       "    <tr>\n",
       "      <th>mean</th>\n",
       "      <td>29.699118</td>\n",
       "      <td>0.523008</td>\n",
       "      <td>0.381594</td>\n",
       "      <td>32.204208</td>\n",
       "      <td>0.206510</td>\n",
       "      <td>0.551066</td>\n",
       "      <td>0.647587</td>\n",
       "      <td>0.086420</td>\n",
       "      <td>0.722783</td>\n",
       "    </tr>\n",
       "    <tr>\n",
       "      <th>std</th>\n",
       "      <td>14.526497</td>\n",
       "      <td>1.102743</td>\n",
       "      <td>0.806057</td>\n",
       "      <td>49.693429</td>\n",
       "      <td>0.405028</td>\n",
       "      <td>0.497665</td>\n",
       "      <td>0.477990</td>\n",
       "      <td>0.281141</td>\n",
       "      <td>0.447876</td>\n",
       "    </tr>\n",
       "    <tr>\n",
       "      <th>min</th>\n",
       "      <td>0.420000</td>\n",
       "      <td>0.000000</td>\n",
       "      <td>0.000000</td>\n",
       "      <td>0.000000</td>\n",
       "      <td>0.000000</td>\n",
       "      <td>0.000000</td>\n",
       "      <td>0.000000</td>\n",
       "      <td>0.000000</td>\n",
       "      <td>0.000000</td>\n",
       "    </tr>\n",
       "    <tr>\n",
       "      <th>25%</th>\n",
       "      <td>20.125000</td>\n",
       "      <td>0.000000</td>\n",
       "      <td>0.000000</td>\n",
       "      <td>7.910400</td>\n",
       "      <td>0.000000</td>\n",
       "      <td>0.000000</td>\n",
       "      <td>0.000000</td>\n",
       "      <td>0.000000</td>\n",
       "      <td>0.000000</td>\n",
       "    </tr>\n",
       "    <tr>\n",
       "      <th>50%</th>\n",
       "      <td>28.000000</td>\n",
       "      <td>0.000000</td>\n",
       "      <td>0.000000</td>\n",
       "      <td>14.454200</td>\n",
       "      <td>0.000000</td>\n",
       "      <td>1.000000</td>\n",
       "      <td>1.000000</td>\n",
       "      <td>0.000000</td>\n",
       "      <td>1.000000</td>\n",
       "    </tr>\n",
       "    <tr>\n",
       "      <th>75%</th>\n",
       "      <td>38.000000</td>\n",
       "      <td>1.000000</td>\n",
       "      <td>0.000000</td>\n",
       "      <td>31.000000</td>\n",
       "      <td>0.000000</td>\n",
       "      <td>1.000000</td>\n",
       "      <td>1.000000</td>\n",
       "      <td>0.000000</td>\n",
       "      <td>1.000000</td>\n",
       "    </tr>\n",
       "    <tr>\n",
       "      <th>max</th>\n",
       "      <td>80.000000</td>\n",
       "      <td>8.000000</td>\n",
       "      <td>6.000000</td>\n",
       "      <td>512.329200</td>\n",
       "      <td>1.000000</td>\n",
       "      <td>1.000000</td>\n",
       "      <td>1.000000</td>\n",
       "      <td>1.000000</td>\n",
       "      <td>1.000000</td>\n",
       "    </tr>\n",
       "  </tbody>\n",
       "</table>\n",
       "</div>"
      ],
      "text/plain": [
       "              Age       SibSp       Parch        Fare    Pclass_2    Pclass_3  \\\n",
       "count  714.000000  891.000000  891.000000  891.000000  891.000000  891.000000   \n",
       "mean    29.699118    0.523008    0.381594   32.204208    0.206510    0.551066   \n",
       "std     14.526497    1.102743    0.806057   49.693429    0.405028    0.497665   \n",
       "min      0.420000    0.000000    0.000000    0.000000    0.000000    0.000000   \n",
       "25%     20.125000    0.000000    0.000000    7.910400    0.000000    0.000000   \n",
       "50%     28.000000    0.000000    0.000000   14.454200    0.000000    1.000000   \n",
       "75%     38.000000    1.000000    0.000000   31.000000    0.000000    1.000000   \n",
       "max     80.000000    8.000000    6.000000  512.329200    1.000000    1.000000   \n",
       "\n",
       "         Sex_male  Embarked_Q  Embarked_S  \n",
       "count  891.000000  891.000000  891.000000  \n",
       "mean     0.647587    0.086420    0.722783  \n",
       "std      0.477990    0.281141    0.447876  \n",
       "min      0.000000    0.000000    0.000000  \n",
       "25%      0.000000    0.000000    0.000000  \n",
       "50%      1.000000    0.000000    1.000000  \n",
       "75%      1.000000    0.000000    1.000000  \n",
       "max      1.000000    1.000000    1.000000  "
      ]
     },
     "execution_count": 53,
     "metadata": {},
     "output_type": "execute_result"
    }
   ],
   "source": [
    "x.describe()"
   ]
  },
  {
   "cell_type": "code",
   "execution_count": 54,
   "metadata": {
    "id": "gkJiF7eosQSL"
   },
   "outputs": [
    {
     "data": {
      "text/html": [
       "<div>\n",
       "<style scoped>\n",
       "    .dataframe tbody tr th:only-of-type {\n",
       "        vertical-align: middle;\n",
       "    }\n",
       "\n",
       "    .dataframe tbody tr th {\n",
       "        vertical-align: top;\n",
       "    }\n",
       "\n",
       "    .dataframe thead th {\n",
       "        text-align: right;\n",
       "    }\n",
       "</style>\n",
       "<table border=\"1\" class=\"dataframe\">\n",
       "  <thead>\n",
       "    <tr style=\"text-align: right;\">\n",
       "      <th></th>\n",
       "      <th>Age</th>\n",
       "      <th>SibSp</th>\n",
       "      <th>Parch</th>\n",
       "      <th>Fare</th>\n",
       "      <th>Pclass_2</th>\n",
       "      <th>Pclass_3</th>\n",
       "      <th>Sex_male</th>\n",
       "      <th>Embarked_Q</th>\n",
       "      <th>Embarked_S</th>\n",
       "    </tr>\n",
       "  </thead>\n",
       "  <tbody>\n",
       "    <tr>\n",
       "      <th>count</th>\n",
       "      <td>714.000000</td>\n",
       "      <td>891.000000</td>\n",
       "      <td>891.000000</td>\n",
       "      <td>891.000000</td>\n",
       "      <td>891.000000</td>\n",
       "      <td>891.000000</td>\n",
       "      <td>891.000000</td>\n",
       "      <td>891.000000</td>\n",
       "      <td>891.000000</td>\n",
       "    </tr>\n",
       "    <tr>\n",
       "      <th>mean</th>\n",
       "      <td>0.367921</td>\n",
       "      <td>0.065376</td>\n",
       "      <td>0.063599</td>\n",
       "      <td>0.062858</td>\n",
       "      <td>0.206510</td>\n",
       "      <td>0.551066</td>\n",
       "      <td>0.647587</td>\n",
       "      <td>0.086420</td>\n",
       "      <td>0.722783</td>\n",
       "    </tr>\n",
       "    <tr>\n",
       "      <th>std</th>\n",
       "      <td>0.182540</td>\n",
       "      <td>0.137843</td>\n",
       "      <td>0.134343</td>\n",
       "      <td>0.096995</td>\n",
       "      <td>0.405028</td>\n",
       "      <td>0.497665</td>\n",
       "      <td>0.477990</td>\n",
       "      <td>0.281141</td>\n",
       "      <td>0.447876</td>\n",
       "    </tr>\n",
       "    <tr>\n",
       "      <th>min</th>\n",
       "      <td>0.000000</td>\n",
       "      <td>0.000000</td>\n",
       "      <td>0.000000</td>\n",
       "      <td>0.000000</td>\n",
       "      <td>0.000000</td>\n",
       "      <td>0.000000</td>\n",
       "      <td>0.000000</td>\n",
       "      <td>0.000000</td>\n",
       "      <td>0.000000</td>\n",
       "    </tr>\n",
       "    <tr>\n",
       "      <th>25%</th>\n",
       "      <td>0.247612</td>\n",
       "      <td>0.000000</td>\n",
       "      <td>0.000000</td>\n",
       "      <td>0.015440</td>\n",
       "      <td>0.000000</td>\n",
       "      <td>0.000000</td>\n",
       "      <td>0.000000</td>\n",
       "      <td>0.000000</td>\n",
       "      <td>0.000000</td>\n",
       "    </tr>\n",
       "    <tr>\n",
       "      <th>50%</th>\n",
       "      <td>0.346569</td>\n",
       "      <td>0.000000</td>\n",
       "      <td>0.000000</td>\n",
       "      <td>0.028213</td>\n",
       "      <td>0.000000</td>\n",
       "      <td>1.000000</td>\n",
       "      <td>1.000000</td>\n",
       "      <td>0.000000</td>\n",
       "      <td>1.000000</td>\n",
       "    </tr>\n",
       "    <tr>\n",
       "      <th>75%</th>\n",
       "      <td>0.472229</td>\n",
       "      <td>0.125000</td>\n",
       "      <td>0.000000</td>\n",
       "      <td>0.060508</td>\n",
       "      <td>0.000000</td>\n",
       "      <td>1.000000</td>\n",
       "      <td>1.000000</td>\n",
       "      <td>0.000000</td>\n",
       "      <td>1.000000</td>\n",
       "    </tr>\n",
       "    <tr>\n",
       "      <th>max</th>\n",
       "      <td>1.000000</td>\n",
       "      <td>1.000000</td>\n",
       "      <td>1.000000</td>\n",
       "      <td>1.000000</td>\n",
       "      <td>1.000000</td>\n",
       "      <td>1.000000</td>\n",
       "      <td>1.000000</td>\n",
       "      <td>1.000000</td>\n",
       "      <td>1.000000</td>\n",
       "    </tr>\n",
       "  </tbody>\n",
       "</table>\n",
       "</div>"
      ],
      "text/plain": [
       "              Age       SibSp       Parch        Fare    Pclass_2    Pclass_3  \\\n",
       "count  714.000000  891.000000  891.000000  891.000000  891.000000  891.000000   \n",
       "mean     0.367921    0.065376    0.063599    0.062858    0.206510    0.551066   \n",
       "std      0.182540    0.137843    0.134343    0.096995    0.405028    0.497665   \n",
       "min      0.000000    0.000000    0.000000    0.000000    0.000000    0.000000   \n",
       "25%      0.247612    0.000000    0.000000    0.015440    0.000000    0.000000   \n",
       "50%      0.346569    0.000000    0.000000    0.028213    0.000000    1.000000   \n",
       "75%      0.472229    0.125000    0.000000    0.060508    0.000000    1.000000   \n",
       "max      1.000000    1.000000    1.000000    1.000000    1.000000    1.000000   \n",
       "\n",
       "         Sex_male  Embarked_Q  Embarked_S  \n",
       "count  891.000000  891.000000  891.000000  \n",
       "mean     0.647587    0.086420    0.722783  \n",
       "std      0.477990    0.281141    0.447876  \n",
       "min      0.000000    0.000000    0.000000  \n",
       "25%      0.000000    0.000000    0.000000  \n",
       "50%      1.000000    0.000000    1.000000  \n",
       "75%      1.000000    0.000000    1.000000  \n",
       "max      1.000000    1.000000    1.000000  "
      ]
     },
     "execution_count": 54,
     "metadata": {},
     "output_type": "execute_result"
    }
   ],
   "source": [
    "x1.describe()"
   ]
  },
  {
   "cell_type": "code",
   "execution_count": 55,
   "metadata": {
    "id": "1wAx99scsRnw"
   },
   "outputs": [
    {
     "data": {
      "text/html": [
       "<div>\n",
       "<style scoped>\n",
       "    .dataframe tbody tr th:only-of-type {\n",
       "        vertical-align: middle;\n",
       "    }\n",
       "\n",
       "    .dataframe tbody tr th {\n",
       "        vertical-align: top;\n",
       "    }\n",
       "\n",
       "    .dataframe thead th {\n",
       "        text-align: right;\n",
       "    }\n",
       "</style>\n",
       "<table border=\"1\" class=\"dataframe\">\n",
       "  <thead>\n",
       "    <tr style=\"text-align: right;\">\n",
       "      <th></th>\n",
       "      <th>Age</th>\n",
       "      <th>SibSp</th>\n",
       "      <th>Parch</th>\n",
       "      <th>Fare</th>\n",
       "      <th>Pclass_2</th>\n",
       "      <th>Pclass_3</th>\n",
       "      <th>Sex_male</th>\n",
       "      <th>Embarked_Q</th>\n",
       "      <th>Embarked_S</th>\n",
       "    </tr>\n",
       "  </thead>\n",
       "  <tbody>\n",
       "    <tr>\n",
       "      <th>count</th>\n",
       "      <td>7.140000e+02</td>\n",
       "      <td>8.910000e+02</td>\n",
       "      <td>8.910000e+02</td>\n",
       "      <td>8.910000e+02</td>\n",
       "      <td>8.910000e+02</td>\n",
       "      <td>8.910000e+02</td>\n",
       "      <td>8.910000e+02</td>\n",
       "      <td>891.000000</td>\n",
       "      <td>8.910000e+02</td>\n",
       "    </tr>\n",
       "    <tr>\n",
       "      <th>mean</th>\n",
       "      <td>2.388379e-16</td>\n",
       "      <td>4.386066e-17</td>\n",
       "      <td>5.382900e-17</td>\n",
       "      <td>3.987333e-18</td>\n",
       "      <td>1.993666e-17</td>\n",
       "      <td>-6.778466e-17</td>\n",
       "      <td>-1.156327e-16</td>\n",
       "      <td>0.000000</td>\n",
       "      <td>-4.984166e-17</td>\n",
       "    </tr>\n",
       "    <tr>\n",
       "      <th>std</th>\n",
       "      <td>1.000701e+00</td>\n",
       "      <td>1.000562e+00</td>\n",
       "      <td>1.000562e+00</td>\n",
       "      <td>1.000562e+00</td>\n",
       "      <td>1.000562e+00</td>\n",
       "      <td>1.000562e+00</td>\n",
       "      <td>1.000562e+00</td>\n",
       "      <td>1.000562</td>\n",
       "      <td>1.000562e+00</td>\n",
       "    </tr>\n",
       "    <tr>\n",
       "      <th>min</th>\n",
       "      <td>-2.016979e+00</td>\n",
       "      <td>-4.745452e-01</td>\n",
       "      <td>-4.736736e-01</td>\n",
       "      <td>-6.484217e-01</td>\n",
       "      <td>-5.101515e-01</td>\n",
       "      <td>-1.107926e+00</td>\n",
       "      <td>-1.355574e+00</td>\n",
       "      <td>-0.307562</td>\n",
       "      <td>-1.614710e+00</td>\n",
       "    </tr>\n",
       "    <tr>\n",
       "      <th>25%</th>\n",
       "      <td>-6.595416e-01</td>\n",
       "      <td>-4.745452e-01</td>\n",
       "      <td>-4.736736e-01</td>\n",
       "      <td>-4.891482e-01</td>\n",
       "      <td>-5.101515e-01</td>\n",
       "      <td>-1.107926e+00</td>\n",
       "      <td>-1.355574e+00</td>\n",
       "      <td>-0.307562</td>\n",
       "      <td>-1.614710e+00</td>\n",
       "    </tr>\n",
       "    <tr>\n",
       "      <th>50%</th>\n",
       "      <td>-1.170488e-01</td>\n",
       "      <td>-4.745452e-01</td>\n",
       "      <td>-4.736736e-01</td>\n",
       "      <td>-3.573909e-01</td>\n",
       "      <td>-5.101515e-01</td>\n",
       "      <td>9.025874e-01</td>\n",
       "      <td>7.376951e-01</td>\n",
       "      <td>-0.307562</td>\n",
       "      <td>6.193064e-01</td>\n",
       "    </tr>\n",
       "    <tr>\n",
       "      <th>75%</th>\n",
       "      <td>5.718310e-01</td>\n",
       "      <td>4.327934e-01</td>\n",
       "      <td>-4.736736e-01</td>\n",
       "      <td>-2.424635e-02</td>\n",
       "      <td>-5.101515e-01</td>\n",
       "      <td>9.025874e-01</td>\n",
       "      <td>7.376951e-01</td>\n",
       "      <td>-0.307562</td>\n",
       "      <td>6.193064e-01</td>\n",
       "    </tr>\n",
       "    <tr>\n",
       "      <th>max</th>\n",
       "      <td>3.465126e+00</td>\n",
       "      <td>6.784163e+00</td>\n",
       "      <td>6.974147e+00</td>\n",
       "      <td>9.667167e+00</td>\n",
       "      <td>1.960202e+00</td>\n",
       "      <td>9.025874e-01</td>\n",
       "      <td>7.376951e-01</td>\n",
       "      <td>3.251373</td>\n",
       "      <td>6.193064e-01</td>\n",
       "    </tr>\n",
       "  </tbody>\n",
       "</table>\n",
       "</div>"
      ],
      "text/plain": [
       "                Age         SibSp         Parch          Fare      Pclass_2  \\\n",
       "count  7.140000e+02  8.910000e+02  8.910000e+02  8.910000e+02  8.910000e+02   \n",
       "mean   2.388379e-16  4.386066e-17  5.382900e-17  3.987333e-18  1.993666e-17   \n",
       "std    1.000701e+00  1.000562e+00  1.000562e+00  1.000562e+00  1.000562e+00   \n",
       "min   -2.016979e+00 -4.745452e-01 -4.736736e-01 -6.484217e-01 -5.101515e-01   \n",
       "25%   -6.595416e-01 -4.745452e-01 -4.736736e-01 -4.891482e-01 -5.101515e-01   \n",
       "50%   -1.170488e-01 -4.745452e-01 -4.736736e-01 -3.573909e-01 -5.101515e-01   \n",
       "75%    5.718310e-01  4.327934e-01 -4.736736e-01 -2.424635e-02 -5.101515e-01   \n",
       "max    3.465126e+00  6.784163e+00  6.974147e+00  9.667167e+00  1.960202e+00   \n",
       "\n",
       "           Pclass_3      Sex_male  Embarked_Q    Embarked_S  \n",
       "count  8.910000e+02  8.910000e+02  891.000000  8.910000e+02  \n",
       "mean  -6.778466e-17 -1.156327e-16    0.000000 -4.984166e-17  \n",
       "std    1.000562e+00  1.000562e+00    1.000562  1.000562e+00  \n",
       "min   -1.107926e+00 -1.355574e+00   -0.307562 -1.614710e+00  \n",
       "25%   -1.107926e+00 -1.355574e+00   -0.307562 -1.614710e+00  \n",
       "50%    9.025874e-01  7.376951e-01   -0.307562  6.193064e-01  \n",
       "75%    9.025874e-01  7.376951e-01   -0.307562  6.193064e-01  \n",
       "max    9.025874e-01  7.376951e-01    3.251373  6.193064e-01  "
      ]
     },
     "execution_count": 55,
     "metadata": {},
     "output_type": "execute_result"
    }
   ],
   "source": [
    "x2.describe()"
   ]
  },
  {
   "cell_type": "markdown",
   "metadata": {
    "id": "vdqOWWef3Oas"
   },
   "source": [
    "<img width=\"25\" alt=\"star1\" src=\"https://user-images.githubusercontent.com/78655692/151471925-e5f35751-d4b9-416b-b41d-a059267a09e3.png\"> <span style=\"color:green; font-size:150%\"><b>연습문제</b></span>\n"
   ]
  },
  {
   "cell_type": "markdown",
   "metadata": {
    "id": "XRdLUq-q3Oat"
   },
   "source": [
    "* (1) x_air의 Date 열을 삭제합니다."
   ]
  },
  {
   "cell_type": "code",
   "execution_count": null,
   "metadata": {},
   "outputs": [],
   "source": []
  },
  {
   "cell_type": "markdown",
   "metadata": {
    "id": "RFkpKGHz4JOm"
   },
   "source": [
    "* (2) x_air을 표준화 방식으로 스케일링 하시오."
   ]
  },
  {
   "cell_type": "code",
   "execution_count": null,
   "metadata": {},
   "outputs": [],
   "source": []
  },
  {
   "cell_type": "markdown",
   "metadata": {
    "id": "xtQPrnohti_W"
   },
   "source": [
    "-----"
   ]
  }
 ],
 "metadata": {
  "colab": {
   "collapsed_sections": [],
   "name": "11. 데이터 전처리.ipynb",
   "provenance": [],
   "toc_visible": true
  },
  "kernelspec": {
   "display_name": "Python 3 (ipykernel)",
   "language": "python",
   "name": "python3"
  },
  "language_info": {
   "codemirror_mode": {
    "name": "ipython",
    "version": 3
   },
   "file_extension": ".py",
   "mimetype": "text/x-python",
   "name": "python",
   "nbconvert_exporter": "python",
   "pygments_lexer": "ipython3",
   "version": "3.10.9"
  }
 },
 "nbformat": 4,
 "nbformat_minor": 4
}
