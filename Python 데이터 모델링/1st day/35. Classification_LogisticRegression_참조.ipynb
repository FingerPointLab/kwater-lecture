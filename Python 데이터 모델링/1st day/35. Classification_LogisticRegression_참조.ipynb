{
 "cells": [
  {
   "cell_type": "markdown",
   "metadata": {
    "id": "cVB9pY-v8uv5"
   },
   "source": [
    "# Classification : LogisticRegression\n"
   ]
  },
  {
   "cell_type": "markdown",
   "metadata": {
    "id": "jnCv9u_Wy9e1"
   },
   "source": [
    "## 00 환경준비"
   ]
  },
  {
   "cell_type": "markdown",
   "metadata": {
    "id": "RMnY07cTIVT0"
   },
   "source": [
    "### 1) Import"
   ]
  },
  {
   "cell_type": "code",
   "execution_count": 1,
   "metadata": {
    "executionInfo": {
     "elapsed": 5,
     "status": "ok",
     "timestamp": 1658204273431,
     "user": {
      "displayName": "한기영",
      "userId": "13049187003176135487"
     },
     "user_tz": -540
    },
    "id": "wQER3CzQGJCw"
   },
   "outputs": [],
   "source": [
    "#라이브러리들을 불러오자.\n",
    "import numpy as np\n",
    "import pandas as pd\n",
    "import matplotlib.pyplot as plt\n",
    "\n",
    "from sklearn.model_selection import train_test_split"
   ]
  },
  {
   "cell_type": "markdown",
   "metadata": {
    "id": "VHy5s1OOzItm"
   },
   "source": [
    "### 2) data loading"
   ]
  },
  {
   "cell_type": "code",
   "execution_count": 2,
   "metadata": {
    "colab": {
     "base_uri": "https://localhost:8080/",
     "height": 270
    },
    "executionInfo": {
     "elapsed": 1000,
     "status": "ok",
     "timestamp": 1658204274428,
     "user": {
      "displayName": "한기영",
      "userId": "13049187003176135487"
     },
     "user_tz": -540
    },
    "id": "rCzJVmxuUGWC",
    "outputId": "eb307913-b9bf-445d-97af-141966bfe9ca"
   },
   "outputs": [
    {
     "data": {
      "text/html": [
       "\n",
       "  <div id=\"df-bbc3ff2b-7c1b-498c-b936-e1e2ce1ef96c\">\n",
       "    <div class=\"colab-df-container\">\n",
       "      <div>\n",
       "<style scoped>\n",
       "    .dataframe tbody tr th:only-of-type {\n",
       "        vertical-align: middle;\n",
       "    }\n",
       "\n",
       "    .dataframe tbody tr th {\n",
       "        vertical-align: top;\n",
       "    }\n",
       "\n",
       "    .dataframe thead th {\n",
       "        text-align: right;\n",
       "    }\n",
       "</style>\n",
       "<table border=\"1\" class=\"dataframe\">\n",
       "  <thead>\n",
       "    <tr style=\"text-align: right;\">\n",
       "      <th></th>\n",
       "      <th>Creditability</th>\n",
       "      <th>AccountBalance</th>\n",
       "      <th>Duration</th>\n",
       "      <th>Payment</th>\n",
       "      <th>CreditAmount</th>\n",
       "      <th>Employment</th>\n",
       "      <th>SexMarital</th>\n",
       "      <th>CurrentAddress</th>\n",
       "      <th>Age</th>\n",
       "      <th>Apartment</th>\n",
       "      <th>Dependents</th>\n",
       "      <th>ForeignWorker</th>\n",
       "    </tr>\n",
       "  </thead>\n",
       "  <tbody>\n",
       "    <tr>\n",
       "      <th>0</th>\n",
       "      <td>1</td>\n",
       "      <td>3</td>\n",
       "      <td>24</td>\n",
       "      <td>2</td>\n",
       "      <td>1249</td>\n",
       "      <td>2</td>\n",
       "      <td>4</td>\n",
       "      <td>2</td>\n",
       "      <td>28</td>\n",
       "      <td>2</td>\n",
       "      <td>1</td>\n",
       "      <td>1</td>\n",
       "    </tr>\n",
       "    <tr>\n",
       "      <th>1</th>\n",
       "      <td>1</td>\n",
       "      <td>2</td>\n",
       "      <td>9</td>\n",
       "      <td>2</td>\n",
       "      <td>276</td>\n",
       "      <td>3</td>\n",
       "      <td>4</td>\n",
       "      <td>4</td>\n",
       "      <td>22</td>\n",
       "      <td>1</td>\n",
       "      <td>1</td>\n",
       "      <td>1</td>\n",
       "    </tr>\n",
       "    <tr>\n",
       "      <th>2</th>\n",
       "      <td>1</td>\n",
       "      <td>1</td>\n",
       "      <td>18</td>\n",
       "      <td>4</td>\n",
       "      <td>1049</td>\n",
       "      <td>2</td>\n",
       "      <td>2</td>\n",
       "      <td>4</td>\n",
       "      <td>21</td>\n",
       "      <td>1</td>\n",
       "      <td>1</td>\n",
       "      <td>1</td>\n",
       "    </tr>\n",
       "    <tr>\n",
       "      <th>3</th>\n",
       "      <td>1</td>\n",
       "      <td>1</td>\n",
       "      <td>24</td>\n",
       "      <td>4</td>\n",
       "      <td>6419</td>\n",
       "      <td>5</td>\n",
       "      <td>2</td>\n",
       "      <td>4</td>\n",
       "      <td>44</td>\n",
       "      <td>3</td>\n",
       "      <td>2</td>\n",
       "      <td>1</td>\n",
       "    </tr>\n",
       "    <tr>\n",
       "      <th>4</th>\n",
       "      <td>1</td>\n",
       "      <td>3</td>\n",
       "      <td>12</td>\n",
       "      <td>2</td>\n",
       "      <td>1424</td>\n",
       "      <td>5</td>\n",
       "      <td>2</td>\n",
       "      <td>4</td>\n",
       "      <td>55</td>\n",
       "      <td>2</td>\n",
       "      <td>1</td>\n",
       "      <td>1</td>\n",
       "    </tr>\n",
       "  </tbody>\n",
       "</table>\n",
       "</div>\n",
       "      <button class=\"colab-df-convert\" onclick=\"convertToInteractive('df-bbc3ff2b-7c1b-498c-b936-e1e2ce1ef96c')\"\n",
       "              title=\"Convert this dataframe to an interactive table.\"\n",
       "              style=\"display:none;\">\n",
       "        \n",
       "  <svg xmlns=\"http://www.w3.org/2000/svg\" height=\"24px\"viewBox=\"0 0 24 24\"\n",
       "       width=\"24px\">\n",
       "    <path d=\"M0 0h24v24H0V0z\" fill=\"none\"/>\n",
       "    <path d=\"M18.56 5.44l.94 2.06.94-2.06 2.06-.94-2.06-.94-.94-2.06-.94 2.06-2.06.94zm-11 1L8.5 8.5l.94-2.06 2.06-.94-2.06-.94L8.5 2.5l-.94 2.06-2.06.94zm10 10l.94 2.06.94-2.06 2.06-.94-2.06-.94-.94-2.06-.94 2.06-2.06.94z\"/><path d=\"M17.41 7.96l-1.37-1.37c-.4-.4-.92-.59-1.43-.59-.52 0-1.04.2-1.43.59L10.3 9.45l-7.72 7.72c-.78.78-.78 2.05 0 2.83L4 21.41c.39.39.9.59 1.41.59.51 0 1.02-.2 1.41-.59l7.78-7.78 2.81-2.81c.8-.78.8-2.07 0-2.86zM5.41 20L4 18.59l7.72-7.72 1.47 1.35L5.41 20z\"/>\n",
       "  </svg>\n",
       "      </button>\n",
       "      \n",
       "  <style>\n",
       "    .colab-df-container {\n",
       "      display:flex;\n",
       "      flex-wrap:wrap;\n",
       "      gap: 12px;\n",
       "    }\n",
       "\n",
       "    .colab-df-convert {\n",
       "      background-color: #E8F0FE;\n",
       "      border: none;\n",
       "      border-radius: 50%;\n",
       "      cursor: pointer;\n",
       "      display: none;\n",
       "      fill: #1967D2;\n",
       "      height: 32px;\n",
       "      padding: 0 0 0 0;\n",
       "      width: 32px;\n",
       "    }\n",
       "\n",
       "    .colab-df-convert:hover {\n",
       "      background-color: #E2EBFA;\n",
       "      box-shadow: 0px 1px 2px rgba(60, 64, 67, 0.3), 0px 1px 3px 1px rgba(60, 64, 67, 0.15);\n",
       "      fill: #174EA6;\n",
       "    }\n",
       "\n",
       "    [theme=dark] .colab-df-convert {\n",
       "      background-color: #3B4455;\n",
       "      fill: #D2E3FC;\n",
       "    }\n",
       "\n",
       "    [theme=dark] .colab-df-convert:hover {\n",
       "      background-color: #434B5C;\n",
       "      box-shadow: 0px 1px 3px 1px rgba(0, 0, 0, 0.15);\n",
       "      filter: drop-shadow(0px 1px 2px rgba(0, 0, 0, 0.3));\n",
       "      fill: #FFFFFF;\n",
       "    }\n",
       "  </style>\n",
       "\n",
       "      <script>\n",
       "        const buttonEl =\n",
       "          document.querySelector('#df-bbc3ff2b-7c1b-498c-b936-e1e2ce1ef96c button.colab-df-convert');\n",
       "        buttonEl.style.display =\n",
       "          google.colab.kernel.accessAllowed ? 'block' : 'none';\n",
       "\n",
       "        async function convertToInteractive(key) {\n",
       "          const element = document.querySelector('#df-bbc3ff2b-7c1b-498c-b936-e1e2ce1ef96c');\n",
       "          const dataTable =\n",
       "            await google.colab.kernel.invokeFunction('convertToInteractive',\n",
       "                                                     [key], {});\n",
       "          if (!dataTable) return;\n",
       "\n",
       "          const docLinkHtml = 'Like what you see? Visit the ' +\n",
       "            '<a target=\"_blank\" href=https://colab.research.google.com/notebooks/data_table.ipynb>data table notebook</a>'\n",
       "            + ' to learn more about interactive tables.';\n",
       "          element.innerHTML = '';\n",
       "          dataTable['output_type'] = 'display_data';\n",
       "          await google.colab.output.renderOutput(dataTable, element);\n",
       "          const docLink = document.createElement('div');\n",
       "          docLink.innerHTML = docLinkHtml;\n",
       "          element.appendChild(docLink);\n",
       "        }\n",
       "      </script>\n",
       "    </div>\n",
       "  </div>\n",
       "  "
      ],
      "text/plain": [
       "   Creditability  AccountBalance  Duration  Payment  CreditAmount  Employment  \\\n",
       "0              1               3        24        2          1249           2   \n",
       "1              1               2         9        2           276           3   \n",
       "2              1               1        18        4          1049           2   \n",
       "3              1               1        24        4          6419           5   \n",
       "4              1               3        12        2          1424           5   \n",
       "\n",
       "   SexMarital  CurrentAddress  Age  Apartment  Dependents  ForeignWorker  \n",
       "0           4               2   28          2           1              1  \n",
       "1           4               4   22          1           1              1  \n",
       "2           2               4   21          1           1              1  \n",
       "3           2               4   44          3           2              1  \n",
       "4           2               4   55          2           1              1  "
      ]
     },
     "execution_count": 2,
     "metadata": {},
     "output_type": "execute_result"
    }
   ],
   "source": [
    "path = 'https://raw.githubusercontent.com/DA4BAM/dataset/master/credit_all.csv'\n",
    "data = pd.read_csv(path)\n",
    "data.drop(['Purpose','MostValuableAsset','CreditCount','Occupation','Telephone'], axis = 1, inplace = True)\n",
    "data.head()"
   ]
  },
  {
   "cell_type": "markdown",
   "metadata": {
    "id": "yhLMGgJC7R9I"
   },
   "source": [
    "|\t칼럼명\t|\t설명\t|\t\t|\t값 설명\t|\n",
    "|\t----\t|\t----\t|\t----\t|\t----\t|\n",
    "|\t**Creditability**\t|\tCreditability\t|\t신용도\t|\t0 : 낮은 신용도, 1 : 높은 신용도, **Target**\t|\n",
    "|\tAccountBalance\t|\tAccount Balance\t|\t은행잔고\t|\t1: No account, 2 : None (No balance), 3 : Some Balance\t|\n",
    "|\tCreditDuration\t|\tDuration of Credit (month)\t|\t 신청한 대출기간(월)\t|\t숫자\t|\n",
    "|\tPayment\t|\tPayment Status of Previous Credit\t|\t과거 대출 납입 상태\t|\t0 : Delayed, 1 : Other Credits, 2 : Paid Up, 3 : No Problem with Current Credits, 4 : Previous Credits Paid\t|\n",
    "|\tCreditAmount\t|\tCredit Amount($)\t|\t신청한 대출금액\t|\t숫자\t|\n",
    "|\tEmployment\t|\tLength of current employment(Month)\t|\t현 직업 근무 기간\t|\t1: Unemployed, 2: <1 Year, 3: [1, 4), 4: [4, 7), 5: Above 7\t|\n",
    "|\tSexMarital\t|\tSex & Marital Status\t|\t성별 & 결혼상태\t|\t1: Male, Divorced, 2: Male, Single, 3: Male, Married/Widowed, 4: Female\t|\n",
    "|\tCurrentAddress\t|\tDuration in Current address\t|\t현 거주지 거주기간\t|\t1: <1 Year , 2: [1, 4), 3: [4, 7), 4: Above 7\t|\n",
    "|\tAge\t|\tAge (years)\t|\t나이\t|\t숫자\t|\n",
    "|\tAppartment\t|\tType of apartment\t|\t주거환경\t|\t1: free apartment, 2: Rented, 3: Owned\t|\n",
    "|\tOccupation\t|\tOccupation\t|\t직업\t|\t1: Unemployed, unskilled, 2: Unskilled Permanent Resident, 3: Skilled, 4: Executive\t|\n",
    "|\tTelephone\t|\tTelephone\t|\t전화기 소유 여부\t|\t1: No, 2: Yes \t|\n",
    "|\tForeignWorker\t|\tForeign Worker\t|\t외국인 근로자 여부\t|\t1: No, 2: Yes\t|"
   ]
  },
  {
   "cell_type": "markdown",
   "metadata": {
    "id": "ZJOddHq2zfcU"
   },
   "source": [
    "## 10.데이터 이해"
   ]
  },
  {
   "cell_type": "markdown",
   "metadata": {
    "id": "Vqr7zY5r8uwC"
   },
   "source": [
    "### 1)둘러보기"
   ]
  },
  {
   "cell_type": "code",
   "execution_count": 3,
   "metadata": {
    "colab": {
     "base_uri": "https://localhost:8080/",
     "height": 270
    },
    "executionInfo": {
     "elapsed": 65,
     "status": "ok",
     "timestamp": 1658204274429,
     "user": {
      "displayName": "한기영",
      "userId": "13049187003176135487"
     },
     "user_tz": -540
    },
    "id": "Wzs1nS348uwE",
    "outputId": "da8ae119-6989-416f-d90d-d1bb7dc23c37"
   },
   "outputs": [
    {
     "data": {
      "text/html": [
       "\n",
       "  <div id=\"df-db5a6c0d-0426-4f88-8d1b-6a415fa1c7dc\">\n",
       "    <div class=\"colab-df-container\">\n",
       "      <div>\n",
       "<style scoped>\n",
       "    .dataframe tbody tr th:only-of-type {\n",
       "        vertical-align: middle;\n",
       "    }\n",
       "\n",
       "    .dataframe tbody tr th {\n",
       "        vertical-align: top;\n",
       "    }\n",
       "\n",
       "    .dataframe thead th {\n",
       "        text-align: right;\n",
       "    }\n",
       "</style>\n",
       "<table border=\"1\" class=\"dataframe\">\n",
       "  <thead>\n",
       "    <tr style=\"text-align: right;\">\n",
       "      <th></th>\n",
       "      <th>Creditability</th>\n",
       "      <th>AccountBalance</th>\n",
       "      <th>Duration</th>\n",
       "      <th>Payment</th>\n",
       "      <th>CreditAmount</th>\n",
       "      <th>Employment</th>\n",
       "      <th>SexMarital</th>\n",
       "      <th>CurrentAddress</th>\n",
       "      <th>Age</th>\n",
       "      <th>Apartment</th>\n",
       "      <th>Dependents</th>\n",
       "      <th>ForeignWorker</th>\n",
       "    </tr>\n",
       "  </thead>\n",
       "  <tbody>\n",
       "    <tr>\n",
       "      <th>0</th>\n",
       "      <td>1</td>\n",
       "      <td>3</td>\n",
       "      <td>24</td>\n",
       "      <td>2</td>\n",
       "      <td>1249</td>\n",
       "      <td>2</td>\n",
       "      <td>4</td>\n",
       "      <td>2</td>\n",
       "      <td>28</td>\n",
       "      <td>2</td>\n",
       "      <td>1</td>\n",
       "      <td>1</td>\n",
       "    </tr>\n",
       "    <tr>\n",
       "      <th>1</th>\n",
       "      <td>1</td>\n",
       "      <td>2</td>\n",
       "      <td>9</td>\n",
       "      <td>2</td>\n",
       "      <td>276</td>\n",
       "      <td>3</td>\n",
       "      <td>4</td>\n",
       "      <td>4</td>\n",
       "      <td>22</td>\n",
       "      <td>1</td>\n",
       "      <td>1</td>\n",
       "      <td>1</td>\n",
       "    </tr>\n",
       "    <tr>\n",
       "      <th>2</th>\n",
       "      <td>1</td>\n",
       "      <td>1</td>\n",
       "      <td>18</td>\n",
       "      <td>4</td>\n",
       "      <td>1049</td>\n",
       "      <td>2</td>\n",
       "      <td>2</td>\n",
       "      <td>4</td>\n",
       "      <td>21</td>\n",
       "      <td>1</td>\n",
       "      <td>1</td>\n",
       "      <td>1</td>\n",
       "    </tr>\n",
       "    <tr>\n",
       "      <th>3</th>\n",
       "      <td>1</td>\n",
       "      <td>1</td>\n",
       "      <td>24</td>\n",
       "      <td>4</td>\n",
       "      <td>6419</td>\n",
       "      <td>5</td>\n",
       "      <td>2</td>\n",
       "      <td>4</td>\n",
       "      <td>44</td>\n",
       "      <td>3</td>\n",
       "      <td>2</td>\n",
       "      <td>1</td>\n",
       "    </tr>\n",
       "    <tr>\n",
       "      <th>4</th>\n",
       "      <td>1</td>\n",
       "      <td>3</td>\n",
       "      <td>12</td>\n",
       "      <td>2</td>\n",
       "      <td>1424</td>\n",
       "      <td>5</td>\n",
       "      <td>2</td>\n",
       "      <td>4</td>\n",
       "      <td>55</td>\n",
       "      <td>2</td>\n",
       "      <td>1</td>\n",
       "      <td>1</td>\n",
       "    </tr>\n",
       "  </tbody>\n",
       "</table>\n",
       "</div>\n",
       "      <button class=\"colab-df-convert\" onclick=\"convertToInteractive('df-db5a6c0d-0426-4f88-8d1b-6a415fa1c7dc')\"\n",
       "              title=\"Convert this dataframe to an interactive table.\"\n",
       "              style=\"display:none;\">\n",
       "        \n",
       "  <svg xmlns=\"http://www.w3.org/2000/svg\" height=\"24px\"viewBox=\"0 0 24 24\"\n",
       "       width=\"24px\">\n",
       "    <path d=\"M0 0h24v24H0V0z\" fill=\"none\"/>\n",
       "    <path d=\"M18.56 5.44l.94 2.06.94-2.06 2.06-.94-2.06-.94-.94-2.06-.94 2.06-2.06.94zm-11 1L8.5 8.5l.94-2.06 2.06-.94-2.06-.94L8.5 2.5l-.94 2.06-2.06.94zm10 10l.94 2.06.94-2.06 2.06-.94-2.06-.94-.94-2.06-.94 2.06-2.06.94z\"/><path d=\"M17.41 7.96l-1.37-1.37c-.4-.4-.92-.59-1.43-.59-.52 0-1.04.2-1.43.59L10.3 9.45l-7.72 7.72c-.78.78-.78 2.05 0 2.83L4 21.41c.39.39.9.59 1.41.59.51 0 1.02-.2 1.41-.59l7.78-7.78 2.81-2.81c.8-.78.8-2.07 0-2.86zM5.41 20L4 18.59l7.72-7.72 1.47 1.35L5.41 20z\"/>\n",
       "  </svg>\n",
       "      </button>\n",
       "      \n",
       "  <style>\n",
       "    .colab-df-container {\n",
       "      display:flex;\n",
       "      flex-wrap:wrap;\n",
       "      gap: 12px;\n",
       "    }\n",
       "\n",
       "    .colab-df-convert {\n",
       "      background-color: #E8F0FE;\n",
       "      border: none;\n",
       "      border-radius: 50%;\n",
       "      cursor: pointer;\n",
       "      display: none;\n",
       "      fill: #1967D2;\n",
       "      height: 32px;\n",
       "      padding: 0 0 0 0;\n",
       "      width: 32px;\n",
       "    }\n",
       "\n",
       "    .colab-df-convert:hover {\n",
       "      background-color: #E2EBFA;\n",
       "      box-shadow: 0px 1px 2px rgba(60, 64, 67, 0.3), 0px 1px 3px 1px rgba(60, 64, 67, 0.15);\n",
       "      fill: #174EA6;\n",
       "    }\n",
       "\n",
       "    [theme=dark] .colab-df-convert {\n",
       "      background-color: #3B4455;\n",
       "      fill: #D2E3FC;\n",
       "    }\n",
       "\n",
       "    [theme=dark] .colab-df-convert:hover {\n",
       "      background-color: #434B5C;\n",
       "      box-shadow: 0px 1px 3px 1px rgba(0, 0, 0, 0.15);\n",
       "      filter: drop-shadow(0px 1px 2px rgba(0, 0, 0, 0.3));\n",
       "      fill: #FFFFFF;\n",
       "    }\n",
       "  </style>\n",
       "\n",
       "      <script>\n",
       "        const buttonEl =\n",
       "          document.querySelector('#df-db5a6c0d-0426-4f88-8d1b-6a415fa1c7dc button.colab-df-convert');\n",
       "        buttonEl.style.display =\n",
       "          google.colab.kernel.accessAllowed ? 'block' : 'none';\n",
       "\n",
       "        async function convertToInteractive(key) {\n",
       "          const element = document.querySelector('#df-db5a6c0d-0426-4f88-8d1b-6a415fa1c7dc');\n",
       "          const dataTable =\n",
       "            await google.colab.kernel.invokeFunction('convertToInteractive',\n",
       "                                                     [key], {});\n",
       "          if (!dataTable) return;\n",
       "\n",
       "          const docLinkHtml = 'Like what you see? Visit the ' +\n",
       "            '<a target=\"_blank\" href=https://colab.research.google.com/notebooks/data_table.ipynb>data table notebook</a>'\n",
       "            + ' to learn more about interactive tables.';\n",
       "          element.innerHTML = '';\n",
       "          dataTable['output_type'] = 'display_data';\n",
       "          await google.colab.output.renderOutput(dataTable, element);\n",
       "          const docLink = document.createElement('div');\n",
       "          docLink.innerHTML = docLinkHtml;\n",
       "          element.appendChild(docLink);\n",
       "        }\n",
       "      </script>\n",
       "    </div>\n",
       "  </div>\n",
       "  "
      ],
      "text/plain": [
       "   Creditability  AccountBalance  Duration  Payment  CreditAmount  Employment  \\\n",
       "0              1               3        24        2          1249           2   \n",
       "1              1               2         9        2           276           3   \n",
       "2              1               1        18        4          1049           2   \n",
       "3              1               1        24        4          6419           5   \n",
       "4              1               3        12        2          1424           5   \n",
       "\n",
       "   SexMarital  CurrentAddress  Age  Apartment  Dependents  ForeignWorker  \n",
       "0           4               2   28          2           1              1  \n",
       "1           4               4   22          1           1              1  \n",
       "2           2               4   21          1           1              1  \n",
       "3           2               4   44          3           2              1  \n",
       "4           2               4   55          2           1              1  "
      ]
     },
     "execution_count": 3,
     "metadata": {},
     "output_type": "execute_result"
    }
   ],
   "source": [
    "# 상/하위 몇개 행을 살펴 봅시다.\n",
    "data.head()"
   ]
  },
  {
   "cell_type": "code",
   "execution_count": 4,
   "metadata": {
    "colab": {
     "base_uri": "https://localhost:8080/"
    },
    "executionInfo": {
     "elapsed": 65,
     "status": "ok",
     "timestamp": 1658204274430,
     "user": {
      "displayName": "한기영",
      "userId": "13049187003176135487"
     },
     "user_tz": -540
    },
    "id": "1ZsXdcfp8uwI",
    "outputId": "265c2720-093d-4045-fe49-2eac4367b2d9"
   },
   "outputs": [
    {
     "name": "stdout",
     "output_type": "stream",
     "text": [
      "<class 'pandas.core.frame.DataFrame'>\n",
      "RangeIndex: 1000 entries, 0 to 999\n",
      "Data columns (total 12 columns):\n",
      " #   Column          Non-Null Count  Dtype\n",
      "---  ------          --------------  -----\n",
      " 0   Creditability   1000 non-null   int64\n",
      " 1   AccountBalance  1000 non-null   int64\n",
      " 2   Duration        1000 non-null   int64\n",
      " 3   Payment         1000 non-null   int64\n",
      " 4   CreditAmount    1000 non-null   int64\n",
      " 5   Employment      1000 non-null   int64\n",
      " 6   SexMarital      1000 non-null   int64\n",
      " 7   CurrentAddress  1000 non-null   int64\n",
      " 8   Age             1000 non-null   int64\n",
      " 9   Apartment       1000 non-null   int64\n",
      " 10  Dependents      1000 non-null   int64\n",
      " 11  ForeignWorker   1000 non-null   int64\n",
      "dtypes: int64(12)\n",
      "memory usage: 93.9 KB\n"
     ]
    }
   ],
   "source": [
    "# 각 칼럼의 타입을 살펴 봅시다.\n",
    "data.info()"
   ]
  },
  {
   "cell_type": "markdown",
   "metadata": {
    "id": "a3S9yy_IGTRj"
   },
   "source": [
    "### 2) EDA & CDA\n",
    "여기에서는 다루지 않습니다."
   ]
  },
  {
   "cell_type": "markdown",
   "metadata": {
    "id": "wW0d0eGmCYJM"
   },
   "source": [
    "## 20.데이터 준비"
   ]
  },
  {
   "cell_type": "markdown",
   "metadata": {
    "id": "y9Q6jR6OZjUk"
   },
   "source": [
    "### 1) 데이터분할 : x, y 나누기"
   ]
  },
  {
   "cell_type": "code",
   "execution_count": 5,
   "metadata": {
    "executionInfo": {
     "elapsed": 62,
     "status": "ok",
     "timestamp": 1658204274431,
     "user": {
      "displayName": "한기영",
      "userId": "13049187003176135487"
     },
     "user_tz": -540
    },
    "id": "U4l8knoPGh95"
   },
   "outputs": [],
   "source": [
    "target = 'Creditability'\n",
    "x = data.drop(target, axis = 1)\n",
    "y = data.loc[:, target]"
   ]
  },
  {
   "cell_type": "markdown",
   "metadata": {
    "id": "WpJEGpUuuVWm"
   },
   "source": [
    "### 2) 변수정리\n",
    "불필요한 변수가 있으면 제거합니다."
   ]
  },
  {
   "cell_type": "code",
   "execution_count": 5,
   "metadata": {
    "executionInfo": {
     "elapsed": 63,
     "status": "ok",
     "timestamp": 1658204274432,
     "user": {
      "displayName": "한기영",
      "userId": "13049187003176135487"
     },
     "user_tz": -540
    },
    "id": "j_Ai5YRLGoVJ"
   },
   "outputs": [],
   "source": []
  },
  {
   "cell_type": "markdown",
   "metadata": {
    "id": "daC5qQrFf25E"
   },
   "source": [
    "### 3) NA 조치"
   ]
  },
  {
   "cell_type": "code",
   "execution_count": 6,
   "metadata": {
    "colab": {
     "base_uri": "https://localhost:8080/"
    },
    "executionInfo": {
     "elapsed": 63,
     "status": "ok",
     "timestamp": 1658204274433,
     "user": {
      "displayName": "한기영",
      "userId": "13049187003176135487"
     },
     "user_tz": -540
    },
    "id": "cXhkS58xf25E",
    "outputId": "8c4af045-ccd5-4435-ecc7-2b2fb5b002da"
   },
   "outputs": [
    {
     "data": {
      "text/plain": [
       "AccountBalance    0\n",
       "Duration          0\n",
       "Payment           0\n",
       "CreditAmount      0\n",
       "Employment        0\n",
       "SexMarital        0\n",
       "CurrentAddress    0\n",
       "Age               0\n",
       "Apartment         0\n",
       "Dependents        0\n",
       "ForeignWorker     0\n",
       "dtype: int64"
      ]
     },
     "execution_count": 6,
     "metadata": {},
     "output_type": "execute_result"
    }
   ],
   "source": [
    "x.isna().sum()"
   ]
  },
  {
   "cell_type": "markdown",
   "metadata": {
    "id": "Gv2hmMjAf25E"
   },
   "source": [
    "### 4) 가변수화\n",
    "\n",
    "가변수화를 수행하시오."
   ]
  },
  {
   "cell_type": "code",
   "execution_count": 7,
   "metadata": {
    "colab": {
     "base_uri": "https://localhost:8080/",
     "height": 299
    },
    "executionInfo": {
     "elapsed": 62,
     "status": "ok",
     "timestamp": 1658204274434,
     "user": {
      "displayName": "한기영",
      "userId": "13049187003176135487"
     },
     "user_tz": -540
    },
    "id": "Z1aTL-_VfNGP",
    "outputId": "d352f90e-0c47-4199-f3d0-a2c712b3f1ce"
   },
   "outputs": [
    {
     "data": {
      "text/html": [
       "\n",
       "  <div id=\"df-2159f1e7-bf2a-4185-a776-d4e01e0529fe\">\n",
       "    <div class=\"colab-df-container\">\n",
       "      <div>\n",
       "<style scoped>\n",
       "    .dataframe tbody tr th:only-of-type {\n",
       "        vertical-align: middle;\n",
       "    }\n",
       "\n",
       "    .dataframe tbody tr th {\n",
       "        vertical-align: top;\n",
       "    }\n",
       "\n",
       "    .dataframe thead th {\n",
       "        text-align: right;\n",
       "    }\n",
       "</style>\n",
       "<table border=\"1\" class=\"dataframe\">\n",
       "  <thead>\n",
       "    <tr style=\"text-align: right;\">\n",
       "      <th></th>\n",
       "      <th>Duration</th>\n",
       "      <th>CreditAmount</th>\n",
       "      <th>Age</th>\n",
       "      <th>AccountBalance_2</th>\n",
       "      <th>AccountBalance_3</th>\n",
       "      <th>Payment_1</th>\n",
       "      <th>Payment_2</th>\n",
       "      <th>Payment_3</th>\n",
       "      <th>Payment_4</th>\n",
       "      <th>Employment_2</th>\n",
       "      <th>...</th>\n",
       "      <th>SexMarital_2</th>\n",
       "      <th>SexMarital_3</th>\n",
       "      <th>SexMarital_4</th>\n",
       "      <th>CurrentAddress_2</th>\n",
       "      <th>CurrentAddress_3</th>\n",
       "      <th>CurrentAddress_4</th>\n",
       "      <th>Apartment_2</th>\n",
       "      <th>Apartment_3</th>\n",
       "      <th>Dependents_2</th>\n",
       "      <th>ForeignWorker_2</th>\n",
       "    </tr>\n",
       "  </thead>\n",
       "  <tbody>\n",
       "    <tr>\n",
       "      <th>0</th>\n",
       "      <td>24</td>\n",
       "      <td>1249</td>\n",
       "      <td>28</td>\n",
       "      <td>0</td>\n",
       "      <td>1</td>\n",
       "      <td>0</td>\n",
       "      <td>1</td>\n",
       "      <td>0</td>\n",
       "      <td>0</td>\n",
       "      <td>1</td>\n",
       "      <td>...</td>\n",
       "      <td>0</td>\n",
       "      <td>0</td>\n",
       "      <td>1</td>\n",
       "      <td>1</td>\n",
       "      <td>0</td>\n",
       "      <td>0</td>\n",
       "      <td>1</td>\n",
       "      <td>0</td>\n",
       "      <td>0</td>\n",
       "      <td>0</td>\n",
       "    </tr>\n",
       "    <tr>\n",
       "      <th>1</th>\n",
       "      <td>9</td>\n",
       "      <td>276</td>\n",
       "      <td>22</td>\n",
       "      <td>1</td>\n",
       "      <td>0</td>\n",
       "      <td>0</td>\n",
       "      <td>1</td>\n",
       "      <td>0</td>\n",
       "      <td>0</td>\n",
       "      <td>0</td>\n",
       "      <td>...</td>\n",
       "      <td>0</td>\n",
       "      <td>0</td>\n",
       "      <td>1</td>\n",
       "      <td>0</td>\n",
       "      <td>0</td>\n",
       "      <td>1</td>\n",
       "      <td>0</td>\n",
       "      <td>0</td>\n",
       "      <td>0</td>\n",
       "      <td>0</td>\n",
       "    </tr>\n",
       "    <tr>\n",
       "      <th>2</th>\n",
       "      <td>18</td>\n",
       "      <td>1049</td>\n",
       "      <td>21</td>\n",
       "      <td>0</td>\n",
       "      <td>0</td>\n",
       "      <td>0</td>\n",
       "      <td>0</td>\n",
       "      <td>0</td>\n",
       "      <td>1</td>\n",
       "      <td>1</td>\n",
       "      <td>...</td>\n",
       "      <td>1</td>\n",
       "      <td>0</td>\n",
       "      <td>0</td>\n",
       "      <td>0</td>\n",
       "      <td>0</td>\n",
       "      <td>1</td>\n",
       "      <td>0</td>\n",
       "      <td>0</td>\n",
       "      <td>0</td>\n",
       "      <td>0</td>\n",
       "    </tr>\n",
       "    <tr>\n",
       "      <th>3</th>\n",
       "      <td>24</td>\n",
       "      <td>6419</td>\n",
       "      <td>44</td>\n",
       "      <td>0</td>\n",
       "      <td>0</td>\n",
       "      <td>0</td>\n",
       "      <td>0</td>\n",
       "      <td>0</td>\n",
       "      <td>1</td>\n",
       "      <td>0</td>\n",
       "      <td>...</td>\n",
       "      <td>1</td>\n",
       "      <td>0</td>\n",
       "      <td>0</td>\n",
       "      <td>0</td>\n",
       "      <td>0</td>\n",
       "      <td>1</td>\n",
       "      <td>0</td>\n",
       "      <td>1</td>\n",
       "      <td>1</td>\n",
       "      <td>0</td>\n",
       "    </tr>\n",
       "    <tr>\n",
       "      <th>4</th>\n",
       "      <td>12</td>\n",
       "      <td>1424</td>\n",
       "      <td>55</td>\n",
       "      <td>0</td>\n",
       "      <td>1</td>\n",
       "      <td>0</td>\n",
       "      <td>1</td>\n",
       "      <td>0</td>\n",
       "      <td>0</td>\n",
       "      <td>0</td>\n",
       "      <td>...</td>\n",
       "      <td>1</td>\n",
       "      <td>0</td>\n",
       "      <td>0</td>\n",
       "      <td>0</td>\n",
       "      <td>0</td>\n",
       "      <td>1</td>\n",
       "      <td>1</td>\n",
       "      <td>0</td>\n",
       "      <td>0</td>\n",
       "      <td>0</td>\n",
       "    </tr>\n",
       "  </tbody>\n",
       "</table>\n",
       "<p>5 rows × 23 columns</p>\n",
       "</div>\n",
       "      <button class=\"colab-df-convert\" onclick=\"convertToInteractive('df-2159f1e7-bf2a-4185-a776-d4e01e0529fe')\"\n",
       "              title=\"Convert this dataframe to an interactive table.\"\n",
       "              style=\"display:none;\">\n",
       "        \n",
       "  <svg xmlns=\"http://www.w3.org/2000/svg\" height=\"24px\"viewBox=\"0 0 24 24\"\n",
       "       width=\"24px\">\n",
       "    <path d=\"M0 0h24v24H0V0z\" fill=\"none\"/>\n",
       "    <path d=\"M18.56 5.44l.94 2.06.94-2.06 2.06-.94-2.06-.94-.94-2.06-.94 2.06-2.06.94zm-11 1L8.5 8.5l.94-2.06 2.06-.94-2.06-.94L8.5 2.5l-.94 2.06-2.06.94zm10 10l.94 2.06.94-2.06 2.06-.94-2.06-.94-.94-2.06-.94 2.06-2.06.94z\"/><path d=\"M17.41 7.96l-1.37-1.37c-.4-.4-.92-.59-1.43-.59-.52 0-1.04.2-1.43.59L10.3 9.45l-7.72 7.72c-.78.78-.78 2.05 0 2.83L4 21.41c.39.39.9.59 1.41.59.51 0 1.02-.2 1.41-.59l7.78-7.78 2.81-2.81c.8-.78.8-2.07 0-2.86zM5.41 20L4 18.59l7.72-7.72 1.47 1.35L5.41 20z\"/>\n",
       "  </svg>\n",
       "      </button>\n",
       "      \n",
       "  <style>\n",
       "    .colab-df-container {\n",
       "      display:flex;\n",
       "      flex-wrap:wrap;\n",
       "      gap: 12px;\n",
       "    }\n",
       "\n",
       "    .colab-df-convert {\n",
       "      background-color: #E8F0FE;\n",
       "      border: none;\n",
       "      border-radius: 50%;\n",
       "      cursor: pointer;\n",
       "      display: none;\n",
       "      fill: #1967D2;\n",
       "      height: 32px;\n",
       "      padding: 0 0 0 0;\n",
       "      width: 32px;\n",
       "    }\n",
       "\n",
       "    .colab-df-convert:hover {\n",
       "      background-color: #E2EBFA;\n",
       "      box-shadow: 0px 1px 2px rgba(60, 64, 67, 0.3), 0px 1px 3px 1px rgba(60, 64, 67, 0.15);\n",
       "      fill: #174EA6;\n",
       "    }\n",
       "\n",
       "    [theme=dark] .colab-df-convert {\n",
       "      background-color: #3B4455;\n",
       "      fill: #D2E3FC;\n",
       "    }\n",
       "\n",
       "    [theme=dark] .colab-df-convert:hover {\n",
       "      background-color: #434B5C;\n",
       "      box-shadow: 0px 1px 3px 1px rgba(0, 0, 0, 0.15);\n",
       "      filter: drop-shadow(0px 1px 2px rgba(0, 0, 0, 0.3));\n",
       "      fill: #FFFFFF;\n",
       "    }\n",
       "  </style>\n",
       "\n",
       "      <script>\n",
       "        const buttonEl =\n",
       "          document.querySelector('#df-2159f1e7-bf2a-4185-a776-d4e01e0529fe button.colab-df-convert');\n",
       "        buttonEl.style.display =\n",
       "          google.colab.kernel.accessAllowed ? 'block' : 'none';\n",
       "\n",
       "        async function convertToInteractive(key) {\n",
       "          const element = document.querySelector('#df-2159f1e7-bf2a-4185-a776-d4e01e0529fe');\n",
       "          const dataTable =\n",
       "            await google.colab.kernel.invokeFunction('convertToInteractive',\n",
       "                                                     [key], {});\n",
       "          if (!dataTable) return;\n",
       "\n",
       "          const docLinkHtml = 'Like what you see? Visit the ' +\n",
       "            '<a target=\"_blank\" href=https://colab.research.google.com/notebooks/data_table.ipynb>data table notebook</a>'\n",
       "            + ' to learn more about interactive tables.';\n",
       "          element.innerHTML = '';\n",
       "          dataTable['output_type'] = 'display_data';\n",
       "          await google.colab.output.renderOutput(dataTable, element);\n",
       "          const docLink = document.createElement('div');\n",
       "          docLink.innerHTML = docLinkHtml;\n",
       "          element.appendChild(docLink);\n",
       "        }\n",
       "      </script>\n",
       "    </div>\n",
       "  </div>\n",
       "  "
      ],
      "text/plain": [
       "   Duration  CreditAmount  Age  AccountBalance_2  AccountBalance_3  Payment_1  \\\n",
       "0        24          1249   28                 0                 1          0   \n",
       "1         9           276   22                 1                 0          0   \n",
       "2        18          1049   21                 0                 0          0   \n",
       "3        24          6419   44                 0                 0          0   \n",
       "4        12          1424   55                 0                 1          0   \n",
       "\n",
       "   Payment_2  Payment_3  Payment_4  Employment_2  ...  SexMarital_2  \\\n",
       "0          1          0          0             1  ...             0   \n",
       "1          1          0          0             0  ...             0   \n",
       "2          0          0          1             1  ...             1   \n",
       "3          0          0          1             0  ...             1   \n",
       "4          1          0          0             0  ...             1   \n",
       "\n",
       "   SexMarital_3  SexMarital_4  CurrentAddress_2  CurrentAddress_3  \\\n",
       "0             0             1                 1                 0   \n",
       "1             0             1                 0                 0   \n",
       "2             0             0                 0                 0   \n",
       "3             0             0                 0                 0   \n",
       "4             0             0                 0                 0   \n",
       "\n",
       "   CurrentAddress_4  Apartment_2  Apartment_3  Dependents_2  ForeignWorker_2  \n",
       "0                 0            1            0             0                0  \n",
       "1                 1            0            0             0                0  \n",
       "2                 1            0            0             0                0  \n",
       "3                 1            0            1             1                0  \n",
       "4                 1            1            0             0                0  \n",
       "\n",
       "[5 rows x 23 columns]"
      ]
     },
     "execution_count": 7,
     "metadata": {},
     "output_type": "execute_result"
    }
   ],
   "source": [
    "cat_cols = ['AccountBalance','Payment','Employment','SexMarital','CurrentAddress','Apartment','Dependents','ForeignWorker']\n",
    "x = pd.get_dummies(x, columns = cat_cols, drop_first = True)\n",
    "x.head()"
   ]
  },
  {
   "cell_type": "markdown",
   "metadata": {
    "id": "DIsobqdcIudQ"
   },
   "source": [
    "### 5) 데이터분할 : train : validation"
   ]
  },
  {
   "cell_type": "code",
   "execution_count": 8,
   "metadata": {
    "executionInfo": {
     "elapsed": 60,
     "status": "ok",
     "timestamp": 1658204274435,
     "user": {
      "displayName": "한기영",
      "userId": "13049187003176135487"
     },
     "user_tz": -540
    },
    "id": "bGB9d802IudR"
   },
   "outputs": [],
   "source": [
    "x_train, x_val, y_train, y_val = train_test_split(x, y, test_size = .3)"
   ]
  },
  {
   "cell_type": "markdown",
   "metadata": {
    "id": "MXUC5Yi3um81"
   },
   "source": [
    "### 6) Scaling"
   ]
  },
  {
   "cell_type": "code",
   "execution_count": 8,
   "metadata": {
    "executionInfo": {
     "elapsed": 60,
     "status": "ok",
     "timestamp": 1658204274436,
     "user": {
      "displayName": "한기영",
      "userId": "13049187003176135487"
     },
     "user_tz": -540
    },
    "id": "zIncKy6RGtto"
   },
   "outputs": [],
   "source": []
  },
  {
   "cell_type": "markdown",
   "metadata": {
    "id": "Db2kkXxgf25E"
   },
   "source": [
    "## 30.모델링"
   ]
  },
  {
   "cell_type": "markdown",
   "metadata": {
    "id": "UbnrNvPXf25E"
   },
   "source": [
    "### 1) 필요한 함수 불러오기"
   ]
  },
  {
   "cell_type": "code",
   "execution_count": 9,
   "metadata": {
    "executionInfo": {
     "elapsed": 60,
     "status": "ok",
     "timestamp": 1658204274437,
     "user": {
      "displayName": "한기영",
      "userId": "13049187003176135487"
     },
     "user_tz": -540
    },
    "id": "X2_UhsQ0f25E"
   },
   "outputs": [],
   "source": [
    "# 모델링을 위해\n",
    "from sklearn.linear_model import LogisticRegression\n",
    "\n",
    "# 평가를 위해.\n",
    "from sklearn.metrics import *"
   ]
  },
  {
   "cell_type": "markdown",
   "metadata": {
    "id": "rgC0-b0Ef25F"
   },
   "source": [
    "### 2) 선언"
   ]
  },
  {
   "cell_type": "code",
   "execution_count": 10,
   "metadata": {
    "executionInfo": {
     "elapsed": 61,
     "status": "ok",
     "timestamp": 1658204274438,
     "user": {
      "displayName": "한기영",
      "userId": "13049187003176135487"
     },
     "user_tz": -540
    },
    "id": "sy7KaM9Qf25F"
   },
   "outputs": [],
   "source": [
    "model = LogisticRegression()"
   ]
  },
  {
   "cell_type": "markdown",
   "metadata": {
    "id": "e4trwN6Cf25F"
   },
   "source": [
    "### 3) 모델링(학습)"
   ]
  },
  {
   "cell_type": "code",
   "execution_count": 11,
   "metadata": {
    "colab": {
     "base_uri": "https://localhost:8080/"
    },
    "executionInfo": {
     "elapsed": 62,
     "status": "ok",
     "timestamp": 1658204274439,
     "user": {
      "displayName": "한기영",
      "userId": "13049187003176135487"
     },
     "user_tz": -540
    },
    "id": "oB44wfFTf25F",
    "outputId": "4967b4ad-de5b-4a66-845c-7aa110a2e6b6"
   },
   "outputs": [
    {
     "data": {
      "text/plain": [
       "LogisticRegression()"
      ]
     },
     "execution_count": 11,
     "metadata": {},
     "output_type": "execute_result"
    }
   ],
   "source": [
    "model.fit(x_train, y_train)"
   ]
  },
  {
   "cell_type": "markdown",
   "metadata": {
    "id": "BQZRyYDEyfq6"
   },
   "source": [
    "* 모델의 coeficient, intercept 확인"
   ]
  },
  {
   "cell_type": "code",
   "execution_count": 12,
   "metadata": {
    "colab": {
     "base_uri": "https://localhost:8080/"
    },
    "executionInfo": {
     "elapsed": 60,
     "status": "ok",
     "timestamp": 1658204274440,
     "user": {
      "displayName": "한기영",
      "userId": "13049187003176135487"
     },
     "user_tz": -540
    },
    "id": "jtkaLDQ3yllz",
    "outputId": "e39b5a1c-57c1-459b-e34c-1dd8db6a1ef3"
   },
   "outputs": [
    {
     "data": {
      "text/plain": [
       "array([[-3.73457217e-02, -4.31213950e-06,  1.88702274e-03,\n",
       "         1.24026042e-01,  1.52269055e+00, -4.48729776e-01,\n",
       "         1.99061278e-01, -3.88781841e-02,  7.05560688e-01,\n",
       "        -3.65077101e-01,  2.24616491e-02,  6.77327950e-01,\n",
       "        -2.99260826e-02, -5.05028400e-02,  3.67949818e-01,\n",
       "         1.98048690e-01, -3.27024515e-01,  1.15739732e-02,\n",
       "         3.52081615e-01,  4.06388389e-01, -2.60830014e-02,\n",
       "         1.47959447e-02,  1.80160082e-01]])"
      ]
     },
     "execution_count": 12,
     "metadata": {},
     "output_type": "execute_result"
    }
   ],
   "source": [
    "model.coef_"
   ]
  },
  {
   "cell_type": "code",
   "execution_count": 13,
   "metadata": {
    "colab": {
     "base_uri": "https://localhost:8080/"
    },
    "executionInfo": {
     "elapsed": 59,
     "status": "ok",
     "timestamp": 1658204274441,
     "user": {
      "displayName": "한기영",
      "userId": "13049187003176135487"
     },
     "user_tz": -540
    },
    "id": "V8788VgthGjw",
    "outputId": "cd965303-1218-46c9-c546-009a8759c97b"
   },
   "outputs": [
    {
     "data": {
      "text/plain": [
       "['Duration',\n",
       " 'CreditAmount',\n",
       " 'Age',\n",
       " 'AccountBalance_2',\n",
       " 'AccountBalance_3',\n",
       " 'Payment_1',\n",
       " 'Payment_2',\n",
       " 'Payment_3',\n",
       " 'Payment_4',\n",
       " 'Employment_2',\n",
       " 'Employment_3',\n",
       " 'Employment_4',\n",
       " 'Employment_5',\n",
       " 'SexMarital_2',\n",
       " 'SexMarital_3',\n",
       " 'SexMarital_4',\n",
       " 'CurrentAddress_2',\n",
       " 'CurrentAddress_3',\n",
       " 'CurrentAddress_4',\n",
       " 'Apartment_2',\n",
       " 'Apartment_3',\n",
       " 'Dependents_2',\n",
       " 'ForeignWorker_2']"
      ]
     },
     "execution_count": 13,
     "metadata": {},
     "output_type": "execute_result"
    }
   ],
   "source": [
    "list(x_train)"
   ]
  },
  {
   "cell_type": "code",
   "execution_count": 14,
   "metadata": {
    "colab": {
     "base_uri": "https://localhost:8080/"
    },
    "executionInfo": {
     "elapsed": 58,
     "status": "ok",
     "timestamp": 1658204274442,
     "user": {
      "displayName": "한기영",
      "userId": "13049187003176135487"
     },
     "user_tz": -540
    },
    "id": "2BG4BemSyqXx",
    "outputId": "5c2e2589-5c7e-43c9-a7fe-229d4838b1dd"
   },
   "outputs": [
    {
     "data": {
      "text/plain": [
       "array([0.29029292])"
      ]
     },
     "execution_count": 14,
     "metadata": {},
     "output_type": "execute_result"
    }
   ],
   "source": [
    "model.intercept_"
   ]
  },
  {
   "cell_type": "markdown",
   "metadata": {
    "id": "GAepDcwgf25F"
   },
   "source": [
    "### 4) 검증 : 예측"
   ]
  },
  {
   "cell_type": "code",
   "execution_count": 15,
   "metadata": {
    "colab": {
     "base_uri": "https://localhost:8080/"
    },
    "executionInfo": {
     "elapsed": 57,
     "status": "ok",
     "timestamp": 1658204274443,
     "user": {
      "displayName": "한기영",
      "userId": "13049187003176135487"
     },
     "user_tz": -540
    },
    "id": "SVXiJYWSf25F",
    "outputId": "36fe9a1a-0349-410c-aa25-3397f29cc599"
   },
   "outputs": [
    {
     "data": {
      "text/plain": [
       "array([0, 1, 1, 0, 1])"
      ]
     },
     "execution_count": 15,
     "metadata": {},
     "output_type": "execute_result"
    }
   ],
   "source": [
    "pred = model.predict(x_val)\n",
    "pred[:5]"
   ]
  },
  {
   "cell_type": "code",
   "execution_count": 16,
   "metadata": {
    "colab": {
     "base_uri": "https://localhost:8080/"
    },
    "executionInfo": {
     "elapsed": 55,
     "status": "ok",
     "timestamp": 1658204274445,
     "user": {
      "displayName": "한기영",
      "userId": "13049187003176135487"
     },
     "user_tz": -540
    },
    "id": "qKyAhz9BSVoP",
    "outputId": "77865ad6-3291-442c-b274-896fc9bd6f05"
   },
   "outputs": [
    {
     "data": {
      "text/plain": [
       "array([[0.53778096, 0.46221904],\n",
       "       [0.12161976, 0.87838024],\n",
       "       [0.19743578, 0.80256422],\n",
       "       [0.64823043, 0.35176957],\n",
       "       [0.09682389, 0.90317611],\n",
       "       [0.18118737, 0.81881263],\n",
       "       [0.47469524, 0.52530476],\n",
       "       [0.06463323, 0.93536677],\n",
       "       [0.06189442, 0.93810558],\n",
       "       [0.82117553, 0.17882447],\n",
       "       [0.20912946, 0.79087054],\n",
       "       [0.6084938 , 0.3915062 ],\n",
       "       [0.07382243, 0.92617757],\n",
       "       [0.0559035 , 0.9440965 ],\n",
       "       [0.38877698, 0.61122302],\n",
       "       [0.75354302, 0.24645698],\n",
       "       [0.15521385, 0.84478615],\n",
       "       [0.61404182, 0.38595818],\n",
       "       [0.15271438, 0.84728562],\n",
       "       [0.03690082, 0.96309918],\n",
       "       [0.13657294, 0.86342706],\n",
       "       [0.07830425, 0.92169575],\n",
       "       [0.06048993, 0.93951007],\n",
       "       [0.18814454, 0.81185546],\n",
       "       [0.28296879, 0.71703121],\n",
       "       [0.1392285 , 0.8607715 ],\n",
       "       [0.01967367, 0.98032633],\n",
       "       [0.37780704, 0.62219296],\n",
       "       [0.20530802, 0.79469198],\n",
       "       [0.34412027, 0.65587973],\n",
       "       [0.57567882, 0.42432118],\n",
       "       [0.48743804, 0.51256196],\n",
       "       [0.44799793, 0.55200207],\n",
       "       [0.18111536, 0.81888464],\n",
       "       [0.46198467, 0.53801533],\n",
       "       [0.09246719, 0.90753281],\n",
       "       [0.16191783, 0.83808217],\n",
       "       [0.0474167 , 0.9525833 ],\n",
       "       [0.05542439, 0.94457561],\n",
       "       [0.59354791, 0.40645209],\n",
       "       [0.05557861, 0.94442139],\n",
       "       [0.64593564, 0.35406436],\n",
       "       [0.26947557, 0.73052443],\n",
       "       [0.33258006, 0.66741994],\n",
       "       [0.05606231, 0.94393769],\n",
       "       [0.26849339, 0.73150661],\n",
       "       [0.10151049, 0.89848951],\n",
       "       [0.36238675, 0.63761325],\n",
       "       [0.53146699, 0.46853301],\n",
       "       [0.53797034, 0.46202966],\n",
       "       [0.5886804 , 0.4113196 ],\n",
       "       [0.05482426, 0.94517574],\n",
       "       [0.13133674, 0.86866326],\n",
       "       [0.49138944, 0.50861056],\n",
       "       [0.14213248, 0.85786752],\n",
       "       [0.09718201, 0.90281799],\n",
       "       [0.50270874, 0.49729126],\n",
       "       [0.12261309, 0.87738691],\n",
       "       [0.39007802, 0.60992198],\n",
       "       [0.05693205, 0.94306795],\n",
       "       [0.06855093, 0.93144907],\n",
       "       [0.5249825 , 0.4750175 ],\n",
       "       [0.17950484, 0.82049516],\n",
       "       [0.20746484, 0.79253516],\n",
       "       [0.37300969, 0.62699031],\n",
       "       [0.31434233, 0.68565767],\n",
       "       [0.39708121, 0.60291879],\n",
       "       [0.48615865, 0.51384135],\n",
       "       [0.23497091, 0.76502909],\n",
       "       [0.54798411, 0.45201589],\n",
       "       [0.08665729, 0.91334271],\n",
       "       [0.13066149, 0.86933851],\n",
       "       [0.60634574, 0.39365426],\n",
       "       [0.67891469, 0.32108531],\n",
       "       [0.55200054, 0.44799946],\n",
       "       [0.33980241, 0.66019759],\n",
       "       [0.09250908, 0.90749092],\n",
       "       [0.46869886, 0.53130114],\n",
       "       [0.0710042 , 0.9289958 ],\n",
       "       [0.03566424, 0.96433576],\n",
       "       [0.20495453, 0.79504547],\n",
       "       [0.56172302, 0.43827698],\n",
       "       [0.09114431, 0.90885569],\n",
       "       [0.08776396, 0.91223604],\n",
       "       [0.66125626, 0.33874374],\n",
       "       [0.08699597, 0.91300403],\n",
       "       [0.13846411, 0.86153589],\n",
       "       [0.05299951, 0.94700049],\n",
       "       [0.09612928, 0.90387072],\n",
       "       [0.36932773, 0.63067227],\n",
       "       [0.27711074, 0.72288926],\n",
       "       [0.1448933 , 0.8551067 ],\n",
       "       [0.17975932, 0.82024068],\n",
       "       [0.11011535, 0.88988465],\n",
       "       [0.23695974, 0.76304026],\n",
       "       [0.03560385, 0.96439615],\n",
       "       [0.1903063 , 0.8096937 ],\n",
       "       [0.06750193, 0.93249807],\n",
       "       [0.0826702 , 0.9173298 ],\n",
       "       [0.71575678, 0.28424322],\n",
       "       [0.08677821, 0.91322179],\n",
       "       [0.11236147, 0.88763853],\n",
       "       [0.39678679, 0.60321321],\n",
       "       [0.23966267, 0.76033733],\n",
       "       [0.0460658 , 0.9539342 ],\n",
       "       [0.45713658, 0.54286342],\n",
       "       [0.66858266, 0.33141734],\n",
       "       [0.77251401, 0.22748599],\n",
       "       [0.16505634, 0.83494366],\n",
       "       [0.4450399 , 0.5549601 ],\n",
       "       [0.06805235, 0.93194765],\n",
       "       [0.45876002, 0.54123998],\n",
       "       [0.51829578, 0.48170422],\n",
       "       [0.33233654, 0.66766346],\n",
       "       [0.41082888, 0.58917112],\n",
       "       [0.20202237, 0.79797763],\n",
       "       [0.32815356, 0.67184644],\n",
       "       [0.5869584 , 0.4130416 ],\n",
       "       [0.24342321, 0.75657679],\n",
       "       [0.43006984, 0.56993016],\n",
       "       [0.34554881, 0.65445119],\n",
       "       [0.04640658, 0.95359342],\n",
       "       [0.33221122, 0.66778878],\n",
       "       [0.10760557, 0.89239443],\n",
       "       [0.33889493, 0.66110507],\n",
       "       [0.32189412, 0.67810588],\n",
       "       [0.84258045, 0.15741955],\n",
       "       [0.03166813, 0.96833187],\n",
       "       [0.50324635, 0.49675365],\n",
       "       [0.21691286, 0.78308714],\n",
       "       [0.52413449, 0.47586551],\n",
       "       [0.13328769, 0.86671231],\n",
       "       [0.06010391, 0.93989609],\n",
       "       [0.10704993, 0.89295007],\n",
       "       [0.30907784, 0.69092216],\n",
       "       [0.65047497, 0.34952503],\n",
       "       [0.09892207, 0.90107793],\n",
       "       [0.70241255, 0.29758745],\n",
       "       [0.20457512, 0.79542488],\n",
       "       [0.72040677, 0.27959323],\n",
       "       [0.09184569, 0.90815431],\n",
       "       [0.12209375, 0.87790625],\n",
       "       [0.09303041, 0.90696959],\n",
       "       [0.40578803, 0.59421197],\n",
       "       [0.26584859, 0.73415141],\n",
       "       [0.04419579, 0.95580421],\n",
       "       [0.07721754, 0.92278246],\n",
       "       [0.51708412, 0.48291588],\n",
       "       [0.53452523, 0.46547477],\n",
       "       [0.09490834, 0.90509166],\n",
       "       [0.12293334, 0.87706666],\n",
       "       [0.57462924, 0.42537076],\n",
       "       [0.04598244, 0.95401756],\n",
       "       [0.39764884, 0.60235116],\n",
       "       [0.41148401, 0.58851599],\n",
       "       [0.04606399, 0.95393601],\n",
       "       [0.11153084, 0.88846916],\n",
       "       [0.14736413, 0.85263587],\n",
       "       [0.24572397, 0.75427603],\n",
       "       [0.06130497, 0.93869503],\n",
       "       [0.27908424, 0.72091576],\n",
       "       [0.66738641, 0.33261359],\n",
       "       [0.33584677, 0.66415323],\n",
       "       [0.66543973, 0.33456027],\n",
       "       [0.461903  , 0.538097  ],\n",
       "       [0.34823484, 0.65176516],\n",
       "       [0.14461585, 0.85538415],\n",
       "       [0.24209186, 0.75790814],\n",
       "       [0.08591556, 0.91408444],\n",
       "       [0.50615821, 0.49384179],\n",
       "       [0.37762755, 0.62237245],\n",
       "       [0.6253357 , 0.3746643 ],\n",
       "       [0.19789317, 0.80210683],\n",
       "       [0.22886004, 0.77113996],\n",
       "       [0.04667406, 0.95332594],\n",
       "       [0.29207639, 0.70792361],\n",
       "       [0.22405288, 0.77594712],\n",
       "       [0.09946113, 0.90053887],\n",
       "       [0.33748594, 0.66251406],\n",
       "       [0.40706672, 0.59293328],\n",
       "       [0.52444709, 0.47555291],\n",
       "       [0.12956992, 0.87043008],\n",
       "       [0.38693913, 0.61306087],\n",
       "       [0.24003608, 0.75996392],\n",
       "       [0.05240805, 0.94759195],\n",
       "       [0.5992204 , 0.4007796 ],\n",
       "       [0.42351564, 0.57648436],\n",
       "       [0.14135725, 0.85864275],\n",
       "       [0.13886469, 0.86113531],\n",
       "       [0.40179481, 0.59820519],\n",
       "       [0.29671126, 0.70328874],\n",
       "       [0.60658711, 0.39341289],\n",
       "       [0.4251275 , 0.5748725 ],\n",
       "       [0.24548162, 0.75451838],\n",
       "       [0.55157022, 0.44842978],\n",
       "       [0.32650595, 0.67349405],\n",
       "       [0.53977028, 0.46022972],\n",
       "       [0.45754553, 0.54245447],\n",
       "       [0.51040826, 0.48959174],\n",
       "       [0.65285075, 0.34714925],\n",
       "       [0.12496647, 0.87503353],\n",
       "       [0.21014547, 0.78985453],\n",
       "       [0.07491094, 0.92508906],\n",
       "       [0.18369161, 0.81630839],\n",
       "       [0.04777556, 0.95222444],\n",
       "       [0.6591224 , 0.3408776 ],\n",
       "       [0.09154782, 0.90845218],\n",
       "       [0.4981585 , 0.5018415 ],\n",
       "       [0.24676667, 0.75323333],\n",
       "       [0.48298836, 0.51701164],\n",
       "       [0.05964377, 0.94035623],\n",
       "       [0.14948859, 0.85051141],\n",
       "       [0.50225837, 0.49774163],\n",
       "       [0.26666039, 0.73333961],\n",
       "       [0.29482282, 0.70517718],\n",
       "       [0.64044232, 0.35955768],\n",
       "       [0.15442876, 0.84557124],\n",
       "       [0.46235659, 0.53764341],\n",
       "       [0.36359393, 0.63640607],\n",
       "       [0.31705632, 0.68294368],\n",
       "       [0.3736913 , 0.6263087 ],\n",
       "       [0.27821161, 0.72178839],\n",
       "       [0.54595771, 0.45404229],\n",
       "       [0.23523423, 0.76476577],\n",
       "       [0.21873695, 0.78126305],\n",
       "       [0.10258617, 0.89741383],\n",
       "       [0.11748298, 0.88251702],\n",
       "       [0.03506458, 0.96493542],\n",
       "       [0.57334935, 0.42665065],\n",
       "       [0.23973186, 0.76026814],\n",
       "       [0.34796847, 0.65203153],\n",
       "       [0.63383783, 0.36616217],\n",
       "       [0.32998164, 0.67001836],\n",
       "       [0.2561294 , 0.7438706 ],\n",
       "       [0.06096968, 0.93903032],\n",
       "       [0.38209165, 0.61790835],\n",
       "       [0.09769714, 0.90230286],\n",
       "       [0.10806027, 0.89193973],\n",
       "       [0.39546854, 0.60453146],\n",
       "       [0.3821843 , 0.6178157 ],\n",
       "       [0.36860684, 0.63139316],\n",
       "       [0.07685329, 0.92314671],\n",
       "       [0.38134802, 0.61865198],\n",
       "       [0.12244955, 0.87755045],\n",
       "       [0.49301046, 0.50698954],\n",
       "       [0.16273552, 0.83726448],\n",
       "       [0.77821169, 0.22178831],\n",
       "       [0.35503967, 0.64496033],\n",
       "       [0.19796278, 0.80203722],\n",
       "       [0.51271938, 0.48728062],\n",
       "       [0.34307075, 0.65692925],\n",
       "       [0.58440229, 0.41559771],\n",
       "       [0.73590975, 0.26409025],\n",
       "       [0.03701591, 0.96298409],\n",
       "       [0.40282993, 0.59717007],\n",
       "       [0.04173564, 0.95826436],\n",
       "       [0.16160096, 0.83839904],\n",
       "       [0.3822745 , 0.6177255 ],\n",
       "       [0.04223056, 0.95776944],\n",
       "       [0.06936298, 0.93063702],\n",
       "       [0.31065409, 0.68934591],\n",
       "       [0.44828165, 0.55171835],\n",
       "       [0.10012251, 0.89987749],\n",
       "       [0.08315447, 0.91684553],\n",
       "       [0.38781771, 0.61218229],\n",
       "       [0.3647549 , 0.6352451 ],\n",
       "       [0.04604315, 0.95395685],\n",
       "       [0.16554966, 0.83445034],\n",
       "       [0.12693241, 0.87306759],\n",
       "       [0.35215522, 0.64784478],\n",
       "       [0.16433998, 0.83566002],\n",
       "       [0.02946063, 0.97053937],\n",
       "       [0.0437327 , 0.9562673 ],\n",
       "       [0.37633876, 0.62366124],\n",
       "       [0.11140701, 0.88859299],\n",
       "       [0.59534513, 0.40465487],\n",
       "       [0.38207463, 0.61792537],\n",
       "       [0.06085114, 0.93914886],\n",
       "       [0.10221058, 0.89778942],\n",
       "       [0.16104049, 0.83895951],\n",
       "       [0.46889633, 0.53110367],\n",
       "       [0.11212325, 0.88787675],\n",
       "       [0.44215872, 0.55784128],\n",
       "       [0.06997453, 0.93002547],\n",
       "       [0.06432367, 0.93567633],\n",
       "       [0.10771853, 0.89228147],\n",
       "       [0.24399154, 0.75600846],\n",
       "       [0.29411521, 0.70588479],\n",
       "       [0.71817839, 0.28182161],\n",
       "       [0.25561848, 0.74438152],\n",
       "       [0.51866032, 0.48133968],\n",
       "       [0.07404936, 0.92595064],\n",
       "       [0.11935993, 0.88064007],\n",
       "       [0.35506275, 0.64493725],\n",
       "       [0.04257108, 0.95742892],\n",
       "       [0.09068588, 0.90931412],\n",
       "       [0.15836595, 0.84163405],\n",
       "       [0.1886322 , 0.8113678 ],\n",
       "       [0.1614964 , 0.8385036 ],\n",
       "       [0.12271365, 0.87728635]])"
      ]
     },
     "execution_count": 16,
     "metadata": {},
     "output_type": "execute_result"
    }
   ],
   "source": [
    "# 확률값으로 예측값을 저장하고 싶다면...\n",
    "pred_prob = model.predict_proba(x_val)\n",
    "pred_prob"
   ]
  },
  {
   "cell_type": "markdown",
   "metadata": {
    "id": "bEk9nMg5f25F"
   },
   "source": [
    "### 5) 검증 : 평가"
   ]
  },
  {
   "cell_type": "code",
   "execution_count": 17,
   "metadata": {
    "colab": {
     "base_uri": "https://localhost:8080/"
    },
    "executionInfo": {
     "elapsed": 53,
     "status": "ok",
     "timestamp": 1658204274446,
     "user": {
      "displayName": "한기영",
      "userId": "13049187003176135487"
     },
     "user_tz": -540
    },
    "id": "JsaPuPXEf25F",
    "outputId": "c5bfe1b8-0c30-440d-a983-d61ebafdfd19"
   },
   "outputs": [
    {
     "data": {
      "text/plain": [
       "0.73"
      ]
     },
     "execution_count": 17,
     "metadata": {},
     "output_type": "execute_result"
    }
   ],
   "source": [
    "accuracy_score(y_val, pred   )"
   ]
  },
  {
   "cell_type": "markdown",
   "metadata": {
    "id": "EcooiW9MozGD"
   },
   "source": [
    "## 40.분류 모델 평가"
   ]
  },
  {
   "cell_type": "markdown",
   "metadata": {
    "id": "-DP66slJya5t"
   },
   "source": [
    "### 1) Confusion Matrix\n",
    "https://en.wikipedia.org/wiki/Confusion_matrix"
   ]
  },
  {
   "cell_type": "code",
   "execution_count": 18,
   "metadata": {
    "colab": {
     "base_uri": "https://localhost:8080/"
    },
    "executionInfo": {
     "elapsed": 327,
     "status": "ok",
     "timestamp": 1658204544477,
     "user": {
      "displayName": "한기영",
      "userId": "13049187003176135487"
     },
     "user_tz": -540
    },
    "id": "tj-pooFzx8jk",
    "outputId": "b49bf20f-ba31-40b9-9400-6cb8f7bfc805"
   },
   "outputs": [
    {
     "data": {
      "text/plain": [
       "array([[ 40,  63],\n",
       "       [ 18, 179]])"
      ]
     },
     "execution_count": 18,
     "metadata": {},
     "output_type": "execute_result"
    }
   ],
   "source": [
    "confusion_matrix( y_val, pred)"
   ]
  },
  {
   "cell_type": "markdown",
   "metadata": {
    "id": "_GR-ztzAzYIH"
   },
   "source": [
    "### 2) classification_report\n",
    "* 분류문제 평가지표 종합판\n",
    "* print 문으로 결과를 출력해야 제대로 보임."
   ]
  },
  {
   "cell_type": "code",
   "execution_count": 19,
   "metadata": {
    "colab": {
     "base_uri": "https://localhost:8080/",
     "height": 72
    },
    "executionInfo": {
     "elapsed": 328,
     "status": "ok",
     "timestamp": 1658204691257,
     "user": {
      "displayName": "한기영",
      "userId": "13049187003176135487"
     },
     "user_tz": -540
    },
    "id": "ur8J_gPyr2VA",
    "outputId": "ae7cc1ba-3d35-470f-89c3-e9d1c1ff0211"
   },
   "outputs": [
    {
     "data": {
      "application/vnd.google.colaboratory.intrinsic+json": {
       "type": "string"
      },
      "text/plain": [
       "'              precision    recall  f1-score   support\\n\\n           0       0.69      0.39      0.50       103\\n           1       0.74      0.91      0.82       197\\n\\n    accuracy                           0.73       300\\n   macro avg       0.71      0.65      0.66       300\\nweighted avg       0.72      0.73      0.71       300\\n'"
      ]
     },
     "execution_count": 19,
     "metadata": {},
     "output_type": "execute_result"
    }
   ],
   "source": [
    "classification_report(y_val, pred)"
   ]
  },
  {
   "cell_type": "code",
   "execution_count": 20,
   "metadata": {
    "colab": {
     "base_uri": "https://localhost:8080/"
    },
    "executionInfo": {
     "elapsed": 315,
     "status": "ok",
     "timestamp": 1658204700457,
     "user": {
      "displayName": "한기영",
      "userId": "13049187003176135487"
     },
     "user_tz": -540
    },
    "id": "yMzgMkHix8hH",
    "outputId": "195bf3cf-8928-4676-c18a-a1330f4cfe3c"
   },
   "outputs": [
    {
     "name": "stdout",
     "output_type": "stream",
     "text": [
      "              precision    recall  f1-score   support\n",
      "\n",
      "           0       0.69      0.39      0.50       103\n",
      "           1       0.74      0.91      0.82       197\n",
      "\n",
      "    accuracy                           0.73       300\n",
      "   macro avg       0.71      0.65      0.66       300\n",
      "weighted avg       0.72      0.73      0.71       300\n",
      "\n"
     ]
    }
   ],
   "source": [
    "print(classification_report(y_val, pred))"
   ]
  },
  {
   "cell_type": "markdown",
   "metadata": {
    "id": "zcwWLQcmzlRx"
   },
   "source": [
    "### 3) accuracy_score, precision_score, recall_score, f1_score\n",
    "* 개별 평가지표 도출\n",
    "* https://scikit-learn.org/stable/modules/generated/sklearn.metrics.precision_score.html"
   ]
  },
  {
   "cell_type": "code",
   "execution_count": 21,
   "metadata": {
    "colab": {
     "base_uri": "https://localhost:8080/"
    },
    "executionInfo": {
     "elapsed": 336,
     "status": "ok",
     "timestamp": 1658205148932,
     "user": {
      "displayName": "한기영",
      "userId": "13049187003176135487"
     },
     "user_tz": -540
    },
    "id": "WBcNHiSax8bP",
    "outputId": "6c990c05-5f8e-4422-977d-c145743a95d5"
   },
   "outputs": [
    {
     "data": {
      "text/plain": [
       "0.7396694214876033"
      ]
     },
     "execution_count": 21,
     "metadata": {},
     "output_type": "execute_result"
    }
   ],
   "source": [
    "precision_score(y_val, pred)"
   ]
  },
  {
   "cell_type": "code",
   "execution_count": 22,
   "metadata": {
    "colab": {
     "base_uri": "https://localhost:8080/"
    },
    "executionInfo": {
     "elapsed": 366,
     "status": "ok",
     "timestamp": 1658205168691,
     "user": {
      "displayName": "한기영",
      "userId": "13049187003176135487"
     },
     "user_tz": -540
    },
    "id": "hTiu8FA2x8Xv",
    "outputId": "f4c9ead1-fcbd-4142-b0d6-7c3a993dd98f"
   },
   "outputs": [
    {
     "data": {
      "text/plain": [
       "0.6896551724137931"
      ]
     },
     "execution_count": 22,
     "metadata": {},
     "output_type": "execute_result"
    }
   ],
   "source": [
    "precision_score(y_val, pred, pos_label = 0)"
   ]
  },
  {
   "cell_type": "code",
   "execution_count": 23,
   "metadata": {
    "colab": {
     "base_uri": "https://localhost:8080/"
    },
    "executionInfo": {
     "elapsed": 332,
     "status": "ok",
     "timestamp": 1658205172274,
     "user": {
      "displayName": "한기영",
      "userId": "13049187003176135487"
     },
     "user_tz": -540
    },
    "id": "HkUvsor2tQ5X",
    "outputId": "81063cf2-3183-4f47-b2fd-304e9873244d"
   },
   "outputs": [
    {
     "data": {
      "text/plain": [
       "0.9086294416243654"
      ]
     },
     "execution_count": 23,
     "metadata": {},
     "output_type": "execute_result"
    }
   ],
   "source": [
    "recall_score(y_val, pred)"
   ]
  },
  {
   "cell_type": "code",
   "execution_count": 24,
   "metadata": {
    "colab": {
     "base_uri": "https://localhost:8080/"
    },
    "executionInfo": {
     "elapsed": 2,
     "status": "ok",
     "timestamp": 1658205173322,
     "user": {
      "displayName": "한기영",
      "userId": "13049187003176135487"
     },
     "user_tz": -540
    },
    "id": "2DbHvnTktYKe",
    "outputId": "e893aa55-7940-478e-c20f-4acf7a7ea5f1"
   },
   "outputs": [
    {
     "data": {
      "text/plain": [
       "0.3883495145631068"
      ]
     },
     "execution_count": 24,
     "metadata": {},
     "output_type": "execute_result"
    }
   ],
   "source": [
    "recall_score(y_val, pred, pos_label = 0)"
   ]
  },
  {
   "cell_type": "code",
   "execution_count": 25,
   "metadata": {
    "colab": {
     "base_uri": "https://localhost:8080/"
    },
    "executionInfo": {
     "elapsed": 413,
     "status": "ok",
     "timestamp": 1658205177474,
     "user": {
      "displayName": "한기영",
      "userId": "13049187003176135487"
     },
     "user_tz": -540
    },
    "id": "iaITjeHCtbvW",
    "outputId": "7e60eaf4-af00-4c96-8b17-3c64080e55b4"
   },
   "outputs": [
    {
     "data": {
      "text/plain": [
       "0.815489749430524"
      ]
     },
     "execution_count": 25,
     "metadata": {},
     "output_type": "execute_result"
    }
   ],
   "source": [
    "f1_score(y_val, pred)"
   ]
  },
  {
   "cell_type": "code",
   "execution_count": 26,
   "metadata": {
    "colab": {
     "base_uri": "https://localhost:8080/"
    },
    "executionInfo": {
     "elapsed": 3,
     "status": "ok",
     "timestamp": 1658205179075,
     "user": {
      "displayName": "한기영",
      "userId": "13049187003176135487"
     },
     "user_tz": -540
    },
    "id": "ikrDORaPtfWS",
    "outputId": "cfa34f8c-68da-406b-9370-822c3977f4b2"
   },
   "outputs": [
    {
     "data": {
      "text/plain": [
       "0.49689440993788825"
      ]
     },
     "execution_count": 26,
     "metadata": {},
     "output_type": "execute_result"
    }
   ],
   "source": [
    "f1_score(y_val, pred, pos_label = 0)"
   ]
  },
  {
   "cell_type": "code",
   "execution_count": null,
   "metadata": {
    "id": "rowxvV0tuwi0"
   },
   "outputs": [],
   "source": []
  }
 ],
 "metadata": {
  "colab": {
   "collapsed_sections": [
    "WpJEGpUuuVWm",
    "MXUC5Yi3um81"
   ],
   "name": "35. Classification_LogisticRegression_참조.ipynb",
   "provenance": [],
   "toc_visible": true
  },
  "kernelspec": {
   "display_name": "Python 3 (ipykernel)",
   "language": "python",
   "name": "python3"
  },
  "language_info": {
   "codemirror_mode": {
    "name": "ipython",
    "version": 3
   },
   "file_extension": ".py",
   "mimetype": "text/x-python",
   "name": "python",
   "nbconvert_exporter": "python",
   "pygments_lexer": "ipython3",
   "version": "3.10.9"
  }
 },
 "nbformat": 4,
 "nbformat_minor": 4
}
