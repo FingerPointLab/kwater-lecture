{
 "cells": [
  {
   "cell_type": "markdown",
   "metadata": {
    "id": "cVB9pY-v8uv5"
   },
   "source": [
    "# Regression : KNN"
   ]
  },
  {
   "cell_type": "markdown",
   "metadata": {
    "id": "jnCv9u_Wy9e1"
   },
   "source": [
    "## 00 환경준비"
   ]
  },
  {
   "cell_type": "markdown",
   "metadata": {
    "id": "O1uL0UIEzBPw"
   },
   "source": [
    "### 1) Import"
   ]
  },
  {
   "cell_type": "code",
   "execution_count": null,
   "metadata": {
    "id": "GVvCef6A8uv6"
   },
   "outputs": [],
   "source": [
    "#라이브러리들을 불러오자.\n",
    "import numpy as np\n",
    "import pandas as pd\n",
    "import matplotlib.pyplot as plt\n",
    "import seaborn as sns\n",
    "\n",
    "from sklearn.model_selection import train_test_split"
   ]
  },
  {
   "cell_type": "markdown",
   "metadata": {
    "id": "VHy5s1OOzItm"
   },
   "source": [
    "### 2) Data Loading"
   ]
  },
  {
   "cell_type": "code",
   "execution_count": null,
   "metadata": {
    "id": "3GgFpOB4zQ7h"
   },
   "outputs": [],
   "source": [
    "path = 'https://raw.githubusercontent.com/DA4BAM/dataset/master/boston.csv'\n",
    "data = pd.read_csv(path)\n",
    "data.head()"
   ]
  },
  {
   "cell_type": "markdown",
   "metadata": {
    "id": "W07fwF8zeix4"
   },
   "source": [
    "|\t변수\t|\t설명\t|\n",
    "|\t----\t|\t----\t|\n",
    "|\tmedv\t|\t타운별 집값(중위수)\t|\n",
    "|\tcrim\t|\t범죄율\t|\n",
    "|\tzn\t|\t25,000 평방피트를 초과 거주지역 비율\t|\n",
    "|\tindus\t|\t비소매상업지역 면적 비율\t|\n",
    "|\tchas\t|\t찰스강변 위치(범주 : 강변1, 아니면 0)\t|\n",
    "|\tnox\t|\t일산화질소 농도\t|\n",
    "|\trm\t|\t주택당 방 수\t|\n",
    "|\tage\t|\t1940년 이전에 건축된 주택의 비율\t|\n",
    "|\tdis\t|\t직업센터의 거리\t|\n",
    "|\trad\t|\t방사형 고속도로까지의 거리\t|\n",
    "|\ttax\t|\t재산세율\t|\n",
    "|\tptratio\t|\t학생/교사 비율\t|\n",
    "|\tblack\t|\t인구 중 흑인 비율\t|\n",
    "|\tlstat\t|\t인구 중 하위 계층 비율\t|\n"
   ]
  },
  {
   "cell_type": "markdown",
   "metadata": {
    "id": "xpqiW66oSSI3"
   },
   "source": [
    "## 10.데이터 이해"
   ]
  },
  {
   "cell_type": "markdown",
   "metadata": {
    "id": "u-gRWOmeSSI4"
   },
   "source": [
    "### 1)둘러보기"
   ]
  },
  {
   "cell_type": "markdown",
   "metadata": {
    "id": "V_1fIt9qSSI5"
   },
   "source": [
    "## 20.데이터 준비"
   ]
  },
  {
   "cell_type": "markdown",
   "metadata": {
    "id": "y9Q6jR6OZjUk"
   },
   "source": [
    "### 1) 데이터 준비"
   ]
  },
  {
   "cell_type": "code",
   "execution_count": null,
   "metadata": {
    "id": "xkc_d-sFCMBo"
   },
   "outputs": [],
   "source": [
    "data.head()"
   ]
  },
  {
   "cell_type": "code",
   "execution_count": null,
   "metadata": {
    "id": "FA-PnUpcLqXN"
   },
   "outputs": [],
   "source": [
    "target = 'medv'\n",
    "x = data.drop(target, axis=1)\n",
    "y = data.loc[:, target]\n",
    "x_train, x_val, y_train, y_val = train_test_split(x, y, test_size=.2\n",
    "                                                  , random_state = 2022)"
   ]
  },
  {
   "cell_type": "markdown",
   "metadata": {
    "id": "WpJEGpUuuVWm"
   },
   "source": [
    "### 2) 변수정리"
   ]
  },
  {
   "cell_type": "markdown",
   "metadata": {
    "id": "mp_5volyuaA1"
   },
   "source": [
    "### 3) NA 조치"
   ]
  },
  {
   "cell_type": "markdown",
   "metadata": {
    "id": "nOF9fSLQugGf"
   },
   "source": [
    "### 4) 가변수화"
   ]
  },
  {
   "cell_type": "markdown",
   "metadata": {
    "id": "MXUC5Yi3um81"
   },
   "source": [
    "### 5) Scaling\n",
    "KNN 알고리즘을 적용하기 위해서는 스케일링을 해야 합니다."
   ]
  },
  {
   "cell_type": "code",
   "execution_count": null,
   "metadata": {
    "id": "RuDcjwhwSo5y"
   },
   "outputs": [],
   "source": [
    "from sklearn.preprocessing import MinMaxScaler\n",
    "\n",
    "scaler = MinMaxScaler()\n",
    "x_train = scaler.fit_transform(x_train)\n",
    "x_val = scaler.transform(x_val)"
   ]
  },
  {
   "cell_type": "code",
   "execution_count": null,
   "metadata": {
    "id": "t6qjWXE3Prtd"
   },
   "outputs": [],
   "source": [
    "from sklearn.preprocessing import StandardScaler\n",
    "\n",
    "scaler2 = StandardScaler()\n",
    "x_train_s2 = scaler2.fit_transform(x_train)\n",
    "x_val_s2 = scaler2.transform(x_val)"
   ]
  },
  {
   "cell_type": "code",
   "execution_count": null,
   "metadata": {
    "id": "wbJ-rUg_P8KS"
   },
   "outputs": [],
   "source": [
    "x_train = pd.DataFrame(x_train, columns = list(x))\n",
    "x_train_s2 = pd.DataFrame(x_train_s2, columns = list(x))"
   ]
  },
  {
   "cell_type": "code",
   "execution_count": null,
   "metadata": {
    "id": "-7YX4ni_QoPx"
   },
   "outputs": [],
   "source": [
    "x.describe()"
   ]
  },
  {
   "cell_type": "code",
   "execution_count": null,
   "metadata": {
    "id": "6aO4aujBQYAH"
   },
   "outputs": [],
   "source": [
    "x_train.describe()"
   ]
  },
  {
   "cell_type": "code",
   "execution_count": null,
   "metadata": {
    "id": "MkTeVbCxQahI"
   },
   "outputs": [],
   "source": [
    "x_train_s2.describe()"
   ]
  },
  {
   "cell_type": "markdown",
   "metadata": {
    "id": "3GDFVsJsSSI6"
   },
   "source": [
    "## 30.모델링"
   ]
  },
  {
   "cell_type": "markdown",
   "metadata": {
    "id": "dLQUfllkSSI6"
   },
   "source": [
    "### 1)import"
   ]
  },
  {
   "cell_type": "code",
   "execution_count": null,
   "metadata": {
    "id": "OQ0kkBXTSSI6"
   },
   "outputs": [],
   "source": [
    "# 모델링용\n",
    "from sklearn.neighbors import KNeighborsRegressor    \n",
    "\n",
    "# 회귀모델 평가용\n",
    "from sklearn.metrics import * "
   ]
  },
  {
   "cell_type": "markdown",
   "metadata": {
    "id": "G9oGL7HRSSI6"
   },
   "source": [
    "### 2) 모델선언"
   ]
  },
  {
   "cell_type": "code",
   "execution_count": null,
   "metadata": {
    "id": "ihDs2KKFSSI7"
   },
   "outputs": [],
   "source": [
    "model = KNeighborsRegressor(n_neighbors = 3)"
   ]
  },
  {
   "cell_type": "markdown",
   "metadata": {
    "id": "G4W7T4RASSI7"
   },
   "source": [
    "### 3) 모델링(학습)"
   ]
  },
  {
   "cell_type": "code",
   "execution_count": null,
   "metadata": {
    "id": "DULJ5DQVSSI7"
   },
   "outputs": [],
   "source": [
    "model.fit(x_train, y_train)"
   ]
  },
  {
   "cell_type": "markdown",
   "metadata": {
    "id": "nPYNqyI3SSI7"
   },
   "source": [
    "### 4) 검증 : 예측"
   ]
  },
  {
   "cell_type": "code",
   "execution_count": null,
   "metadata": {
    "id": "9zS5iDSpSSI7"
   },
   "outputs": [],
   "source": [
    "pred = model.predict(x_val)"
   ]
  },
  {
   "cell_type": "markdown",
   "metadata": {
    "id": "abZaORvtSSI7"
   },
   "source": [
    "### 5) 검증 : 평가"
   ]
  },
  {
   "cell_type": "code",
   "execution_count": null,
   "metadata": {
    "id": "EZ2-QrlDSSI7"
   },
   "outputs": [],
   "source": [
    "# MSE\n",
    "mean_squared_error( y_val, pred   )"
   ]
  },
  {
   "cell_type": "code",
   "execution_count": null,
   "metadata": {
    "id": "jpOB4fla6HH7"
   },
   "outputs": [],
   "source": [
    "# RMSE\n",
    "mean_squared_error(y_val, pred, squared=False)"
   ]
  },
  {
   "cell_type": "code",
   "execution_count": null,
   "metadata": {
    "id": "8n3pKTe8FcZ0"
   },
   "outputs": [],
   "source": [
    "# MAE\n",
    "mean_absolute_error(y_val, pred )"
   ]
  },
  {
   "cell_type": "code",
   "execution_count": null,
   "metadata": {
    "id": "TnTzrICJSJsA"
   },
   "outputs": [],
   "source": [
    "# MAPE : 평균 오차율\n",
    "mean_absolute_percentage_error(y_val, pred )"
   ]
  },
  {
   "cell_type": "code",
   "execution_count": null,
   "metadata": {
    "id": "u10zTUo2TE9T"
   },
   "outputs": [],
   "source": [
    "# 1 - MAPE : 정확도\n",
    "1 - mean_absolute_percentage_error(y_val, pred )"
   ]
  },
  {
   "cell_type": "markdown",
   "metadata": {
    "id": "dPODQ7HBgpU8"
   },
   "source": [
    "## 40.KNN의 Hyper Parameter\n",
    "\n",
    "https://scikit-learn.org/stable/modules/generated/sklearn.neighbors.KNeighborsClassifier.html"
   ]
  },
  {
   "cell_type": "markdown",
   "metadata": {
    "id": "QuXpKpZug8av"
   },
   "source": [
    "* n_neighbors : k 의 갯수. k가 달라지면 예측결과도 달라고, 성능도 달라집니다!\n",
    "* metric : 거리계산 방식.\n",
    "    * euclidean : 유클리디안 거리 :  sqrt(a^2 + b^2)\n",
    "    * manhattan : 맨하탄거리 : a + b\n",
    "    * minkowski : 위 두가지 거리계산법에 대한 일반화 식"
   ]
  },
  {
   "cell_type": "code",
   "execution_count": null,
   "metadata": {
    "id": "-tR_DD5lgs6g"
   },
   "outputs": [],
   "source": [
    "# 하이퍼파라미터를 지정하여 모델을 생성하고 검증해 봅시다.\n",
    "# n_neighbors, metric"
   ]
  },
  {
   "cell_type": "code",
   "execution_count": null,
   "metadata": {
    "id": "uBb1JWqTXdiP"
   },
   "outputs": [],
   "source": [
    "# model1 : n_neighbors = 10, metric = 'euclidean'\n",
    "model1 = KNeighborsRegressor(n_neighbors = 10, metric = 'euclidean')\n",
    "model1.fit(x_train, y_train)\n",
    "pred1 = model1.predict(x_val)"
   ]
  },
  {
   "cell_type": "code",
   "execution_count": null,
   "metadata": {
    "id": "M265ZFijYZle"
   },
   "outputs": [],
   "source": [
    "# model1 : n_neighbors = 10, metric = 'manhattan'\n",
    "model2 = KNeighborsRegressor(n_neighbors = 10, metric = 'manhattan')\n",
    "model2.fit(x_train, y_train)\n",
    "pred2 = model2.predict(x_val)"
   ]
  },
  {
   "cell_type": "code",
   "execution_count": null,
   "metadata": {
    "id": "thsY0_1IYnK7"
   },
   "outputs": [],
   "source": [
    "print(f'metric = euclidean : rmse {mean_squared_error(y_val, pred1, squared = False)}')\n",
    "print(f'metric = manhattan : rmse {mean_squared_error(y_val, pred2, squared = False)}')"
   ]
  },
  {
   "cell_type": "code",
   "execution_count": null,
   "metadata": {
    "id": "UYdVJvCxYsff"
   },
   "outputs": [],
   "source": [
    "print(f'metric = euclidean : mae {mean_absolute_error(y_val, pred1)}')\n",
    "print(f'metric = manhattan : mae {mean_absolute_error(y_val, pred2)}')"
   ]
  },
  {
   "cell_type": "code",
   "execution_count": null,
   "metadata": {
    "id": "tt5AEmKNYs57"
   },
   "outputs": [],
   "source": [
    "print(f'metric = euclidean : mape {mean_absolute_percentage_error(y_val, pred1)}')\n",
    "print(f'metric = manhattan : mape {mean_absolute_percentage_error(y_val, pred2)}')"
   ]
  },
  {
   "cell_type": "code",
   "execution_count": null,
   "metadata": {
    "id": "WyDxSG9sZDTp"
   },
   "outputs": [],
   "source": []
  }
 ],
 "metadata": {
  "colab": {
   "collapsed_sections": [],
   "name": "33. Regression_knn.ipynb",
   "provenance": [],
   "toc_visible": true
  },
  "kernelspec": {
   "display_name": "Python 3 (ipykernel)",
   "language": "python",
   "name": "python3"
  },
  "language_info": {
   "codemirror_mode": {
    "name": "ipython",
    "version": 3
   },
   "file_extension": ".py",
   "mimetype": "text/x-python",
   "name": "python",
   "nbconvert_exporter": "python",
   "pygments_lexer": "ipython3",
   "version": "3.10.9"
  }
 },
 "nbformat": 4,
 "nbformat_minor": 4
}
